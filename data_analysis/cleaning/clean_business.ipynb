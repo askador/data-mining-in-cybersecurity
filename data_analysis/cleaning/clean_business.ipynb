{
 "cells": [
  {
   "cell_type": "code",
   "execution_count": 1,
   "metadata": {},
   "outputs": [],
   "source": [
    "from pathlib import Path\n",
    "import sys\n",
    "import pandas as pd\n",
    "import matplotlib.pyplot as plt\n",
    "import seaborn as sns\n",
    "from data.paths.parquet_paths import BUSINESS"
   ]
  },
  {
   "cell_type": "code",
   "execution_count": 2,
   "metadata": {},
   "outputs": [
    {
     "name": "stdout",
     "output_type": "stream",
     "text": [
      "<class 'pandas.core.frame.DataFrame'>\n",
      "RangeIndex: 10000 entries, 0 to 9999\n",
      "Data columns (total 14 columns):\n",
      " #   Column        Non-Null Count  Dtype  \n",
      "---  ------        --------------  -----  \n",
      " 0   business_id   10000 non-null  object \n",
      " 1   name          10000 non-null  object \n",
      " 2   address       10000 non-null  object \n",
      " 3   attributes    8590 non-null   object \n",
      " 4   city          10000 non-null  object \n",
      " 5   state         10000 non-null  object \n",
      " 6   postal_code   10000 non-null  object \n",
      " 7   latitude      10000 non-null  float32\n",
      " 8   longitude     10000 non-null  float32\n",
      " 9   stars         10000 non-null  float32\n",
      " 10  review_count  10000 non-null  int32  \n",
      " 11  is_open       10000 non-null  int32  \n",
      " 12  categories    10000 non-null  object \n",
      " 13  hours         7716 non-null   object \n",
      "dtypes: float32(3), int32(2), object(9)\n",
      "memory usage: 898.6+ KB\n"
     ]
    }
   ],
   "source": [
    "business_df = pd.read_parquet(str(BUSINESS))\n",
    "business_df.info()"
   ]
  },
  {
   "cell_type": "code",
   "execution_count": 3,
   "metadata": {},
   "outputs": [
    {
     "data": {
      "text/plain": [
       "business_id        0\n",
       "name               0\n",
       "address            0\n",
       "attributes      1410\n",
       "city               0\n",
       "state              0\n",
       "postal_code        0\n",
       "latitude           0\n",
       "longitude          0\n",
       "stars              0\n",
       "review_count       0\n",
       "is_open            0\n",
       "categories         0\n",
       "hours           2284\n",
       "dtype: int64"
      ]
     },
     "execution_count": 3,
     "metadata": {},
     "output_type": "execute_result"
    }
   ],
   "source": [
    "business_df.isna().sum()"
   ]
  },
  {
   "cell_type": "code",
   "execution_count": 4,
   "metadata": {},
   "outputs": [],
   "source": [
    "business_df['business_id'].is_unique\n",
    "business_df = business_df.set_index('business_id')"
   ]
  },
  {
   "cell_type": "code",
   "execution_count": 5,
   "metadata": {},
   "outputs": [
    {
     "data": {
      "text/html": [
       "<div>\n",
       "<style scoped>\n",
       "    .dataframe tbody tr th:only-of-type {\n",
       "        vertical-align: middle;\n",
       "    }\n",
       "\n",
       "    .dataframe tbody tr th {\n",
       "        vertical-align: top;\n",
       "    }\n",
       "\n",
       "    .dataframe thead th {\n",
       "        text-align: right;\n",
       "    }\n",
       "</style>\n",
       "<table border=\"1\" class=\"dataframe\">\n",
       "  <thead>\n",
       "    <tr style=\"text-align: right;\">\n",
       "      <th></th>\n",
       "      <th>stars</th>\n",
       "      <th>review_count</th>\n",
       "    </tr>\n",
       "  </thead>\n",
       "  <tbody>\n",
       "    <tr>\n",
       "      <th>count</th>\n",
       "      <td>10000.00000</td>\n",
       "      <td>10000.000000</td>\n",
       "    </tr>\n",
       "    <tr>\n",
       "      <th>mean</th>\n",
       "      <td>3.55045</td>\n",
       "      <td>35.067600</td>\n",
       "    </tr>\n",
       "    <tr>\n",
       "      <th>std</th>\n",
       "      <td>1.01852</td>\n",
       "      <td>103.118055</td>\n",
       "    </tr>\n",
       "    <tr>\n",
       "      <th>min</th>\n",
       "      <td>1.00000</td>\n",
       "      <td>3.000000</td>\n",
       "    </tr>\n",
       "    <tr>\n",
       "      <th>25%</th>\n",
       "      <td>3.00000</td>\n",
       "      <td>4.000000</td>\n",
       "    </tr>\n",
       "    <tr>\n",
       "      <th>50%</th>\n",
       "      <td>3.50000</td>\n",
       "      <td>9.000000</td>\n",
       "    </tr>\n",
       "    <tr>\n",
       "      <th>75%</th>\n",
       "      <td>4.50000</td>\n",
       "      <td>26.000000</td>\n",
       "    </tr>\n",
       "    <tr>\n",
       "      <th>max</th>\n",
       "      <td>5.00000</td>\n",
       "      <td>4138.000000</td>\n",
       "    </tr>\n",
       "  </tbody>\n",
       "</table>\n",
       "</div>"
      ],
      "text/plain": [
       "             stars  review_count\n",
       "count  10000.00000  10000.000000\n",
       "mean       3.55045     35.067600\n",
       "std        1.01852    103.118055\n",
       "min        1.00000      3.000000\n",
       "25%        3.00000      4.000000\n",
       "50%        3.50000      9.000000\n",
       "75%        4.50000     26.000000\n",
       "max        5.00000   4138.000000"
      ]
     },
     "execution_count": 5,
     "metadata": {},
     "output_type": "execute_result"
    }
   ],
   "source": [
    "business_df[['stars', 'review_count']].describe()"
   ]
  },
  {
   "cell_type": "code",
   "execution_count": 6,
   "metadata": {},
   "outputs": [
    {
     "data": {
      "text/html": [
       "<div>\n",
       "<style scoped>\n",
       "    .dataframe tbody tr th:only-of-type {\n",
       "        vertical-align: middle;\n",
       "    }\n",
       "\n",
       "    .dataframe tbody tr th {\n",
       "        vertical-align: top;\n",
       "    }\n",
       "\n",
       "    .dataframe thead th {\n",
       "        text-align: right;\n",
       "    }\n",
       "</style>\n",
       "<table border=\"1\" class=\"dataframe\">\n",
       "  <thead>\n",
       "    <tr style=\"text-align: right;\">\n",
       "      <th></th>\n",
       "      <th>name</th>\n",
       "      <th>address</th>\n",
       "      <th>attributes</th>\n",
       "      <th>city</th>\n",
       "      <th>state</th>\n",
       "      <th>postal_code</th>\n",
       "      <th>latitude</th>\n",
       "      <th>longitude</th>\n",
       "      <th>stars</th>\n",
       "      <th>review_count</th>\n",
       "      <th>is_open</th>\n",
       "      <th>categories</th>\n",
       "      <th>hours</th>\n",
       "    </tr>\n",
       "    <tr>\n",
       "      <th>business_id</th>\n",
       "      <th></th>\n",
       "      <th></th>\n",
       "      <th></th>\n",
       "      <th></th>\n",
       "      <th></th>\n",
       "      <th></th>\n",
       "      <th></th>\n",
       "      <th></th>\n",
       "      <th></th>\n",
       "      <th></th>\n",
       "      <th></th>\n",
       "      <th></th>\n",
       "      <th></th>\n",
       "    </tr>\n",
       "  </thead>\n",
       "  <tbody>\n",
       "    <tr>\n",
       "      <th>jqlxOzP3SDGKvPIK-9CwBA</th>\n",
       "      <td>Panda Express</td>\n",
       "      <td>4984 S Power Rd</td>\n",
       "      <td>{'AcceptsInsurance': None, 'AgesAllowed': None...</td>\n",
       "      <td>Mesa</td>\n",
       "      <td>AZ</td>\n",
       "      <td>85212</td>\n",
       "      <td>33.325409</td>\n",
       "      <td>-111.687141</td>\n",
       "      <td>1.0</td>\n",
       "      <td>3</td>\n",
       "      <td>0</td>\n",
       "      <td>[Chinese, Restaurants]</td>\n",
       "      <td>None</td>\n",
       "    </tr>\n",
       "  </tbody>\n",
       "</table>\n",
       "</div>"
      ],
      "text/plain": [
       "                                 name          address  \\\n",
       "business_id                                              \n",
       "jqlxOzP3SDGKvPIK-9CwBA  Panda Express  4984 S Power Rd   \n",
       "\n",
       "                                                               attributes  \\\n",
       "business_id                                                                 \n",
       "jqlxOzP3SDGKvPIK-9CwBA  {'AcceptsInsurance': None, 'AgesAllowed': None...   \n",
       "\n",
       "                        city state postal_code   latitude   longitude  stars  \\\n",
       "business_id                                                                    \n",
       "jqlxOzP3SDGKvPIK-9CwBA  Mesa    AZ       85212  33.325409 -111.687141    1.0   \n",
       "\n",
       "                        review_count  is_open              categories hours  \n",
       "business_id                                                                  \n",
       "jqlxOzP3SDGKvPIK-9CwBA             3        0  [Chinese, Restaurants]  None  "
      ]
     },
     "execution_count": 6,
     "metadata": {},
     "output_type": "execute_result"
    }
   ],
   "source": [
    "business_df.sample(1)"
   ]
  },
  {
   "cell_type": "code",
   "execution_count": 7,
   "metadata": {},
   "outputs": [],
   "source": [
    "def append_nested_columns(dataframe: pd.DataFrame, col_name: str) -> pd.DataFrame:\n",
    "    \"\"\"\n",
    "    Flattens nested json and appends result columns to target dataframe\n",
    "    :param dataframe: target pandas dataframe\n",
    "    :param col_name: name of column containing json\n",
    "    :returns: targe df with appended nested columns\n",
    "    \"\"\"\n",
    "    dataframe = pd.concat([dataframe, pd.json_normalize(dataframe[col_name].values.tolist())], axis=1)\n",
    "    return dataframe"
   ]
  },
  {
   "cell_type": "code",
   "execution_count": 8,
   "metadata": {},
   "outputs": [],
   "source": [
    "business_df = append_nested_columns(business_df, 'attributes')\n",
    "business_df = business_df.drop('attributes', axis=1)"
   ]
  },
  {
   "cell_type": "code",
   "execution_count": 9,
   "metadata": {},
   "outputs": [
    {
     "data": {
      "text/plain": [
       "array(['no', 'free', 'paid'], dtype=object)"
      ]
     },
     "execution_count": 9,
     "metadata": {},
     "output_type": "execute_result"
    }
   ],
   "source": [
    "has_wifi = ['paid', 'free']\n",
    "business_df['WiFi'] = business_df['WiFi'].apply(lambda x: x if x in has_wifi else 'no')\n",
    "business_df['WiFi'].unique()"
   ]
  },
  {
   "cell_type": "code",
   "execution_count": 10,
   "metadata": {},
   "outputs": [
    {
     "name": "stdout",
     "output_type": "stream",
     "text": [
      "Stored 'business_df' (DataFrame)\n"
     ]
    }
   ],
   "source": [
    "%store business_df"
   ]
  },
  {
   "cell_type": "markdown",
   "metadata": {},
   "source": [
    "## Load business data into .json"
   ]
  },
  {
   "cell_type": "code",
   "execution_count": 13,
   "metadata": {},
   "outputs": [],
   "source": [
    "path = Path.cwd().joinpath('..', 'json-data', 'business.json').resolve()\n",
    "business_df.to_json(path_or_buf=path, orient=\"records\", index=True)\n",
    "# business_df.to_json(path_or_buf=path, orient=\"split\")"
   ]
  }
 ],
 "metadata": {
  "kernelspec": {
   "display_name": "Python 3.10.6 ('.venv': venv)",
   "language": "python",
   "name": "python3"
  },
  "language_info": {
   "codemirror_mode": {
    "name": "ipython",
    "version": 3
   },
   "file_extension": ".py",
   "mimetype": "text/x-python",
   "name": "python",
   "nbconvert_exporter": "python",
   "pygments_lexer": "ipython3",
   "version": "3.10.6"
  },
  "orig_nbformat": 4,
  "vscode": {
   "interpreter": {
    "hash": "d9ff7789c07841c8f20111f407694babc923276d4f7867ac28afe328a8c2ff35"
   }
  }
 },
 "nbformat": 4,
 "nbformat_minor": 2
}
