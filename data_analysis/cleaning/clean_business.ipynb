{
 "cells": [
  {
   "cell_type": "code",
   "execution_count": 53,
   "metadata": {},
   "outputs": [],
   "source": [
    "from pathlib import Path\n",
    "import sys\n",
    "import pandas as pd\n",
    "import matplotlib.pyplot as plt\n",
    "import seaborn as sns\n",
    "from data.paths.parquet_paths import BUSINESS\n",
    "from pandas_setup.pandas_setup import get_parquet_pandas"
   ]
  },
  {
   "cell_type": "code",
   "execution_count": 54,
   "metadata": {},
   "outputs": [
    {
     "name": "stdout",
     "output_type": "stream",
     "text": [
      "<class 'pandas.core.frame.DataFrame'>\n",
      "RangeIndex: 10000 entries, 0 to 9999\n",
      "Data columns (total 14 columns):\n",
      " #   Column        Non-Null Count  Dtype  \n",
      "---  ------        --------------  -----  \n",
      " 0   business_id   10000 non-null  object \n",
      " 1   name          10000 non-null  object \n",
      " 2   address       10000 non-null  object \n",
      " 3   attributes    8590 non-null   object \n",
      " 4   city          10000 non-null  object \n",
      " 5   state         10000 non-null  object \n",
      " 6   postal_code   10000 non-null  object \n",
      " 7   latitude      10000 non-null  float32\n",
      " 8   longitude     10000 non-null  float32\n",
      " 9   stars         10000 non-null  float32\n",
      " 10  review_count  10000 non-null  int32  \n",
      " 11  is_open       10000 non-null  int32  \n",
      " 12  categories    10000 non-null  object \n",
      " 13  hours         7716 non-null   object \n",
      "dtypes: float32(3), int32(2), object(9)\n",
      "memory usage: 898.6+ KB\n"
     ]
    }
   ],
   "source": [
    "business_df = get_parquet_pandas(str(BUSINESS))\n",
    "business_df.info()"
   ]
  },
  {
   "cell_type": "code",
   "execution_count": 55,
   "metadata": {},
   "outputs": [
    {
     "data": {
      "text/plain": [
       "business_id        0\n",
       "name               0\n",
       "address            0\n",
       "attributes      1410\n",
       "city               0\n",
       "state              0\n",
       "postal_code        0\n",
       "latitude           0\n",
       "longitude          0\n",
       "stars              0\n",
       "review_count       0\n",
       "is_open            0\n",
       "categories         0\n",
       "hours           2284\n",
       "dtype: int64"
      ]
     },
     "execution_count": 55,
     "metadata": {},
     "output_type": "execute_result"
    }
   ],
   "source": [
    "business_df.isna().sum()"
   ]
  },
  {
   "cell_type": "code",
   "execution_count": 56,
   "metadata": {},
   "outputs": [],
   "source": [
    "business_df['business_id'].is_unique\n",
    "business_df = business_df.set_index('business_id')"
   ]
  },
  {
   "cell_type": "code",
   "execution_count": 57,
   "metadata": {},
   "outputs": [
    {
     "data": {
      "text/html": [
       "<div>\n",
       "<style scoped>\n",
       "    .dataframe tbody tr th:only-of-type {\n",
       "        vertical-align: middle;\n",
       "    }\n",
       "\n",
       "    .dataframe tbody tr th {\n",
       "        vertical-align: top;\n",
       "    }\n",
       "\n",
       "    .dataframe thead th {\n",
       "        text-align: right;\n",
       "    }\n",
       "</style>\n",
       "<table border=\"1\" class=\"dataframe\">\n",
       "  <thead>\n",
       "    <tr style=\"text-align: right;\">\n",
       "      <th></th>\n",
       "      <th>stars</th>\n",
       "      <th>review_count</th>\n",
       "    </tr>\n",
       "  </thead>\n",
       "  <tbody>\n",
       "    <tr>\n",
       "      <th>count</th>\n",
       "      <td>10000.00000</td>\n",
       "      <td>10000.000000</td>\n",
       "    </tr>\n",
       "    <tr>\n",
       "      <th>mean</th>\n",
       "      <td>3.55045</td>\n",
       "      <td>35.067600</td>\n",
       "    </tr>\n",
       "    <tr>\n",
       "      <th>std</th>\n",
       "      <td>1.01852</td>\n",
       "      <td>103.118055</td>\n",
       "    </tr>\n",
       "    <tr>\n",
       "      <th>min</th>\n",
       "      <td>1.00000</td>\n",
       "      <td>3.000000</td>\n",
       "    </tr>\n",
       "    <tr>\n",
       "      <th>25%</th>\n",
       "      <td>3.00000</td>\n",
       "      <td>4.000000</td>\n",
       "    </tr>\n",
       "    <tr>\n",
       "      <th>50%</th>\n",
       "      <td>3.50000</td>\n",
       "      <td>9.000000</td>\n",
       "    </tr>\n",
       "    <tr>\n",
       "      <th>75%</th>\n",
       "      <td>4.50000</td>\n",
       "      <td>26.000000</td>\n",
       "    </tr>\n",
       "    <tr>\n",
       "      <th>max</th>\n",
       "      <td>5.00000</td>\n",
       "      <td>4138.000000</td>\n",
       "    </tr>\n",
       "  </tbody>\n",
       "</table>\n",
       "</div>"
      ],
      "text/plain": [
       "             stars  review_count\n",
       "count  10000.00000  10000.000000\n",
       "mean       3.55045     35.067600\n",
       "std        1.01852    103.118055\n",
       "min        1.00000      3.000000\n",
       "25%        3.00000      4.000000\n",
       "50%        3.50000      9.000000\n",
       "75%        4.50000     26.000000\n",
       "max        5.00000   4138.000000"
      ]
     },
     "execution_count": 57,
     "metadata": {},
     "output_type": "execute_result"
    }
   ],
   "source": [
    "business_df[['stars', 'review_count']].describe()"
   ]
  },
  {
   "cell_type": "code",
   "execution_count": 58,
   "metadata": {},
   "outputs": [
    {
     "data": {
      "text/html": [
       "<div>\n",
       "<style scoped>\n",
       "    .dataframe tbody tr th:only-of-type {\n",
       "        vertical-align: middle;\n",
       "    }\n",
       "\n",
       "    .dataframe tbody tr th {\n",
       "        vertical-align: top;\n",
       "    }\n",
       "\n",
       "    .dataframe thead th {\n",
       "        text-align: right;\n",
       "    }\n",
       "</style>\n",
       "<table border=\"1\" class=\"dataframe\">\n",
       "  <thead>\n",
       "    <tr style=\"text-align: right;\">\n",
       "      <th></th>\n",
       "      <th>name</th>\n",
       "      <th>address</th>\n",
       "      <th>attributes</th>\n",
       "      <th>city</th>\n",
       "      <th>state</th>\n",
       "      <th>postal_code</th>\n",
       "      <th>latitude</th>\n",
       "      <th>longitude</th>\n",
       "      <th>stars</th>\n",
       "      <th>review_count</th>\n",
       "      <th>is_open</th>\n",
       "      <th>categories</th>\n",
       "      <th>hours</th>\n",
       "    </tr>\n",
       "    <tr>\n",
       "      <th>business_id</th>\n",
       "      <th></th>\n",
       "      <th></th>\n",
       "      <th></th>\n",
       "      <th></th>\n",
       "      <th></th>\n",
       "      <th></th>\n",
       "      <th></th>\n",
       "      <th></th>\n",
       "      <th></th>\n",
       "      <th></th>\n",
       "      <th></th>\n",
       "      <th></th>\n",
       "      <th></th>\n",
       "    </tr>\n",
       "  </thead>\n",
       "  <tbody>\n",
       "    <tr>\n",
       "      <th>oRBIgTHfNDritzEP5pvfRQ</th>\n",
       "      <td>Bank of America</td>\n",
       "      <td>1910 W Thunderbird Rd</td>\n",
       "      <td>{'AcceptsInsurance': None, 'AgesAllowed': None...</td>\n",
       "      <td>Phoenix</td>\n",
       "      <td>AZ</td>\n",
       "      <td>85023</td>\n",
       "      <td>33.611488</td>\n",
       "      <td>-112.100311</td>\n",
       "      <td>1.5</td>\n",
       "      <td>7</td>\n",
       "      <td>1</td>\n",
       "      <td>[Mortgage Brokers, Financial Services, Banks &amp;...</td>\n",
       "      <td>None</td>\n",
       "    </tr>\n",
       "  </tbody>\n",
       "</table>\n",
       "</div>"
      ],
      "text/plain": [
       "                                   name                address  \\\n",
       "business_id                                                      \n",
       "oRBIgTHfNDritzEP5pvfRQ  Bank of America  1910 W Thunderbird Rd   \n",
       "\n",
       "                                                               attributes  \\\n",
       "business_id                                                                 \n",
       "oRBIgTHfNDritzEP5pvfRQ  {'AcceptsInsurance': None, 'AgesAllowed': None...   \n",
       "\n",
       "                           city state postal_code   latitude   longitude  \\\n",
       "business_id                                                                \n",
       "oRBIgTHfNDritzEP5pvfRQ  Phoenix    AZ       85023  33.611488 -112.100311   \n",
       "\n",
       "                        stars  review_count  is_open  \\\n",
       "business_id                                            \n",
       "oRBIgTHfNDritzEP5pvfRQ    1.5             7        1   \n",
       "\n",
       "                                                               categories  \\\n",
       "business_id                                                                 \n",
       "oRBIgTHfNDritzEP5pvfRQ  [Mortgage Brokers, Financial Services, Banks &...   \n",
       "\n",
       "                       hours  \n",
       "business_id                   \n",
       "oRBIgTHfNDritzEP5pvfRQ  None  "
      ]
     },
     "execution_count": 58,
     "metadata": {},
     "output_type": "execute_result"
    }
   ],
   "source": [
    "business_df.sample(1)"
   ]
  },
  {
   "cell_type": "code",
   "execution_count": 59,
   "metadata": {},
   "outputs": [],
   "source": [
    "def append_nested_columns(dataframe: pd.DataFrame, col_name: str) -> pd.DataFrame:\n",
    "    \"\"\"\n",
    "    Flattens nested json and appends result columns to target dataframe\n",
    "    :param dataframe: target pandas dataframe\n",
    "    :param col_name: name of column containing json\n",
    "    :returns: targe df with appended nested columns\n",
    "    \"\"\"\n",
    "    dataframe = pd.concat([dataframe, pd.json_normalize(dataframe[col_name].values.tolist())], axis=1)\n",
    "    return dataframe"
   ]
  },
  {
   "cell_type": "code",
   "execution_count": 60,
   "metadata": {},
   "outputs": [
    {
     "name": "stdout",
     "output_type": "stream",
     "text": [
      "<class 'pandas.core.frame.DataFrame'>\n",
      "Index: 20000 entries, iBof5Tl8vrKISbi82tFEvQ to 9999\n",
      "Data columns (total 51 columns):\n",
      " #   Column                      Non-Null Count  Dtype  \n",
      "---  ------                      --------------  -----  \n",
      " 0   name                        10000 non-null  object \n",
      " 1   address                     10000 non-null  object \n",
      " 2   city                        10000 non-null  object \n",
      " 3   state                       10000 non-null  object \n",
      " 4   postal_code                 10000 non-null  object \n",
      " 5   latitude                    10000 non-null  float32\n",
      " 6   longitude                   10000 non-null  float32\n",
      " 7   stars                       10000 non-null  float32\n",
      " 8   review_count                10000 non-null  float64\n",
      " 9   is_open                     10000 non-null  float64\n",
      " 10  categories                  10000 non-null  object \n",
      " 11  hours                       7716 non-null   object \n",
      " 12  AcceptsInsurance            413 non-null    object \n",
      " 13  AgesAllowed                 8 non-null      object \n",
      " 14  Alcohol                     2367 non-null   object \n",
      " 15  Ambience                    2510 non-null   object \n",
      " 16  BYOB                        38 non-null     object \n",
      " 17  BYOBCorkage                 73 non-null     object \n",
      " 18  BestNights                  251 non-null    object \n",
      " 19  BikeParking                 4185 non-null   object \n",
      " 20  BusinessAcceptsBitcoin      808 non-null    object \n",
      " 21  BusinessAcceptsCreditCards  5841 non-null   object \n",
      " 22  BusinessParking             5377 non-null   object \n",
      " 23  ByAppointmentOnly           2827 non-null   object \n",
      " 24  Caters                      2048 non-null   object \n",
      " 25  CoatCheck                   208 non-null    object \n",
      " 26  Corkage                     52 non-null     object \n",
      " 27  DietaryRestrictions         3 non-null      object \n",
      " 28  DogsAllowed                 842 non-null    object \n",
      " 29  DriveThru                   185 non-null    object \n",
      " 30  GoodForDancing              246 non-null    object \n",
      " 31  GoodForKids                 3274 non-null   object \n",
      " 32  GoodForMeal                 1639 non-null   object \n",
      " 33  HairSpecializesIn           66 non-null     object \n",
      " 34  HappyHour                   723 non-null    object \n",
      " 35  HasTV                       2507 non-null   object \n",
      " 36  Music                       382 non-null    object \n",
      " 37  NoiseLevel                  2188 non-null   object \n",
      " 38  Open24Hours                 1 non-null      object \n",
      " 39  OutdoorSeating              2748 non-null   object \n",
      " 40  RestaurantsAttire           2316 non-null   object \n",
      " 41  RestaurantsCounterService   2 non-null      object \n",
      " 42  RestaurantsDelivery         2678 non-null   object \n",
      " 43  RestaurantsGoodForGroups    2637 non-null   object \n",
      " 44  RestaurantsPriceRange2      5243 non-null   object \n",
      " 45  RestaurantsReservations     2612 non-null   object \n",
      " 46  RestaurantsTableService     971 non-null    object \n",
      " 47  RestaurantsTakeOut          3142 non-null   object \n",
      " 48  Smoking                     207 non-null    object \n",
      " 49  WheelchairAccessible        1322 non-null   object \n",
      " 50  WiFi                        3084 non-null   object \n",
      "dtypes: float32(3), float64(2), object(46)\n",
      "memory usage: 7.7+ MB\n"
     ]
    }
   ],
   "source": [
    "business_df = append_nested_columns(business_df, 'attributes')\n",
    "business_df = business_df.drop('attributes', axis=1)"
   ]
  },
  {
   "cell_type": "code",
   "execution_count": 61,
   "metadata": {},
   "outputs": [
    {
     "data": {
      "text/plain": [
       "array(['no', 'free', 'paid'], dtype=object)"
      ]
     },
     "execution_count": 61,
     "metadata": {},
     "output_type": "execute_result"
    }
   ],
   "source": [
    "has_wifi = ['paid', 'free']\n",
    "business_df['WiFi'] = business_df['WiFi'].apply(lambda x: x if x in has_wifi else 'no')\n",
    "business_df['WiFi'].unique()"
   ]
  },
  {
   "cell_type": "code",
   "execution_count": 62,
   "metadata": {},
   "outputs": [
    {
     "name": "stdout",
     "output_type": "stream",
     "text": [
      "Stored 'business_df' (DataFrame)\n"
     ]
    }
   ],
   "source": [
    "%store business_df"
   ]
  },
  {
   "cell_type": "code",
   "execution_count": 63,
   "metadata": {},
   "outputs": [],
   "source": [
    "path = Path.cwd().joinpath('..', 'json-data', 'business.json').resolve()\n",
    "business_df.to_json(path_or_buf=path, orient=\"records\", index=True)\n",
    "# business_df.to_json(path_or_buf=path, orient=\"split\")"
   ]
  }
 ],
 "metadata": {
  "kernelspec": {
   "display_name": "Python 3.10.6 ('.venv': venv)",
   "language": "python",
   "name": "python3"
  },
  "language_info": {
   "codemirror_mode": {
    "name": "ipython",
    "version": 3
   },
   "file_extension": ".py",
   "mimetype": "text/x-python",
   "name": "python",
   "nbconvert_exporter": "python",
   "pygments_lexer": "ipython3",
   "version": "3.10.6"
  },
  "orig_nbformat": 4,
  "vscode": {
   "interpreter": {
    "hash": "d9ff7789c07841c8f20111f407694babc923276d4f7867ac28afe328a8c2ff35"
   }
  }
 },
 "nbformat": 4,
 "nbformat_minor": 2
}
