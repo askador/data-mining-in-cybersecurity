{
 "cells": [
  {
   "cell_type": "code",
   "execution_count": 1,
   "metadata": {},
   "outputs": [],
   "source": [
    "from pathlib import Path\n",
    "import sys\n",
    "import pandas as pd\n",
    "import matplotlib.pyplot as plt\n",
    "from data.paths.parquet_paths import USER\n",
    "from pandas_setup.pandas_setup import get_parquet_pandas"
   ]
  },
  {
   "cell_type": "code",
   "execution_count": 6,
   "metadata": {},
   "outputs": [
    {
     "name": "stdout",
     "output_type": "stream",
     "text": [
      "<class 'pandas.core.frame.DataFrame'>\n",
      "RangeIndex: 10000 entries, 0 to 9999\n",
      "Data columns (total 22 columns):\n",
      " #   Column              Non-Null Count  Dtype  \n",
      "---  ------              --------------  -----  \n",
      " 0   user_id             10000 non-null  object \n",
      " 1   name                10000 non-null  object \n",
      " 2   review_count        10000 non-null  int64  \n",
      " 3   yelping_since       10000 non-null  object \n",
      " 4   useful              10000 non-null  int64  \n",
      " 5   funny               10000 non-null  int64  \n",
      " 6   cool                10000 non-null  int64  \n",
      " 7   elite               10000 non-null  object \n",
      " 8   friends             10000 non-null  object \n",
      " 9   fans                10000 non-null  int64  \n",
      " 10  average_stars       10000 non-null  float64\n",
      " 11  compliment_hot      10000 non-null  int64  \n",
      " 12  compliment_more     10000 non-null  int64  \n",
      " 13  compliment_profile  10000 non-null  int64  \n",
      " 14  compliment_cute     10000 non-null  int64  \n",
      " 15  compliment_list     10000 non-null  int64  \n",
      " 16  compliment_note     10000 non-null  int64  \n",
      " 17  compliment_plain    10000 non-null  int64  \n",
      " 18  compliment_cool     10000 non-null  int64  \n",
      " 19  compliment_funny    10000 non-null  int64  \n",
      " 20  compliment_writer   10000 non-null  int64  \n",
      " 21  compliment_photos   10000 non-null  int64  \n",
      "dtypes: float64(1), int64(16), object(5)\n",
      "memory usage: 1.7+ MB\n"
     ]
    }
   ],
   "source": [
    "user_df = get_parquet_pandas(str(USER))\n",
    "user_df.info()"
   ]
  },
  {
   "cell_type": "markdown",
   "metadata": {},
   "source": [
    "### Variables - helpers"
   ]
  },
  {
   "cell_type": "code",
   "execution_count": null,
   "metadata": {},
   "outputs": [],
   "source": [
    "user_id = 'user_id'\n",
    "name = 'name'\n",
    "review_count = 'review_count'\n",
    "yelping_since = 'yelping_since'\n",
    "useful = 'useful'\n",
    "funny = 'funny'\n",
    "cool = 'cool'\n",
    "elite = 'elite'\n",
    "friends = 'friends'\n",
    "fans = 'fans'\n",
    "average_stars = 'average_stars'\n",
    "compliment_hot = 'compliment_hot'\n",
    "compliment_more = 'compliment_more'\n",
    "compliment_profile = 'compliment_profile'\n",
    "compliment_cute = 'compliment_cute'\n",
    "compliment_list = 'compliment_list'\n",
    "compliment_note = 'compliment_note'\n",
    "compliment_plain = 'compliment_plain'\n",
    "compliment_cool = 'compliment_cool'\n",
    "compliment_funny = 'compliment_funny'\n",
    "compliment_writer = 'compliment_writer'\n",
    "compliment_photos = 'compliment_photos'"
   ]
  },
  {
   "cell_type": "code",
   "execution_count": 7,
   "metadata": {},
   "outputs": [
    {
     "data": {
      "text/html": [
       "<div>\n",
       "<style scoped>\n",
       "    .dataframe tbody tr th:only-of-type {\n",
       "        vertical-align: middle;\n",
       "    }\n",
       "\n",
       "    .dataframe tbody tr th {\n",
       "        vertical-align: top;\n",
       "    }\n",
       "\n",
       "    .dataframe thead th {\n",
       "        text-align: right;\n",
       "    }\n",
       "</style>\n",
       "<table border=\"1\" class=\"dataframe\">\n",
       "  <thead>\n",
       "    <tr style=\"text-align: right;\">\n",
       "      <th></th>\n",
       "      <th>user_id</th>\n",
       "      <th>name</th>\n",
       "      <th>review_count</th>\n",
       "      <th>yelping_since</th>\n",
       "      <th>useful</th>\n",
       "      <th>funny</th>\n",
       "      <th>cool</th>\n",
       "      <th>elite</th>\n",
       "      <th>friends</th>\n",
       "      <th>fans</th>\n",
       "      <th>...</th>\n",
       "      <th>compliment_more</th>\n",
       "      <th>compliment_profile</th>\n",
       "      <th>compliment_cute</th>\n",
       "      <th>compliment_list</th>\n",
       "      <th>compliment_note</th>\n",
       "      <th>compliment_plain</th>\n",
       "      <th>compliment_cool</th>\n",
       "      <th>compliment_funny</th>\n",
       "      <th>compliment_writer</th>\n",
       "      <th>compliment_photos</th>\n",
       "    </tr>\n",
       "  </thead>\n",
       "  <tbody>\n",
       "    <tr>\n",
       "      <th>3859</th>\n",
       "      <td>UyIY70WUem0Ka3o0Hjqtqw</td>\n",
       "      <td>James</td>\n",
       "      <td>721</td>\n",
       "      <td>2007-12-17 03:05:10</td>\n",
       "      <td>795</td>\n",
       "      <td>241</td>\n",
       "      <td>353</td>\n",
       "      <td>2012,2013,2014,2015,2016,2017,2018</td>\n",
       "      <td>TE9o4cWvNXg5IYcjAwI5hg, ZnIyWf4CMcHA3d-ZTEKc5g...</td>\n",
       "      <td>15</td>\n",
       "      <td>...</td>\n",
       "      <td>3</td>\n",
       "      <td>0</td>\n",
       "      <td>0</td>\n",
       "      <td>1</td>\n",
       "      <td>16</td>\n",
       "      <td>8</td>\n",
       "      <td>22</td>\n",
       "      <td>22</td>\n",
       "      <td>9</td>\n",
       "      <td>3</td>\n",
       "    </tr>\n",
       "  </tbody>\n",
       "</table>\n",
       "<p>1 rows × 22 columns</p>\n",
       "</div>"
      ],
      "text/plain": [
       "                     user_id   name  review_count        yelping_since  \\\n",
       "3859  UyIY70WUem0Ka3o0Hjqtqw  James           721  2007-12-17 03:05:10   \n",
       "\n",
       "      useful  funny  cool                               elite  \\\n",
       "3859     795    241   353  2012,2013,2014,2015,2016,2017,2018   \n",
       "\n",
       "                                                friends  fans  ...  \\\n",
       "3859  TE9o4cWvNXg5IYcjAwI5hg, ZnIyWf4CMcHA3d-ZTEKc5g...    15  ...   \n",
       "\n",
       "      compliment_more  compliment_profile  compliment_cute  compliment_list  \\\n",
       "3859                3                   0                0                1   \n",
       "\n",
       "      compliment_note  compliment_plain  compliment_cool  compliment_funny  \\\n",
       "3859               16                 8               22                22   \n",
       "\n",
       "      compliment_writer  compliment_photos  \n",
       "3859                  9                  3  \n",
       "\n",
       "[1 rows x 22 columns]"
      ]
     },
     "execution_count": 7,
     "metadata": {},
     "output_type": "execute_result"
    }
   ],
   "source": [
    "user_df.sample(1)"
   ]
  }
 ],
 "metadata": {
  "kernelspec": {
   "display_name": "Python 3.10.6 ('.venv': venv)",
   "language": "python",
   "name": "python3"
  },
  "language_info": {
   "codemirror_mode": {
    "name": "ipython",
    "version": 3
   },
   "file_extension": ".py",
   "mimetype": "text/x-python",
   "name": "python",
   "nbconvert_exporter": "python",
   "pygments_lexer": "ipython3",
   "version": "3.10.6"
  },
  "orig_nbformat": 4,
  "vscode": {
   "interpreter": {
    "hash": "d9ff7789c07841c8f20111f407694babc923276d4f7867ac28afe328a8c2ff35"
   }
  }
 },
 "nbformat": 4,
 "nbformat_minor": 2
}
