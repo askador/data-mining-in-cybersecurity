{
 "cells": [
  {
   "cell_type": "code",
   "execution_count": 1,
   "metadata": {},
   "outputs": [],
   "source": [
    "from pathlib import Path\n",
    "import sys\n",
    "import pandas as pd\n",
    "import matplotlib.pyplot as plt\n",
    "import seaborn as sns\n",
    "from data.paths.parquet_paths import TIP\n",
    "from data.paths.parquet_paths import REVIEW"
   ]
  },
  {
   "cell_type": "code",
   "execution_count": 2,
   "metadata": {},
   "outputs": [
    {
     "name": "stdout",
     "output_type": "stream",
     "text": [
      "<class 'pandas.core.frame.DataFrame'>\n",
      "RangeIndex: 100000 entries, 0 to 99999\n",
      "Data columns (total 9 columns):\n",
      " #   Column       Non-Null Count   Dtype  \n",
      "---  ------       --------------   -----  \n",
      " 0   review_id    100000 non-null  object \n",
      " 1   user_id      100000 non-null  object \n",
      " 2   business_id  100000 non-null  object \n",
      " 3   stars        100000 non-null  float32\n",
      " 4   date         100000 non-null  object \n",
      " 5   text         100000 non-null  object \n",
      " 6   useful       100000 non-null  int32  \n",
      " 7   funny        100000 non-null  int32  \n",
      " 8   cool         100000 non-null  int32  \n",
      "dtypes: float32(1), int32(3), object(5)\n",
      "memory usage: 5.3+ MB\n"
     ]
    }
   ],
   "source": [
    "review_df = pd.read_parquet(str(REVIEW))\n",
    "review_df.info()"
   ]
  },
  {
   "cell_type": "code",
   "execution_count": 3,
   "metadata": {},
   "outputs": [
    {
     "name": "stdout",
     "output_type": "stream",
     "text": [
      "<class 'pandas.core.frame.DataFrame'>\n",
      "RangeIndex: 100000 entries, 0 to 99999\n",
      "Data columns (total 5 columns):\n",
      " #   Column            Non-Null Count   Dtype \n",
      "---  ------            --------------   ----- \n",
      " 0   text              100000 non-null  object\n",
      " 1   date              100000 non-null  object\n",
      " 2   compliment_count  100000 non-null  int32 \n",
      " 3   business_id       100000 non-null  object\n",
      " 4   user_id           100000 non-null  object\n",
      "dtypes: int32(1), object(4)\n",
      "memory usage: 3.4+ MB\n"
     ]
    }
   ],
   "source": [
    "tip_df = pd.read_parquet(str(TIP))\n",
    "tip_df.info()"
   ]
  },
  {
   "cell_type": "code",
   "execution_count": 16,
   "metadata": {},
   "outputs": [
    {
     "data": {
      "text/html": [
       "<div>\n",
       "<style scoped>\n",
       "    .dataframe tbody tr th:only-of-type {\n",
       "        vertical-align: middle;\n",
       "    }\n",
       "\n",
       "    .dataframe tbody tr th {\n",
       "        vertical-align: top;\n",
       "    }\n",
       "\n",
       "    .dataframe thead th {\n",
       "        text-align: right;\n",
       "    }\n",
       "</style>\n",
       "<table border=\"1\" class=\"dataframe\">\n",
       "  <thead>\n",
       "    <tr style=\"text-align: right;\">\n",
       "      <th></th>\n",
       "      <th>user_id</th>\n",
       "      <th>business_id</th>\n",
       "      <th>date</th>\n",
       "      <th>text</th>\n",
       "      <th>useful</th>\n",
       "    </tr>\n",
       "  </thead>\n",
       "  <tbody>\n",
       "    <tr>\n",
       "      <th>46317</th>\n",
       "      <td>bRUJaKaXZo2-JVzSboDfCA</td>\n",
       "      <td>Lyq7ULam8T-ZddYLHq4DqA</td>\n",
       "      <td>2011-10-10 14:54:41</td>\n",
       "      <td>St. Louis here we come ;-)</td>\n",
       "      <td>0</td>\n",
       "    </tr>\n",
       "    <tr>\n",
       "      <th>73156</th>\n",
       "      <td>TETPNyJfqqcHEcDRxD8xFQ</td>\n",
       "      <td>GI-CAiZ_Gg3h21PwrANB4Q</td>\n",
       "      <td>2014-07-01 00:00:00</td>\n",
       "      <td>I loved this restaurant as soon as we arrived....</td>\n",
       "      <td>2</td>\n",
       "    </tr>\n",
       "    <tr>\n",
       "      <th>36554</th>\n",
       "      <td>6gGRtiXRdUS2PbFlu2QmZQ</td>\n",
       "      <td>BIN_lwo-4Y441qdDljtdlw</td>\n",
       "      <td>2012-02-27 13:01:53</td>\n",
       "      <td>It's a great place to have ice cream. I love i...</td>\n",
       "      <td>0</td>\n",
       "    </tr>\n",
       "    <tr>\n",
       "      <th>91154</th>\n",
       "      <td>HtmDJiY9nciUZyBxvhOE1g</td>\n",
       "      <td>K7lWdNUhCbcnEvI0NhGewg</td>\n",
       "      <td>2016-06-03 20:55:50</td>\n",
       "      <td>It's my favorite place to dine!!</td>\n",
       "      <td>0</td>\n",
       "    </tr>\n",
       "    <tr>\n",
       "      <th>22322</th>\n",
       "      <td>4ECIXWllFTxtJaj1cKOZWw</td>\n",
       "      <td>Ep-SYYvdHJ9xnXy5B-OSMQ</td>\n",
       "      <td>2017-06-30 00:00:00</td>\n",
       "      <td>This is the first West Elm in Phoenix, and it ...</td>\n",
       "      <td>9</td>\n",
       "    </tr>\n",
       "  </tbody>\n",
       "</table>\n",
       "</div>"
      ],
      "text/plain": [
       "                      user_id             business_id                date  \\\n",
       "46317  bRUJaKaXZo2-JVzSboDfCA  Lyq7ULam8T-ZddYLHq4DqA 2011-10-10 14:54:41   \n",
       "73156  TETPNyJfqqcHEcDRxD8xFQ  GI-CAiZ_Gg3h21PwrANB4Q 2014-07-01 00:00:00   \n",
       "36554  6gGRtiXRdUS2PbFlu2QmZQ  BIN_lwo-4Y441qdDljtdlw 2012-02-27 13:01:53   \n",
       "91154  HtmDJiY9nciUZyBxvhOE1g  K7lWdNUhCbcnEvI0NhGewg 2016-06-03 20:55:50   \n",
       "22322  4ECIXWllFTxtJaj1cKOZWw  Ep-SYYvdHJ9xnXy5B-OSMQ 2017-06-30 00:00:00   \n",
       "\n",
       "                                                    text  useful  \n",
       "46317                         St. Louis here we come ;-)       0  \n",
       "73156  I loved this restaurant as soon as we arrived....       2  \n",
       "36554  It's a great place to have ice cream. I love i...       0  \n",
       "91154                   It's my favorite place to dine!!       0  \n",
       "22322  This is the first West Elm in Phoenix, and it ...       9  "
      ]
     },
     "execution_count": 16,
     "metadata": {},
     "output_type": "execute_result"
    }
   ],
   "source": [
    "review_cut = review_df[['user_id', 'business_id', 'date', 'text', 'useful']]\n",
    "\n",
    "tip_cut = tip_df[['user_id', 'business_id', 'date', 'text', 'compliment_count']]\n",
    "tip_cut.columns = ['user_id', 'business_id', 'date', 'text', 'useful']\n",
    "\n",
    "tips_and_reviews = pd.concat([review_cut, tip_cut])\n",
    "tips_and_reviews['date'] = pd.to_datetime(tips_and_reviews['date'])\n",
    "\n",
    "tips_and_reviews.sample(5)"
   ]
  },
  {
   "cell_type": "code",
   "execution_count": null,
   "metadata": {},
   "outputs": [],
   "source": [
    "# usefullness of reviews, tips and combined\n"
   ]
  }
 ],
 "metadata": {
  "kernelspec": {
   "display_name": "Python 3.10.4 ('.venv': venv)",
   "language": "python",
   "name": "python3"
  },
  "language_info": {
   "codemirror_mode": {
    "name": "ipython",
    "version": 3
   },
   "file_extension": ".py",
   "mimetype": "text/x-python",
   "name": "python",
   "nbconvert_exporter": "python",
   "pygments_lexer": "ipython3",
   "version": "3.10.4"
  },
  "orig_nbformat": 4,
  "vscode": {
   "interpreter": {
    "hash": "7af5b7636a63040c819b7e4f76be3d27ebb81c92fb1ea19a29cd307dc58570fb"
   }
  }
 },
 "nbformat": 4,
 "nbformat_minor": 2
}
