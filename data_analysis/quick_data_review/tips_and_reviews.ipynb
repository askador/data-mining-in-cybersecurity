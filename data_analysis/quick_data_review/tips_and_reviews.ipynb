{
 "cells": [
  {
   "cell_type": "code",
   "execution_count": 1,
   "metadata": {},
   "outputs": [],
   "source": [
    "from pathlib import Path\n",
    "import sys\n",
    "import pandas as pd\n",
    "import matplotlib.pyplot as plt\n",
    "import seaborn as sns\n",
    "from data.paths.parquet_paths import TIP\n",
    "from data.paths.parquet_paths import REVIEW"
   ]
  },
  {
   "cell_type": "code",
   "execution_count": 2,
   "metadata": {},
   "outputs": [
    {
     "name": "stdout",
     "output_type": "stream",
     "text": [
      "<class 'pandas.core.frame.DataFrame'>\n",
      "RangeIndex: 100000 entries, 0 to 99999\n",
      "Data columns (total 9 columns):\n",
      " #   Column       Non-Null Count   Dtype  \n",
      "---  ------       --------------   -----  \n",
      " 0   review_id    100000 non-null  object \n",
      " 1   user_id      100000 non-null  object \n",
      " 2   business_id  100000 non-null  object \n",
      " 3   stars        100000 non-null  float32\n",
      " 4   date         100000 non-null  object \n",
      " 5   text         100000 non-null  object \n",
      " 6   useful       100000 non-null  int32  \n",
      " 7   funny        100000 non-null  int32  \n",
      " 8   cool         100000 non-null  int32  \n",
      "dtypes: float32(1), int32(3), object(5)\n",
      "memory usage: 5.3+ MB\n"
     ]
    }
   ],
   "source": [
    "review_df = pd.read_parquet(str(REVIEW))\n",
    "review_df.info()"
   ]
  },
  {
   "cell_type": "code",
   "execution_count": 3,
   "metadata": {},
   "outputs": [
    {
     "name": "stdout",
     "output_type": "stream",
     "text": [
      "<class 'pandas.core.frame.DataFrame'>\n",
      "RangeIndex: 100000 entries, 0 to 99999\n",
      "Data columns (total 5 columns):\n",
      " #   Column            Non-Null Count   Dtype \n",
      "---  ------            --------------   ----- \n",
      " 0   text              100000 non-null  object\n",
      " 1   date              100000 non-null  object\n",
      " 2   compliment_count  100000 non-null  int32 \n",
      " 3   business_id       100000 non-null  object\n",
      " 4   user_id           100000 non-null  object\n",
      "dtypes: int32(1), object(4)\n",
      "memory usage: 3.4+ MB\n"
     ]
    }
   ],
   "source": [
    "tip_df = pd.read_parquet(str(TIP))\n",
    "tip_df.info()"
   ]
  },
  {
   "cell_type": "code",
   "execution_count": 4,
   "metadata": {},
   "outputs": [
    {
     "data": {
      "text/html": [
       "<div>\n",
       "<style scoped>\n",
       "    .dataframe tbody tr th:only-of-type {\n",
       "        vertical-align: middle;\n",
       "    }\n",
       "\n",
       "    .dataframe tbody tr th {\n",
       "        vertical-align: top;\n",
       "    }\n",
       "\n",
       "    .dataframe thead th {\n",
       "        text-align: right;\n",
       "    }\n",
       "</style>\n",
       "<table border=\"1\" class=\"dataframe\">\n",
       "  <thead>\n",
       "    <tr style=\"text-align: right;\">\n",
       "      <th></th>\n",
       "      <th>user_id</th>\n",
       "      <th>business_id</th>\n",
       "      <th>date</th>\n",
       "      <th>text</th>\n",
       "      <th>useful</th>\n",
       "    </tr>\n",
       "  </thead>\n",
       "  <tbody>\n",
       "    <tr>\n",
       "      <th>37060</th>\n",
       "      <td>JgMb-_la1_BTYgMOBJtAHw</td>\n",
       "      <td>yfxDa8RFOvJPQh0rNtakHA</td>\n",
       "      <td>2009-09-27 09:18:13</td>\n",
       "      <td>Good food, but got busy, now long wait;(</td>\n",
       "      <td>0</td>\n",
       "    </tr>\n",
       "    <tr>\n",
       "      <th>90551</th>\n",
       "      <td>s5hemOR2IxcW-0MYA6hGug</td>\n",
       "      <td>jgsiHIdUdgngrBPXtP6j8g</td>\n",
       "      <td>2011-08-09 21:47:47</td>\n",
       "      <td>Great price on quinoa!</td>\n",
       "      <td>0</td>\n",
       "    </tr>\n",
       "    <tr>\n",
       "      <th>50238</th>\n",
       "      <td>NI1y_HeHzEghpGuGjENMSQ</td>\n",
       "      <td>XSKvC2PfnTAXCAxGQDhOJQ</td>\n",
       "      <td>2015-05-12 00:00:00</td>\n",
       "      <td>I am giving 4 stars, because the food is not s...</td>\n",
       "      <td>1</td>\n",
       "    </tr>\n",
       "    <tr>\n",
       "      <th>23291</th>\n",
       "      <td>Z24wWXLyJ9K1ftiHZrP8Sw</td>\n",
       "      <td>QnfAHUr5-HTiaA5-va3glQ</td>\n",
       "      <td>2014-10-14 00:00:00</td>\n",
       "      <td>Great pizza. Even better wings!!  Only downfal...</td>\n",
       "      <td>1</td>\n",
       "    </tr>\n",
       "    <tr>\n",
       "      <th>36775</th>\n",
       "      <td>AOH1c-tLs2V3Ws4vCY9DMA</td>\n",
       "      <td>kGL6bJ4cZUKdiwyUmezgiw</td>\n",
       "      <td>2012-08-20 00:00:00</td>\n",
       "      <td>Small place with humble and friendly people.\\n...</td>\n",
       "      <td>3</td>\n",
       "    </tr>\n",
       "  </tbody>\n",
       "</table>\n",
       "</div>"
      ],
      "text/plain": [
       "                      user_id             business_id                date  \\\n",
       "37060  JgMb-_la1_BTYgMOBJtAHw  yfxDa8RFOvJPQh0rNtakHA 2009-09-27 09:18:13   \n",
       "90551  s5hemOR2IxcW-0MYA6hGug  jgsiHIdUdgngrBPXtP6j8g 2011-08-09 21:47:47   \n",
       "50238  NI1y_HeHzEghpGuGjENMSQ  XSKvC2PfnTAXCAxGQDhOJQ 2015-05-12 00:00:00   \n",
       "23291  Z24wWXLyJ9K1ftiHZrP8Sw  QnfAHUr5-HTiaA5-va3glQ 2014-10-14 00:00:00   \n",
       "36775  AOH1c-tLs2V3Ws4vCY9DMA  kGL6bJ4cZUKdiwyUmezgiw 2012-08-20 00:00:00   \n",
       "\n",
       "                                                    text  useful  \n",
       "37060           Good food, but got busy, now long wait;(       0  \n",
       "90551                             Great price on quinoa!       0  \n",
       "50238  I am giving 4 stars, because the food is not s...       1  \n",
       "23291  Great pizza. Even better wings!!  Only downfal...       1  \n",
       "36775  Small place with humble and friendly people.\\n...       3  "
      ]
     },
     "execution_count": 4,
     "metadata": {},
     "output_type": "execute_result"
    }
   ],
   "source": [
    "review_cut = review_df[['user_id', 'business_id', 'date', 'text', 'useful']]\n",
    "\n",
    "tip_cut = tip_df[['user_id', 'business_id', 'date', 'text', 'compliment_count']]\n",
    "tip_cut.columns = ['user_id', 'business_id', 'date', 'text', 'useful']\n",
    "\n",
    "tips_and_reviews = pd.concat([review_cut, tip_cut])\n",
    "tips_and_reviews['date'] = pd.to_datetime(tips_and_reviews['date'])\n",
    "\n",
    "tips_and_reviews.sample(5)"
   ]
  },
  {
   "cell_type": "code",
   "execution_count": 8,
   "metadata": {},
   "outputs": [
    {
     "data": {
      "image/png": "[encoded data removed]",
      "text/plain": [
       "<Figure size 640x480 with 1 Axes>"
      ]
     },
     "metadata": {},
     "output_type": "display_data"
    }
   ],
   "source": [
    "f, ax = plt.subplots()\n",
    "\n",
    "for df, label  in zip([review_cut, tip_cut, tips_and_reviews],\n",
    "                      ['reviews', 'tips', 'combined']):\n",
    "    ax = sns.kdeplot(data=df, x='useful', label=label)\n",
    "    \n",
    "plt.legend()\n",
    "plt.xscale('log')\n",
    "plt.show()"
   ]
  }
 ],
 "metadata": {
  "kernelspec": {
   "display_name": "Python 3.10.4 ('.venv': venv)",
   "language": "python",
   "name": "python3"
  },
  "language_info": {
   "codemirror_mode": {
    "name": "ipython",
    "version": 3
   },
   "file_extension": ".py",
   "mimetype": "text/x-python",
   "name": "python",
   "nbconvert_exporter": "python",
   "pygments_lexer": "ipython3",
   "version": "3.10.4"
  },
  "orig_nbformat": 4,
  "vscode": {
   "interpreter": {
    "hash": "7af5b7636a63040c819b7e4f76be3d27ebb81c92fb1ea19a29cd307dc58570fb"
   }
  }
 },
 "nbformat": 4,
 "nbformat_minor": 2
}
