{
 "cells": [
  {
   "cell_type": "code",
   "execution_count": 40,
   "metadata": {},
   "outputs": [],
   "source": [
    "import sys\n",
    "import pandas as pd\n",
    "import matplotlib.pyplot as plt\n",
    "import seaborn as sns\n",
    "import numpy as np\n",
    "from data_analysis.utils import user\n",
    "from data.paths.parquet_paths import USER, REVIEW"
   ]
  },
  {
   "cell_type": "code",
   "execution_count": 41,
   "metadata": {},
   "outputs": [],
   "source": [
    "user_df = pd.read_parquet(str(USER))\n",
    "review_df = pd.read_parquet(str(REVIEW))"
   ]
  },
  {
   "cell_type": "code",
   "execution_count": 42,
   "metadata": {},
   "outputs": [],
   "source": [
    "user_df = user.prepare_user_df(user_df)"
   ]
  },
  {
   "cell_type": "code",
   "execution_count": 43,
   "metadata": {},
   "outputs": [
    {
     "name": "stdout",
     "output_type": "stream",
     "text": [
      "<class 'pandas.core.frame.DataFrame'>\n",
      "RangeIndex: 10000 entries, 0 to 9999\n",
      "Data columns (total 22 columns):\n",
      " #   Column              Non-Null Count  Dtype         \n",
      "---  ------              --------------  -----         \n",
      " 0   user_id             10000 non-null  object        \n",
      " 1   name                10000 non-null  object        \n",
      " 2   review_count        10000 non-null  int32         \n",
      " 3   yelping_since       10000 non-null  datetime64[ns]\n",
      " 4   friends             10000 non-null  object        \n",
      " 5   useful              10000 non-null  int32         \n",
      " 6   funny               10000 non-null  int32         \n",
      " 7   cool                10000 non-null  int32         \n",
      " 8   fans                10000 non-null  int32         \n",
      " 9   elite               0 non-null      object        \n",
      " 10  average_stars       10000 non-null  float32       \n",
      " 11  compliment_hot      10000 non-null  int32         \n",
      " 12  compliment_more     10000 non-null  int32         \n",
      " 13  compliment_profile  10000 non-null  int32         \n",
      " 14  compliment_cute     10000 non-null  int32         \n",
      " 15  compliment_list     10000 non-null  int32         \n",
      " 16  compliment_note     10000 non-null  int32         \n",
      " 17  compliment_plain    10000 non-null  int32         \n",
      " 18  compliment_cool     10000 non-null  int32         \n",
      " 19  compliment_funny    10000 non-null  int32         \n",
      " 20  compliment_writer   10000 non-null  int32         \n",
      " 21  compliment_photos   10000 non-null  int32         \n",
      "dtypes: datetime64[ns](1), float32(1), int32(16), object(4)\n",
      "memory usage: 1.0+ MB\n"
     ]
    }
   ],
   "source": [
    "user_df.info()"
   ]
  },
  {
   "cell_type": "code",
   "execution_count": 44,
   "metadata": {},
   "outputs": [
    {
     "name": "stdout",
     "output_type": "stream",
     "text": [
      "<class 'pandas.core.frame.DataFrame'>\n",
      "RangeIndex: 100000 entries, 0 to 99999\n",
      "Data columns (total 9 columns):\n",
      " #   Column       Non-Null Count   Dtype  \n",
      "---  ------       --------------   -----  \n",
      " 0   review_id    100000 non-null  object \n",
      " 1   user_id      100000 non-null  object \n",
      " 2   business_id  100000 non-null  object \n",
      " 3   stars        100000 non-null  float32\n",
      " 4   date         100000 non-null  object \n",
      " 5   text         100000 non-null  object \n",
      " 6   useful       100000 non-null  int32  \n",
      " 7   funny        100000 non-null  int32  \n",
      " 8   cool         100000 non-null  int32  \n",
      "dtypes: float32(1), int32(3), object(5)\n",
      "memory usage: 5.3+ MB\n"
     ]
    }
   ],
   "source": [
    "review_df.info()"
   ]
  },
  {
   "cell_type": "code",
   "execution_count": 50,
   "metadata": {},
   "outputs": [],
   "source": [
    "# user_df['user_id'] = user_df['user_id'].astype(str)\n",
    "# review_df['user_id'] = review_df['user_id'].astype(str)\n",
    "\n",
    "user_columns = [\n",
    "    'user_id',\n",
    "    'name',\n",
    "    'review_count',\n",
    "    'yelping_since',\n",
    "    # 'useful',\n",
    "    # 'funny',\n",
    "    # 'cool',\n",
    "    'fans',\n",
    "    'average_stars'\n",
    "]\n",
    "\n",
    "\n",
    "review_user_df = review_df.join(user_df[user_columns].set_index('user_id'), on='user_id')"
   ]
  },
  {
   "cell_type": "code",
   "execution_count": 51,
   "metadata": {},
   "outputs": [
    {
     "name": "stdout",
     "output_type": "stream",
     "text": [
      "<class 'pandas.core.frame.DataFrame'>\n",
      "RangeIndex: 100000 entries, 0 to 99999\n",
      "Data columns (total 14 columns):\n",
      " #   Column         Non-Null Count   Dtype         \n",
      "---  ------         --------------   -----         \n",
      " 0   review_id      100000 non-null  object        \n",
      " 1   user_id        100000 non-null  object        \n",
      " 2   business_id    100000 non-null  object        \n",
      " 3   stars          100000 non-null  float32       \n",
      " 4   date           100000 non-null  object        \n",
      " 5   text           100000 non-null  object        \n",
      " 6   useful         100000 non-null  int32         \n",
      " 7   funny          100000 non-null  int32         \n",
      " 8   cool           100000 non-null  int32         \n",
      " 9   name           8279 non-null    object        \n",
      " 10  review_count   8279 non-null    float64       \n",
      " 11  yelping_since  8279 non-null    datetime64[ns]\n",
      " 12  fans           8279 non-null    float64       \n",
      " 13  average_stars  8279 non-null    float32       \n",
      "dtypes: datetime64[ns](1), float32(2), float64(2), int32(3), object(6)\n",
      "memory usage: 8.8+ MB\n"
     ]
    }
   ],
   "source": [
    "review_user_df.info()"
   ]
  },
  {
   "cell_type": "code",
   "execution_count": 53,
   "metadata": {},
   "outputs": [],
   "source": [
    "review_user_df = review_user_df.loc[~review_user_df['name'].isna()].copy()"
   ]
  },
  {
   "cell_type": "code",
   "execution_count": 54,
   "metadata": {},
   "outputs": [
    {
     "data": {
      "text/html": [
       "<div>\n",
       "<style scoped>\n",
       "    .dataframe tbody tr th:only-of-type {\n",
       "        vertical-align: middle;\n",
       "    }\n",
       "\n",
       "    .dataframe tbody tr th {\n",
       "        vertical-align: top;\n",
       "    }\n",
       "\n",
       "    .dataframe thead th {\n",
       "        text-align: right;\n",
       "    }\n",
       "</style>\n",
       "<table border=\"1\" class=\"dataframe\">\n",
       "  <thead>\n",
       "    <tr style=\"text-align: right;\">\n",
       "      <th></th>\n",
       "      <th>review_id</th>\n",
       "      <th>user_id</th>\n",
       "      <th>business_id</th>\n",
       "      <th>stars</th>\n",
       "      <th>date</th>\n",
       "      <th>text</th>\n",
       "      <th>useful</th>\n",
       "      <th>funny</th>\n",
       "      <th>cool</th>\n",
       "      <th>name</th>\n",
       "      <th>review_count</th>\n",
       "      <th>yelping_since</th>\n",
       "      <th>fans</th>\n",
       "      <th>average_stars</th>\n",
       "    </tr>\n",
       "  </thead>\n",
       "  <tbody>\n",
       "    <tr>\n",
       "      <th>55317</th>\n",
       "      <td>yR-etdpAsLcOMkzEY0kZyg</td>\n",
       "      <td>kn1ya_7VhGLx7iyl_sSc9w</td>\n",
       "      <td>seYvTmOZGJ2IAMdfQa8pkg</td>\n",
       "      <td>4.0</td>\n",
       "      <td>2009-10-20</td>\n",
       "      <td>Cute! I love another independent coffee shop i...</td>\n",
       "      <td>1</td>\n",
       "      <td>0</td>\n",
       "      <td>1</td>\n",
       "      <td>Megan</td>\n",
       "      <td>186.0</td>\n",
       "      <td>2007-09-20 01:23:27</td>\n",
       "      <td>36.0</td>\n",
       "      <td>3.53</td>\n",
       "    </tr>\n",
       "    <tr>\n",
       "      <th>88371</th>\n",
       "      <td>mpGWKNZCD3KewUMIkz5idw</td>\n",
       "      <td>ov9G-Mn1XGFp6m8sFEmEng</td>\n",
       "      <td>8jlSRdjL4ARMhS3gXrqJmQ</td>\n",
       "      <td>4.0</td>\n",
       "      <td>2010-11-22</td>\n",
       "      <td>Kiosk style multi tap bar/area. Its a nice pla...</td>\n",
       "      <td>1</td>\n",
       "      <td>0</td>\n",
       "      <td>1</td>\n",
       "      <td>Erin</td>\n",
       "      <td>549.0</td>\n",
       "      <td>2009-08-21 17:28:19</td>\n",
       "      <td>55.0</td>\n",
       "      <td>4.05</td>\n",
       "    </tr>\n",
       "  </tbody>\n",
       "</table>\n",
       "</div>"
      ],
      "text/plain": [
       "                    review_id                 user_id             business_id  \\\n",
       "55317  yR-etdpAsLcOMkzEY0kZyg  kn1ya_7VhGLx7iyl_sSc9w  seYvTmOZGJ2IAMdfQa8pkg   \n",
       "88371  mpGWKNZCD3KewUMIkz5idw  ov9G-Mn1XGFp6m8sFEmEng  8jlSRdjL4ARMhS3gXrqJmQ   \n",
       "\n",
       "       stars        date                                               text  \\\n",
       "55317    4.0  2009-10-20  Cute! I love another independent coffee shop i...   \n",
       "88371    4.0  2010-11-22  Kiosk style multi tap bar/area. Its a nice pla...   \n",
       "\n",
       "       useful  funny  cool   name  review_count       yelping_since  fans  \\\n",
       "55317       1      0     1  Megan         186.0 2007-09-20 01:23:27  36.0   \n",
       "88371       1      0     1   Erin         549.0 2009-08-21 17:28:19  55.0   \n",
       "\n",
       "       average_stars  \n",
       "55317           3.53  \n",
       "88371           4.05  "
      ]
     },
     "execution_count": 54,
     "metadata": {},
     "output_type": "execute_result"
    }
   ],
   "source": [
    "review_user_df.sample(2)"
   ]
  },
  {
   "cell_type": "code",
   "execution_count": 65,
   "metadata": {},
   "outputs": [
    {
     "data": {
      "text/plain": [
       "<AxesSubplot: >"
      ]
     },
     "execution_count": 65,
     "metadata": {},
     "output_type": "execute_result"
    },
    {
     "data": {
      "image/png": "[encoded data removed]",
      "text/plain": [
       "<Figure size 640x480 with 1 Axes>"
      ]
     },
     "metadata": {},
     "output_type": "display_data"
    }
   ],
   "source": [
    "review_user_df.groupby('user_id')['stars'].mean().plot(kind='box')"
   ]
  }
 ],
 "metadata": {
  "kernelspec": {
   "display_name": "Python 3.10.6 ('.venv': venv)",
   "language": "python",
   "name": "python3"
  },
  "language_info": {
   "codemirror_mode": {
    "name": "ipython",
    "version": 3
   },
   "file_extension": ".py",
   "mimetype": "text/x-python",
   "name": "python",
   "nbconvert_exporter": "python",
   "pygments_lexer": "ipython3",
   "version": "3.10.6"
  },
  "orig_nbformat": 4,
  "vscode": {
   "interpreter": {
    "hash": "d9ff7789c07841c8f20111f407694babc923276d4f7867ac28afe328a8c2ff35"
   }
  }
 },
 "nbformat": 4,
 "nbformat_minor": 2
}
