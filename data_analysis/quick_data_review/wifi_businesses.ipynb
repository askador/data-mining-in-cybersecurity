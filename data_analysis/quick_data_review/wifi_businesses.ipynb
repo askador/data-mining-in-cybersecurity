{
 "cells": [
  {
   "cell_type": "code",
   "execution_count": 1,
   "metadata": {},
   "outputs": [],
   "source": [
    "from pathlib import Path\n",
    "import sys\n",
    "import pandas as pd\n",
    "import matplotlib.pyplot as plt\n",
    "import seaborn as sns\n",
    "from data.paths.parquet_paths import WIFI_BUSINESSES"
   ]
  },
  {
   "cell_type": "code",
   "execution_count": 2,
   "metadata": {},
   "outputs": [],
   "source": [
    "df = pd.read_parquet(str(WIFI_BUSINESSES))"
   ]
  },
  {
   "cell_type": "code",
   "execution_count": 3,
   "metadata": {},
   "outputs": [
    {
     "name": "stdout",
     "output_type": "stream",
     "text": [
      "<class 'pandas.core.frame.DataFrame'>\n",
      "RangeIndex: 1748 entries, 0 to 1747\n",
      "Data columns (total 7 columns):\n",
      " #   Column       Non-Null Count  Dtype  \n",
      "---  ------       --------------  -----  \n",
      " 0   business_id  1748 non-null   object \n",
      " 1   name         1748 non-null   object \n",
      " 2   city         1748 non-null   object \n",
      " 3   state        1748 non-null   object \n",
      " 4   latitude     1748 non-null   float32\n",
      " 5   longitude    1748 non-null   float32\n",
      " 6   free_wifi    1748 non-null   bool   \n",
      "dtypes: bool(1), float32(2), object(4)\n",
      "memory usage: 70.1+ KB\n"
     ]
    }
   ],
   "source": [
    "df.info()"
   ]
  },
  {
   "cell_type": "code",
   "execution_count": 4,
   "metadata": {},
   "outputs": [
    {
     "data": {
      "text/html": [
       "<div>\n",
       "<style scoped>\n",
       "    .dataframe tbody tr th:only-of-type {\n",
       "        vertical-align: middle;\n",
       "    }\n",
       "\n",
       "    .dataframe tbody tr th {\n",
       "        vertical-align: top;\n",
       "    }\n",
       "\n",
       "    .dataframe thead th {\n",
       "        text-align: right;\n",
       "    }\n",
       "</style>\n",
       "<table border=\"1\" class=\"dataframe\">\n",
       "  <thead>\n",
       "    <tr style=\"text-align: right;\">\n",
       "      <th></th>\n",
       "      <th>business_id</th>\n",
       "      <th>name</th>\n",
       "      <th>city</th>\n",
       "      <th>state</th>\n",
       "      <th>latitude</th>\n",
       "      <th>longitude</th>\n",
       "      <th>free_wifi</th>\n",
       "    </tr>\n",
       "  </thead>\n",
       "  <tbody>\n",
       "    <tr>\n",
       "      <th>1110</th>\n",
       "      <td>7eb-UQiUkQJVyJAknCymUg</td>\n",
       "      <td>SpringHill Suites Phoenix North</td>\n",
       "      <td>Phoenix</td>\n",
       "      <td>AZ</td>\n",
       "      <td>33.572159</td>\n",
       "      <td>-112.115875</td>\n",
       "      <td>True</td>\n",
       "    </tr>\n",
       "    <tr>\n",
       "      <th>508</th>\n",
       "      <td>7dLsjpsoHDoOVIhQriYc7g</td>\n",
       "      <td>Hôtel le Germain</td>\n",
       "      <td>Montréal</td>\n",
       "      <td>QC</td>\n",
       "      <td>45.502411</td>\n",
       "      <td>-73.574394</td>\n",
       "      <td>True</td>\n",
       "    </tr>\n",
       "    <tr>\n",
       "      <th>1290</th>\n",
       "      <td>Q3mR1lPP29AxbbMQ93H35w</td>\n",
       "      <td>Starbucks</td>\n",
       "      <td>Gilbert</td>\n",
       "      <td>AZ</td>\n",
       "      <td>33.378616</td>\n",
       "      <td>-111.788795</td>\n",
       "      <td>True</td>\n",
       "    </tr>\n",
       "    <tr>\n",
       "      <th>826</th>\n",
       "      <td>ZG8PZgaMKhdJUpNxkc9Diw</td>\n",
       "      <td>595 Craft And Kitchen</td>\n",
       "      <td>Las Vegas</td>\n",
       "      <td>NV</td>\n",
       "      <td>36.098782</td>\n",
       "      <td>-115.242508</td>\n",
       "      <td>True</td>\n",
       "    </tr>\n",
       "    <tr>\n",
       "      <th>1727</th>\n",
       "      <td>hifhQ-zx4g3JMoP8CxtDwg</td>\n",
       "      <td>Burrito Burrito</td>\n",
       "      <td>Woodbridge</td>\n",
       "      <td>ON</td>\n",
       "      <td>43.827919</td>\n",
       "      <td>-79.558556</td>\n",
       "      <td>True</td>\n",
       "    </tr>\n",
       "  </tbody>\n",
       "</table>\n",
       "</div>"
      ],
      "text/plain": [
       "                 business_id                             name        city  \\\n",
       "1110  7eb-UQiUkQJVyJAknCymUg  SpringHill Suites Phoenix North     Phoenix   \n",
       "508   7dLsjpsoHDoOVIhQriYc7g                 Hôtel le Germain    Montréal   \n",
       "1290  Q3mR1lPP29AxbbMQ93H35w                        Starbucks     Gilbert   \n",
       "826   ZG8PZgaMKhdJUpNxkc9Diw            595 Craft And Kitchen   Las Vegas   \n",
       "1727  hifhQ-zx4g3JMoP8CxtDwg                  Burrito Burrito  Woodbridge   \n",
       "\n",
       "     state   latitude   longitude  free_wifi  \n",
       "1110    AZ  33.572159 -112.115875       True  \n",
       "508     QC  45.502411  -73.574394       True  \n",
       "1290    AZ  33.378616 -111.788795       True  \n",
       "826     NV  36.098782 -115.242508       True  \n",
       "1727    ON  43.827919  -79.558556       True  "
      ]
     },
     "execution_count": 4,
     "metadata": {},
     "output_type": "execute_result"
    }
   ],
   "source": [
    "df.sample(5)"
   ]
  },
  {
   "cell_type": "code",
   "execution_count": 5,
   "metadata": {},
   "outputs": [
    {
     "data": {
      "text/plain": [
       "True     1695\n",
       "False      53\n",
       "Name: free_wifi, dtype: int64"
      ]
     },
     "execution_count": 5,
     "metadata": {},
     "output_type": "execute_result"
    }
   ],
   "source": [
    "df['free_wifi'].value_counts()"
   ]
  }
 ],
 "metadata": {
  "kernelspec": {
   "display_name": "Python 3.10.6 ('.venv': venv)",
   "language": "python",
   "name": "python3"
  },
  "language_info": {
   "codemirror_mode": {
    "name": "ipython",
    "version": 3
   },
   "file_extension": ".py",
   "mimetype": "text/x-python",
   "name": "python",
   "nbconvert_exporter": "python",
   "pygments_lexer": "ipython3",
   "version": "3.10.6"
  },
  "orig_nbformat": 4,
  "vscode": {
   "interpreter": {
    "hash": "d9ff7789c07841c8f20111f407694babc923276d4f7867ac28afe328a8c2ff35"
   }
  }
 },
 "nbformat": 4,
 "nbformat_minor": 2
}
