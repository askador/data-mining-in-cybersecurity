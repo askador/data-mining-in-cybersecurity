{
 "cells": [
  {
   "cell_type": "code",
   "execution_count": 1,
   "metadata": {},
   "outputs": [],
   "source": [
    "from pathlib import Path\n",
    "import sys\n",
    "import pandas as pd\n",
    "import matplotlib.pyplot as plt\n",
    "import seaborn as sns\n",
    "from data.paths.parquet_paths import COUNTED_HOURS_BUSINESS"
   ]
  },
  {
   "cell_type": "code",
   "execution_count": 2,
   "metadata": {},
   "outputs": [],
   "source": [
    "df = pd.read_parquet(str(COUNTED_HOURS_BUSINESS))"
   ]
  },
  {
   "cell_type": "code",
   "execution_count": 3,
   "metadata": {},
   "outputs": [
    {
     "name": "stdout",
     "output_type": "stream",
     "text": [
      "<class 'pandas.core.frame.DataFrame'>\n",
      "RangeIndex: 3609 entries, 0 to 3608\n",
      "Data columns (total 4 columns):\n",
      " #   Column           Non-Null Count  Dtype  \n",
      "---  ------           --------------  -----  \n",
      " 0   business_id      3609 non-null   object \n",
      " 1   name             3609 non-null   object \n",
      " 2   avg_hours_open   3609 non-null   float32\n",
      " 3   is_open_for_24h  3609 non-null   bool   \n",
      "dtypes: bool(1), float32(1), object(2)\n",
      "memory usage: 74.1+ KB\n"
     ]
    }
   ],
   "source": [
    "df.info()"
   ]
  },
  {
   "cell_type": "code",
   "execution_count": 6,
   "metadata": {},
   "outputs": [
    {
     "data": {
      "text/html": [
       "<div>\n",
       "<style scoped>\n",
       "    .dataframe tbody tr th:only-of-type {\n",
       "        vertical-align: middle;\n",
       "    }\n",
       "\n",
       "    .dataframe tbody tr th {\n",
       "        vertical-align: top;\n",
       "    }\n",
       "\n",
       "    .dataframe thead th {\n",
       "        text-align: right;\n",
       "    }\n",
       "</style>\n",
       "<table border=\"1\" class=\"dataframe\">\n",
       "  <thead>\n",
       "    <tr style=\"text-align: right;\">\n",
       "      <th></th>\n",
       "      <th>business_id</th>\n",
       "      <th>name</th>\n",
       "      <th>avg_hours_open</th>\n",
       "      <th>is_open_for_24h</th>\n",
       "    </tr>\n",
       "  </thead>\n",
       "  <tbody>\n",
       "    <tr>\n",
       "      <th>2124</th>\n",
       "      <td>_CZUfZp5A2TqP5UeohDFVg</td>\n",
       "      <td>See's Candies</td>\n",
       "      <td>11.43</td>\n",
       "      <td>True</td>\n",
       "    </tr>\n",
       "    <tr>\n",
       "      <th>3560</th>\n",
       "      <td>z2JTN5PXemCRGtGbKiOvZw</td>\n",
       "      <td>Avenue Nails &amp; Spa</td>\n",
       "      <td>10.29</td>\n",
       "      <td>True</td>\n",
       "    </tr>\n",
       "    <tr>\n",
       "      <th>3573</th>\n",
       "      <td>zNjylXcTRfNfBecBrVbIpA</td>\n",
       "      <td>Specs On Bloor</td>\n",
       "      <td>10.67</td>\n",
       "      <td>True</td>\n",
       "    </tr>\n",
       "    <tr>\n",
       "      <th>2584</th>\n",
       "      <td>i-Ew0umBqD1whnQgSHBYAA</td>\n",
       "      <td>BeU Nails + Beauty</td>\n",
       "      <td>10.71</td>\n",
       "      <td>True</td>\n",
       "    </tr>\n",
       "    <tr>\n",
       "      <th>3270</th>\n",
       "      <td>tqumNKvNmeII_DRG6SdRuw</td>\n",
       "      <td>Best Bite Bar &amp; Grill</td>\n",
       "      <td>9.43</td>\n",
       "      <td>True</td>\n",
       "    </tr>\n",
       "    <tr>\n",
       "      <th>589</th>\n",
       "      <td>9Jo1pu0y2zU6ktiwQm6gNA</td>\n",
       "      <td>Coconut's Fish Cafe</td>\n",
       "      <td>11.14</td>\n",
       "      <td>True</td>\n",
       "    </tr>\n",
       "    <tr>\n",
       "      <th>202</th>\n",
       "      <td>2RhICgMZI6DK-t374VRoow</td>\n",
       "      <td>Desert Medical Equipment</td>\n",
       "      <td>11.50</td>\n",
       "      <td>True</td>\n",
       "    </tr>\n",
       "    <tr>\n",
       "      <th>2712</th>\n",
       "      <td>jzMXgru3XusaFUiHQqbXog</td>\n",
       "      <td>Sunset Water Store</td>\n",
       "      <td>10.50</td>\n",
       "      <td>True</td>\n",
       "    </tr>\n",
       "    <tr>\n",
       "      <th>1863</th>\n",
       "      <td>W0cxKmNfkiQ6D0YoeDMLtg</td>\n",
       "      <td>Hop Haus Brewing Company</td>\n",
       "      <td>10.43</td>\n",
       "      <td>True</td>\n",
       "    </tr>\n",
       "    <tr>\n",
       "      <th>1717</th>\n",
       "      <td>Tjd4fcW4Rf-MLGRAog_JSg</td>\n",
       "      <td>CrossFit North Scottsdale</td>\n",
       "      <td>6.29</td>\n",
       "      <td>True</td>\n",
       "    </tr>\n",
       "  </tbody>\n",
       "</table>\n",
       "</div>"
      ],
      "text/plain": [
       "                 business_id                       name  avg_hours_open  \\\n",
       "2124  _CZUfZp5A2TqP5UeohDFVg              See's Candies           11.43   \n",
       "3560  z2JTN5PXemCRGtGbKiOvZw         Avenue Nails & Spa           10.29   \n",
       "3573  zNjylXcTRfNfBecBrVbIpA             Specs On Bloor           10.67   \n",
       "2584  i-Ew0umBqD1whnQgSHBYAA         BeU Nails + Beauty           10.71   \n",
       "3270  tqumNKvNmeII_DRG6SdRuw      Best Bite Bar & Grill            9.43   \n",
       "589   9Jo1pu0y2zU6ktiwQm6gNA        Coconut's Fish Cafe           11.14   \n",
       "202   2RhICgMZI6DK-t374VRoow   Desert Medical Equipment           11.50   \n",
       "2712  jzMXgru3XusaFUiHQqbXog         Sunset Water Store           10.50   \n",
       "1863  W0cxKmNfkiQ6D0YoeDMLtg   Hop Haus Brewing Company           10.43   \n",
       "1717  Tjd4fcW4Rf-MLGRAog_JSg  CrossFit North Scottsdale            6.29   \n",
       "\n",
       "      is_open_for_24h  \n",
       "2124             True  \n",
       "3560             True  \n",
       "3573             True  \n",
       "2584             True  \n",
       "3270             True  \n",
       "589              True  \n",
       "202              True  \n",
       "2712             True  \n",
       "1863             True  \n",
       "1717             True  "
      ]
     },
     "execution_count": 6,
     "metadata": {},
     "output_type": "execute_result"
    }
   ],
   "source": [
    "df.query(\"avg_hours_open < 12 and is_open_for_24h\").sample(10)"
   ]
  }
 ],
 "metadata": {
  "kernelspec": {
   "display_name": "Python 3.10.6 ('.venv': venv)",
   "language": "python",
   "name": "python3"
  },
  "language_info": {
   "codemirror_mode": {
    "name": "ipython",
    "version": 3
   },
   "file_extension": ".py",
   "mimetype": "text/x-python",
   "name": "python",
   "nbconvert_exporter": "python",
   "pygments_lexer": "ipython3",
   "version": "3.10.6"
  },
  "orig_nbformat": 4,
  "vscode": {
   "interpreter": {
    "hash": "d9ff7789c07841c8f20111f407694babc923276d4f7867ac28afe328a8c2ff35"
   }
  }
 },
 "nbformat": 4,
 "nbformat_minor": 2
}
