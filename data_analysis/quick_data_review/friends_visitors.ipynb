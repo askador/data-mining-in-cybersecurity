{
 "cells": [
  {
   "cell_type": "code",
   "execution_count": 2,
   "metadata": {},
   "outputs": [],
   "source": [
    "from pathlib import Path\n",
    "import sys\n",
    "import pandas as pd\n",
    "import matplotlib.pyplot as plt\n",
    "import seaborn as sns\n",
    "import networkx as nx\n",
    "from data.paths.parquet_paths import FRIENDS_VISITORS"
   ]
  },
  {
   "cell_type": "code",
   "execution_count": 3,
   "metadata": {},
   "outputs": [],
   "source": [
    "df = pd.read_parquet(str(FRIENDS_VISITORS))"
   ]
  },
  {
   "cell_type": "code",
   "execution_count": 4,
   "metadata": {},
   "outputs": [
    {
     "name": "stdout",
     "output_type": "stream",
     "text": [
      "<class 'pandas.core.frame.DataFrame'>\n",
      "RangeIndex: 1105 entries, 0 to 1104\n",
      "Data columns (total 5 columns):\n",
      " #   Column             Non-Null Count  Dtype \n",
      "---  ------             --------------  ----- \n",
      " 0   business_id        1105 non-null   object\n",
      " 1   business_name      1105 non-null   object\n",
      " 2   user_id            1105 non-null   object\n",
      " 3   user_name          1105 non-null   object\n",
      " 4   friends_attendees  1105 non-null   object\n",
      "dtypes: object(5)\n",
      "memory usage: 43.3+ KB\n"
     ]
    }
   ],
   "source": [
    "df.info()"
   ]
  },
  {
   "cell_type": "code",
   "execution_count": 5,
   "metadata": {},
   "outputs": [
    {
     "data": {
      "text/html": [
       "<div>\n",
       "<style scoped>\n",
       "    .dataframe tbody tr th:only-of-type {\n",
       "        vertical-align: middle;\n",
       "    }\n",
       "\n",
       "    .dataframe tbody tr th {\n",
       "        vertical-align: top;\n",
       "    }\n",
       "\n",
       "    .dataframe thead th {\n",
       "        text-align: right;\n",
       "    }\n",
       "</style>\n",
       "<table border=\"1\" class=\"dataframe\">\n",
       "  <thead>\n",
       "    <tr style=\"text-align: right;\">\n",
       "      <th></th>\n",
       "      <th>business_id</th>\n",
       "      <th>business_name</th>\n",
       "      <th>user_id</th>\n",
       "      <th>user_name</th>\n",
       "      <th>friends_attendees</th>\n",
       "    </tr>\n",
       "  </thead>\n",
       "  <tbody>\n",
       "    <tr>\n",
       "      <th>949</th>\n",
       "      <td>rcaPajgKOJC2vo_l3xa42A</td>\n",
       "      <td>Bouchon</td>\n",
       "      <td>DtajKETYfOtSsKJCD33SOw</td>\n",
       "      <td>Belle</td>\n",
       "      <td>[{'user_id': '0nOIH8qIMnmZdLCTemnRsw', 'user_n...</td>\n",
       "    </tr>\n",
       "    <tr>\n",
       "      <th>216</th>\n",
       "      <td>WCFz9KVJTtIXSVvD5NMYoQ</td>\n",
       "      <td>Chart House</td>\n",
       "      <td>YwaKGmRNnSa3R3N4Hf9jLw</td>\n",
       "      <td>Paolo</td>\n",
       "      <td>[{'user_id': 'lsSiIjAKVl-QRxKjRErBeg', 'user_n...</td>\n",
       "    </tr>\n",
       "    <tr>\n",
       "      <th>142</th>\n",
       "      <td>SZEFE5hL7aN5nM-A44iPwQ</td>\n",
       "      <td>Prime</td>\n",
       "      <td>53bZ_EsXH71L7iFs5MP9_w</td>\n",
       "      <td>Cynthia</td>\n",
       "      <td>[{'user_id': '8Z9ugoA4MGwiJVh-CB8bhQ', 'user_n...</td>\n",
       "    </tr>\n",
       "    <tr>\n",
       "      <th>526</th>\n",
       "      <td>2JUDgnmoLDxD97gqmand9Q</td>\n",
       "      <td>Chipotle Mexican Grill</td>\n",
       "      <td>rA97zeqOrUYuEM69n0Xn4w</td>\n",
       "      <td>AMber</td>\n",
       "      <td>[{'user_id': 'qibGLHABNReGeJr2w4_8yQ', 'user_n...</td>\n",
       "    </tr>\n",
       "  </tbody>\n",
       "</table>\n",
       "</div>"
      ],
      "text/plain": [
       "                business_id           business_name                 user_id  \\\n",
       "949  rcaPajgKOJC2vo_l3xa42A                 Bouchon  DtajKETYfOtSsKJCD33SOw   \n",
       "216  WCFz9KVJTtIXSVvD5NMYoQ             Chart House  YwaKGmRNnSa3R3N4Hf9jLw   \n",
       "142  SZEFE5hL7aN5nM-A44iPwQ                   Prime  53bZ_EsXH71L7iFs5MP9_w   \n",
       "526  2JUDgnmoLDxD97gqmand9Q  Chipotle Mexican Grill  rA97zeqOrUYuEM69n0Xn4w   \n",
       "\n",
       "    user_name                                  friends_attendees  \n",
       "949     Belle  [{'user_id': '0nOIH8qIMnmZdLCTemnRsw', 'user_n...  \n",
       "216     Paolo  [{'user_id': 'lsSiIjAKVl-QRxKjRErBeg', 'user_n...  \n",
       "142   Cynthia  [{'user_id': '8Z9ugoA4MGwiJVh-CB8bhQ', 'user_n...  \n",
       "526     AMber  [{'user_id': 'qibGLHABNReGeJr2w4_8yQ', 'user_n...  "
      ]
     },
     "execution_count": 5,
     "metadata": {},
     "output_type": "execute_result"
    }
   ],
   "source": [
    "df.sample(4)"
   ]
  },
  {
   "cell_type": "code",
   "execution_count": 6,
   "metadata": {},
   "outputs": [
    {
     "data": {
      "text/html": [
       "<div>\n",
       "<style scoped>\n",
       "    .dataframe tbody tr th:only-of-type {\n",
       "        vertical-align: middle;\n",
       "    }\n",
       "\n",
       "    .dataframe tbody tr th {\n",
       "        vertical-align: top;\n",
       "    }\n",
       "\n",
       "    .dataframe thead th {\n",
       "        text-align: right;\n",
       "    }\n",
       "</style>\n",
       "<table border=\"1\" class=\"dataframe\">\n",
       "  <thead>\n",
       "    <tr style=\"text-align: right;\">\n",
       "      <th></th>\n",
       "      <th>business_id</th>\n",
       "      <th>business_name</th>\n",
       "      <th>user_id</th>\n",
       "      <th>user_name</th>\n",
       "      <th>friends_attendees</th>\n",
       "    </tr>\n",
       "  </thead>\n",
       "  <tbody>\n",
       "    <tr>\n",
       "      <th>243</th>\n",
       "      <td>1HD5iUUfVJDbfEBIn9yVhw</td>\n",
       "      <td>Boba Tea House</td>\n",
       "      <td>sYtSLVYOyWavDzBU1ot5vw</td>\n",
       "      <td>Geoff</td>\n",
       "      <td>[{'user_id': 'M9rRM6Eo5YbKLKMG5QiIPA', 'user_n...</td>\n",
       "    </tr>\n",
       "    <tr>\n",
       "      <th>266</th>\n",
       "      <td>1HD5iUUfVJDbfEBIn9yVhw</td>\n",
       "      <td>Boba Tea House</td>\n",
       "      <td>Mv2qM96jDdKXJNDvzANU-g</td>\n",
       "      <td>Robin</td>\n",
       "      <td>[{'user_id': 'M9rRM6Eo5YbKLKMG5QiIPA', 'user_n...</td>\n",
       "    </tr>\n",
       "    <tr>\n",
       "      <th>267</th>\n",
       "      <td>1HD5iUUfVJDbfEBIn9yVhw</td>\n",
       "      <td>Boba Tea House</td>\n",
       "      <td>iDlkZO2iILS8Jwfdy7DP9A</td>\n",
       "      <td>Judy</td>\n",
       "      <td>[{'user_id': 'M9rRM6Eo5YbKLKMG5QiIPA', 'user_n...</td>\n",
       "    </tr>\n",
       "    <tr>\n",
       "      <th>406</th>\n",
       "      <td>1HD5iUUfVJDbfEBIn9yVhw</td>\n",
       "      <td>Boba Tea House</td>\n",
       "      <td>9uE0smG2bwgkI95RPj0lPQ</td>\n",
       "      <td>Su-shien</td>\n",
       "      <td>[{'user_id': 'sYtSLVYOyWavDzBU1ot5vw', 'user_n...</td>\n",
       "    </tr>\n",
       "    <tr>\n",
       "      <th>409</th>\n",
       "      <td>1HD5iUUfVJDbfEBIn9yVhw</td>\n",
       "      <td>Boba Tea House</td>\n",
       "      <td>DSDL_v5dvLOIJ-o5sRhz4w</td>\n",
       "      <td>Kathy</td>\n",
       "      <td>[{'user_id': 'M9rRM6Eo5YbKLKMG5QiIPA', 'user_n...</td>\n",
       "    </tr>\n",
       "    <tr>\n",
       "      <th>837</th>\n",
       "      <td>1HD5iUUfVJDbfEBIn9yVhw</td>\n",
       "      <td>Boba Tea House</td>\n",
       "      <td>M9rRM6Eo5YbKLKMG5QiIPA</td>\n",
       "      <td>Aileen</td>\n",
       "      <td>[{'user_id': 'sYtSLVYOyWavDzBU1ot5vw', 'user_n...</td>\n",
       "    </tr>\n",
       "    <tr>\n",
       "      <th>983</th>\n",
       "      <td>1HD5iUUfVJDbfEBIn9yVhw</td>\n",
       "      <td>Boba Tea House</td>\n",
       "      <td>2nE0zU6y_F7gkwHi3yL6cQ</td>\n",
       "      <td>Erin</td>\n",
       "      <td>[{'user_id': 'iDlkZO2iILS8Jwfdy7DP9A', 'user_n...</td>\n",
       "    </tr>\n",
       "  </tbody>\n",
       "</table>\n",
       "</div>"
      ],
      "text/plain": [
       "                business_id   business_name                 user_id user_name  \\\n",
       "243  1HD5iUUfVJDbfEBIn9yVhw  Boba Tea House  sYtSLVYOyWavDzBU1ot5vw     Geoff   \n",
       "266  1HD5iUUfVJDbfEBIn9yVhw  Boba Tea House  Mv2qM96jDdKXJNDvzANU-g     Robin   \n",
       "267  1HD5iUUfVJDbfEBIn9yVhw  Boba Tea House  iDlkZO2iILS8Jwfdy7DP9A      Judy   \n",
       "406  1HD5iUUfVJDbfEBIn9yVhw  Boba Tea House  9uE0smG2bwgkI95RPj0lPQ  Su-shien   \n",
       "409  1HD5iUUfVJDbfEBIn9yVhw  Boba Tea House  DSDL_v5dvLOIJ-o5sRhz4w     Kathy   \n",
       "837  1HD5iUUfVJDbfEBIn9yVhw  Boba Tea House  M9rRM6Eo5YbKLKMG5QiIPA    Aileen   \n",
       "983  1HD5iUUfVJDbfEBIn9yVhw  Boba Tea House  2nE0zU6y_F7gkwHi3yL6cQ      Erin   \n",
       "\n",
       "                                     friends_attendees  \n",
       "243  [{'user_id': 'M9rRM6Eo5YbKLKMG5QiIPA', 'user_n...  \n",
       "266  [{'user_id': 'M9rRM6Eo5YbKLKMG5QiIPA', 'user_n...  \n",
       "267  [{'user_id': 'M9rRM6Eo5YbKLKMG5QiIPA', 'user_n...  \n",
       "406  [{'user_id': 'sYtSLVYOyWavDzBU1ot5vw', 'user_n...  \n",
       "409  [{'user_id': 'M9rRM6Eo5YbKLKMG5QiIPA', 'user_n...  \n",
       "837  [{'user_id': 'sYtSLVYOyWavDzBU1ot5vw', 'user_n...  \n",
       "983  [{'user_id': 'iDlkZO2iILS8Jwfdy7DP9A', 'user_n...  "
      ]
     },
     "execution_count": 6,
     "metadata": {},
     "output_type": "execute_result"
    }
   ],
   "source": [
    "df.query(\"business_id == '1HD5iUUfVJDbfEBIn9yVhw'\")"
   ]
  },
  {
   "cell_type": "markdown",
   "metadata": {},
   "source": [
    "# Networking"
   ]
  },
  {
   "cell_type": "markdown",
   "metadata": {},
   "source": [
    "business_name to user_id"
   ]
  },
  {
   "cell_type": "code",
   "execution_count": 7,
   "metadata": {},
   "outputs": [],
   "source": [
    "business_user_network_df = df[['business_name', 'user_id']]"
   ]
  },
  {
   "cell_type": "code",
   "execution_count": 8,
   "metadata": {},
   "outputs": [],
   "source": [
    "business_user_network_graph = nx.from_pandas_edgelist(\n",
    "    business_user_network_df, source='business_name',\n",
    "    target='user_id', create_using=nx.Graph()\n",
    ")"
   ]
  },
  {
   "cell_type": "code",
   "execution_count": 9,
   "metadata": {},
   "outputs": [],
   "source": [
    "from pyvis.network import Network\n",
    "from community.community_louvain import best_partition, partition_at_level\n",
    "\n",
    "business_node_degree = dict(business_user_network_graph.degree)\n",
    "\n",
    "#Setting up node size attribute\n",
    "nx.set_node_attributes(business_user_network_graph, business_node_degree, 'business_size')"
   ]
  },
  {
   "cell_type": "code",
   "execution_count": 10,
   "metadata": {},
   "outputs": [],
   "source": [
    "business_communities = best_partition(business_user_network_graph)\n",
    "nx.set_node_attributes(business_user_network_graph, business_communities, 'business_group')"
   ]
  },
  {
   "cell_type": "code",
   "execution_count": 11,
   "metadata": {},
   "outputs": [],
   "source": [
    "business_net = Network(width=\"1800px\", height=\"1000px\", bgcolor='#222222', font_color='white')\n",
    "\n",
    "business_net.from_nx(business_user_network_graph)\n",
    "business_net.show_buttons(filter_=True)\n",
    "business_net.show(\"graph-business-users.html\")"
   ]
  },
  {
   "cell_type": "markdown",
   "metadata": {},
   "source": [
    "user_id to friend_id"
   ]
  },
  {
   "cell_type": "code",
   "execution_count": null,
   "metadata": {},
   "outputs": [],
   "source": [
    "user_friends_network_df = pd.DataFrame({\"user_name\": [], \"friend_name\": []})\n",
    "\n",
    "def create_friends_attendees_network(src: str, tr: str, from_df, to_df) -> pd.DataFrame:\n",
    "    for i, row in from_df.iterrows():\n",
    "        source = row[src]\n",
    "        targets = row[tr]\n",
    "        for user in targets:\n",
    "            to_df.loc[len(to_df)] = [source, user['user_name']]\n",
    "    \n",
    "    return to_df\n",
    "    \n",
    "user_friends_network_df = create_friends_attendees_network('user_name', 'friends_attendees', df, user_friends_network_df)"
   ]
  },
  {
   "cell_type": "code",
   "execution_count": null,
   "metadata": {},
   "outputs": [],
   "source": [
    "user_friends_network_df[\"value\"] = 1\n",
    "user_friends_network_df = user_friends_network_df.groupby([\"user_name\",\"friend_name\"], sort=False, as_index=False).sum()"
   ]
  },
  {
   "cell_type": "code",
   "execution_count": null,
   "metadata": {},
   "outputs": [],
   "source": [
    "user_friends_network_df.head(5)"
   ]
  },
  {
   "cell_type": "code",
   "execution_count": null,
   "metadata": {},
   "outputs": [],
   "source": [
    "user_friends_network_graph = nx.from_pandas_edgelist(\n",
    "    user_friends_network_df, source='user_name',\n",
    "    target='friend_name', edge_attr='value', create_using=nx.Graph()\n",
    ")"
   ]
  },
  {
   "cell_type": "code",
   "execution_count": null,
   "metadata": {},
   "outputs": [],
   "source": [
    "friends_node_degree = dict(user_friends_network_graph.degree)\n",
    "\n",
    "#Setting up node size attribute\n",
    "nx.set_node_attributes(user_friends_network_graph, friends_node_degree, 'friends_size')"
   ]
  },
  {
   "cell_type": "code",
   "execution_count": null,
   "metadata": {},
   "outputs": [],
   "source": [
    "friends_communities = best_partition(user_friends_network_graph)\n",
    "nx.set_node_attributes(user_friends_network_graph, friends_communities, 'friends_group')"
   ]
  },
  {
   "cell_type": "code",
   "execution_count": null,
   "metadata": {},
   "outputs": [],
   "source": [
    "friends_net = Network(notebook=True, width=\"1800px\", height=\"1013px\", bgcolor='#222222', font_color='white')\n",
    "\n",
    "friends_net.from_nx(user_friends_network_graph)\n",
    "friends_net.show_buttons(filter_=True)\n",
    "friends_net.show(\"graph-user-friends.html\")"
   ]
  }
 ],
 "metadata": {
  "kernelspec": {
   "display_name": "Python 3 (ipykernel)",
   "language": "python",
   "name": "python3"
  },
  "language_info": {
   "codemirror_mode": {
    "name": "ipython",
    "version": 3
   },
   "file_extension": ".py",
   "mimetype": "text/x-python",
   "name": "python",
   "nbconvert_exporter": "python",
   "pygments_lexer": "ipython3",
   "version": "3.10.7"
  },
  "vscode": {
   "interpreter": {
    "hash": "d9ff7789c07841c8f20111f407694babc923276d4f7867ac28afe328a8c2ff35"
   }
  }
 },
 "nbformat": 4,
 "nbformat_minor": 4
}
