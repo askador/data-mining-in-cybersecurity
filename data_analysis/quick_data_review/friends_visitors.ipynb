{
 "cells": [
  {
   "cell_type": "code",
   "execution_count": 1,
   "metadata": {},
   "outputs": [],
   "source": [
    "from pathlib import Path\n",
    "import sys\n",
    "import pandas as pd\n",
    "import matplotlib.pyplot as plt\n",
    "import seaborn as sns\n",
    "from data.paths.parquet_paths import FRIENDS_VISITORS"
   ]
  },
  {
   "cell_type": "code",
   "execution_count": 2,
   "metadata": {},
   "outputs": [],
   "source": [
    "df = pd.read_parquet(str(FRIENDS_VISITORS))"
   ]
  },
  {
   "cell_type": "code",
   "execution_count": 3,
   "metadata": {},
   "outputs": [
    {
     "name": "stdout",
     "output_type": "stream",
     "text": [
      "<class 'pandas.core.frame.DataFrame'>\n",
      "RangeIndex: 1105 entries, 0 to 1104\n",
      "Data columns (total 5 columns):\n",
      " #   Column             Non-Null Count  Dtype \n",
      "---  ------             --------------  ----- \n",
      " 0   business_id        1105 non-null   object\n",
      " 1   business_name      1105 non-null   object\n",
      " 2   user_id            1105 non-null   object\n",
      " 3   user_name          1105 non-null   object\n",
      " 4   friends_attendees  1105 non-null   object\n",
      "dtypes: object(5)\n",
      "memory usage: 43.3+ KB\n"
     ]
    }
   ],
   "source": [
    "df.info()"
   ]
  },
  {
   "cell_type": "code",
   "execution_count": 4,
   "metadata": {},
   "outputs": [
    {
     "data": {
      "text/html": [
       "<div>\n",
       "<style scoped>\n",
       "    .dataframe tbody tr th:only-of-type {\n",
       "        vertical-align: middle;\n",
       "    }\n",
       "\n",
       "    .dataframe tbody tr th {\n",
       "        vertical-align: top;\n",
       "    }\n",
       "\n",
       "    .dataframe thead th {\n",
       "        text-align: right;\n",
       "    }\n",
       "</style>\n",
       "<table border=\"1\" class=\"dataframe\">\n",
       "  <thead>\n",
       "    <tr style=\"text-align: right;\">\n",
       "      <th></th>\n",
       "      <th>business_id</th>\n",
       "      <th>business_name</th>\n",
       "      <th>user_id</th>\n",
       "      <th>user_name</th>\n",
       "      <th>friends_attendees</th>\n",
       "    </tr>\n",
       "  </thead>\n",
       "  <tbody>\n",
       "    <tr>\n",
       "      <th>471</th>\n",
       "      <td>k1c_bC3DK6mKg797vH1T8w</td>\n",
       "      <td>Beckett's Table</td>\n",
       "      <td>VYqRk78kesHn86jPngPUXQ</td>\n",
       "      <td>Sara</td>\n",
       "      <td>[{'user_id': 'Rs-HbyVraRCP2X4ey1t-IQ', 'user_n...</td>\n",
       "    </tr>\n",
       "    <tr>\n",
       "      <th>74</th>\n",
       "      <td>buTa1akbH0pO_P10v99_eA</td>\n",
       "      <td>Honey Pig</td>\n",
       "      <td>AyjqBovADgbskmLrIBOMlQ</td>\n",
       "      <td>Steff</td>\n",
       "      <td>[{'user_id': 'GawyLibaMGt3PCsv-hI5sA', 'user_n...</td>\n",
       "    </tr>\n",
       "    <tr>\n",
       "      <th>922</th>\n",
       "      <td>bKSIcXTdr5qg83SFq_gOTA</td>\n",
       "      <td>David &amp; Goliath</td>\n",
       "      <td>XvVkluYp5Sx3aqpo1NFM4Q</td>\n",
       "      <td>Vivian</td>\n",
       "      <td>[{'user_id': 'iZNs250Zzjga4wSOU1AYcA', 'user_n...</td>\n",
       "    </tr>\n",
       "    <tr>\n",
       "      <th>106</th>\n",
       "      <td>oi6mahpAmEuikfihFVDmCw</td>\n",
       "      <td>Biscuits</td>\n",
       "      <td>d_TBs6J3twMy9GChqUEXkg</td>\n",
       "      <td>Jennifer</td>\n",
       "      <td>[{'user_id': 'PNx1x8x3wjTIjrjhaNiVAQ', 'user_n...</td>\n",
       "    </tr>\n",
       "  </tbody>\n",
       "</table>\n",
       "</div>"
      ],
      "text/plain": [
       "                business_id    business_name                 user_id  \\\n",
       "471  k1c_bC3DK6mKg797vH1T8w  Beckett's Table  VYqRk78kesHn86jPngPUXQ   \n",
       "74   buTa1akbH0pO_P10v99_eA        Honey Pig  AyjqBovADgbskmLrIBOMlQ   \n",
       "922  bKSIcXTdr5qg83SFq_gOTA  David & Goliath  XvVkluYp5Sx3aqpo1NFM4Q   \n",
       "106  oi6mahpAmEuikfihFVDmCw         Biscuits  d_TBs6J3twMy9GChqUEXkg   \n",
       "\n",
       "    user_name                                  friends_attendees  \n",
       "471      Sara  [{'user_id': 'Rs-HbyVraRCP2X4ey1t-IQ', 'user_n...  \n",
       "74      Steff  [{'user_id': 'GawyLibaMGt3PCsv-hI5sA', 'user_n...  \n",
       "922    Vivian  [{'user_id': 'iZNs250Zzjga4wSOU1AYcA', 'user_n...  \n",
       "106  Jennifer  [{'user_id': 'PNx1x8x3wjTIjrjhaNiVAQ', 'user_n...  "
      ]
     },
     "execution_count": 4,
     "metadata": {},
     "output_type": "execute_result"
    }
   ],
   "source": [
    "df.sample(4)"
   ]
  },
  {
   "cell_type": "code",
   "execution_count": 5,
   "metadata": {},
   "outputs": [
    {
     "data": {
      "text/html": [
       "<div>\n",
       "<style scoped>\n",
       "    .dataframe tbody tr th:only-of-type {\n",
       "        vertical-align: middle;\n",
       "    }\n",
       "\n",
       "    .dataframe tbody tr th {\n",
       "        vertical-align: top;\n",
       "    }\n",
       "\n",
       "    .dataframe thead th {\n",
       "        text-align: right;\n",
       "    }\n",
       "</style>\n",
       "<table border=\"1\" class=\"dataframe\">\n",
       "  <thead>\n",
       "    <tr style=\"text-align: right;\">\n",
       "      <th></th>\n",
       "      <th>business_id</th>\n",
       "      <th>business_name</th>\n",
       "      <th>user_id</th>\n",
       "      <th>user_name</th>\n",
       "      <th>friends_attendees</th>\n",
       "    </tr>\n",
       "  </thead>\n",
       "  <tbody>\n",
       "    <tr>\n",
       "      <th>243</th>\n",
       "      <td>1HD5iUUfVJDbfEBIn9yVhw</td>\n",
       "      <td>Boba Tea House</td>\n",
       "      <td>sYtSLVYOyWavDzBU1ot5vw</td>\n",
       "      <td>Geoff</td>\n",
       "      <td>[{'user_id': 'M9rRM6Eo5YbKLKMG5QiIPA', 'user_n...</td>\n",
       "    </tr>\n",
       "    <tr>\n",
       "      <th>266</th>\n",
       "      <td>1HD5iUUfVJDbfEBIn9yVhw</td>\n",
       "      <td>Boba Tea House</td>\n",
       "      <td>Mv2qM96jDdKXJNDvzANU-g</td>\n",
       "      <td>Robin</td>\n",
       "      <td>[{'user_id': 'M9rRM6Eo5YbKLKMG5QiIPA', 'user_n...</td>\n",
       "    </tr>\n",
       "    <tr>\n",
       "      <th>267</th>\n",
       "      <td>1HD5iUUfVJDbfEBIn9yVhw</td>\n",
       "      <td>Boba Tea House</td>\n",
       "      <td>iDlkZO2iILS8Jwfdy7DP9A</td>\n",
       "      <td>Judy</td>\n",
       "      <td>[{'user_id': 'M9rRM6Eo5YbKLKMG5QiIPA', 'user_n...</td>\n",
       "    </tr>\n",
       "    <tr>\n",
       "      <th>406</th>\n",
       "      <td>1HD5iUUfVJDbfEBIn9yVhw</td>\n",
       "      <td>Boba Tea House</td>\n",
       "      <td>9uE0smG2bwgkI95RPj0lPQ</td>\n",
       "      <td>Su-shien</td>\n",
       "      <td>[{'user_id': 'sYtSLVYOyWavDzBU1ot5vw', 'user_n...</td>\n",
       "    </tr>\n",
       "    <tr>\n",
       "      <th>409</th>\n",
       "      <td>1HD5iUUfVJDbfEBIn9yVhw</td>\n",
       "      <td>Boba Tea House</td>\n",
       "      <td>DSDL_v5dvLOIJ-o5sRhz4w</td>\n",
       "      <td>Kathy</td>\n",
       "      <td>[{'user_id': 'M9rRM6Eo5YbKLKMG5QiIPA', 'user_n...</td>\n",
       "    </tr>\n",
       "    <tr>\n",
       "      <th>837</th>\n",
       "      <td>1HD5iUUfVJDbfEBIn9yVhw</td>\n",
       "      <td>Boba Tea House</td>\n",
       "      <td>M9rRM6Eo5YbKLKMG5QiIPA</td>\n",
       "      <td>Aileen</td>\n",
       "      <td>[{'user_id': 'sYtSLVYOyWavDzBU1ot5vw', 'user_n...</td>\n",
       "    </tr>\n",
       "    <tr>\n",
       "      <th>983</th>\n",
       "      <td>1HD5iUUfVJDbfEBIn9yVhw</td>\n",
       "      <td>Boba Tea House</td>\n",
       "      <td>2nE0zU6y_F7gkwHi3yL6cQ</td>\n",
       "      <td>Erin</td>\n",
       "      <td>[{'user_id': 'iDlkZO2iILS8Jwfdy7DP9A', 'user_n...</td>\n",
       "    </tr>\n",
       "  </tbody>\n",
       "</table>\n",
       "</div>"
      ],
      "text/plain": [
       "                business_id   business_name                 user_id user_name  \\\n",
       "243  1HD5iUUfVJDbfEBIn9yVhw  Boba Tea House  sYtSLVYOyWavDzBU1ot5vw     Geoff   \n",
       "266  1HD5iUUfVJDbfEBIn9yVhw  Boba Tea House  Mv2qM96jDdKXJNDvzANU-g     Robin   \n",
       "267  1HD5iUUfVJDbfEBIn9yVhw  Boba Tea House  iDlkZO2iILS8Jwfdy7DP9A      Judy   \n",
       "406  1HD5iUUfVJDbfEBIn9yVhw  Boba Tea House  9uE0smG2bwgkI95RPj0lPQ  Su-shien   \n",
       "409  1HD5iUUfVJDbfEBIn9yVhw  Boba Tea House  DSDL_v5dvLOIJ-o5sRhz4w     Kathy   \n",
       "837  1HD5iUUfVJDbfEBIn9yVhw  Boba Tea House  M9rRM6Eo5YbKLKMG5QiIPA    Aileen   \n",
       "983  1HD5iUUfVJDbfEBIn9yVhw  Boba Tea House  2nE0zU6y_F7gkwHi3yL6cQ      Erin   \n",
       "\n",
       "                                     friends_attendees  \n",
       "243  [{'user_id': 'M9rRM6Eo5YbKLKMG5QiIPA', 'user_n...  \n",
       "266  [{'user_id': 'M9rRM6Eo5YbKLKMG5QiIPA', 'user_n...  \n",
       "267  [{'user_id': 'M9rRM6Eo5YbKLKMG5QiIPA', 'user_n...  \n",
       "406  [{'user_id': 'sYtSLVYOyWavDzBU1ot5vw', 'user_n...  \n",
       "409  [{'user_id': 'M9rRM6Eo5YbKLKMG5QiIPA', 'user_n...  \n",
       "837  [{'user_id': 'sYtSLVYOyWavDzBU1ot5vw', 'user_n...  \n",
       "983  [{'user_id': 'iDlkZO2iILS8Jwfdy7DP9A', 'user_n...  "
      ]
     },
     "execution_count": 5,
     "metadata": {},
     "output_type": "execute_result"
    }
   ],
   "source": [
    "df.query(\"business_id == '1HD5iUUfVJDbfEBIn9yVhw'\")"
   ]
  },
  {
   "cell_type": "markdown",
   "metadata": {},
   "source": [
    "# Networking"
   ]
  },
  {
   "cell_type": "code",
   "execution_count": 6,
   "metadata": {},
   "outputs": [],
   "source": [
    "from pyvis.network import Network\n",
    "from community.community_louvain import best_partition, partition_at_level\n",
    "import networkx as nx"
   ]
  },
  {
   "cell_type": "markdown",
   "metadata": {},
   "source": [
    "business_name to user_name"
   ]
  },
  {
   "cell_type": "code",
   "execution_count": 17,
   "metadata": {},
   "outputs": [],
   "source": [
    "business_user_network_df = df[['business_name', 'user_id']]"
   ]
  },
  {
   "cell_type": "code",
   "execution_count": 18,
   "metadata": {},
   "outputs": [],
   "source": [
    "business_user_network_graph = nx.from_pandas_edgelist(\n",
    "    business_user_network_df, source='business_name',\n",
    "    target='user_id', create_using=nx.Graph()\n",
    ")"
   ]
  },
  {
   "cell_type": "code",
   "execution_count": 19,
   "metadata": {},
   "outputs": [],
   "source": [
    "business_node_degree = dict(business_user_network_graph.degree)\n",
    "\n",
    "#Setting up node size attribute\n",
    "nx.set_node_attributes(business_user_network_graph, business_node_degree, 'size')"
   ]
  },
  {
   "cell_type": "code",
   "execution_count": 20,
   "metadata": {},
   "outputs": [],
   "source": [
    "business_communities = best_partition(business_user_network_graph)\n",
    "nx.set_node_attributes(business_user_network_graph, business_communities, 'group')"
   ]
  },
  {
   "cell_type": "code",
   "execution_count": 21,
   "metadata": {},
   "outputs": [],
   "source": [
    "business_net = Network(width=\"1800px\", height=\"1000px\", bgcolor='#222222', font_color='white')\n",
    "\n",
    "business_net.from_nx(business_user_network_graph)\n",
    "business_net.show_buttons(filter_=True)\n",
    "business_net.show(\"graph-business-users.html\")"
   ]
  },
  {
   "cell_type": "markdown",
   "metadata": {},
   "source": [
    "user_id to friend_id"
   ]
  },
  {
   "cell_type": "code",
   "execution_count": 29,
   "metadata": {},
   "outputs": [],
   "source": [
    "user_friends_network_df = pd.DataFrame({\"user_id\": [], \"friend_id\": []})\n",
    "\n",
    "for i, row in df.iterrows():\n",
    "    source = row['user_id']\n",
    "    targets = row['friends_attendees']\n",
    "    for user in targets:\n",
    "        user_friends_network_df.loc[len(user_friends_network_df)] = [source, user['user_id']]  # type: ignore"
   ]
  },
  {
   "cell_type": "code",
   "execution_count": 31,
   "metadata": {},
   "outputs": [],
   "source": [
    "user_friends_network_df[\"value\"] = 1\n",
    "user_friends_network_df = user_friends_network_df.groupby([\"user_id\",\"friend_id\"], sort=False, as_index=False).sum()"
   ]
  },
  {
   "cell_type": "code",
   "execution_count": 32,
   "metadata": {},
   "outputs": [],
   "source": [
    "user_friends_network_graph = nx.from_pandas_edgelist(\n",
    "    user_friends_network_df, source='user_id',\n",
    "    target='friend_id', edge_attr='value', create_using=nx.Graph()\n",
    ")"
   ]
  },
  {
   "cell_type": "code",
   "execution_count": 33,
   "metadata": {},
   "outputs": [],
   "source": [
    "friends_node_degree = dict(user_friends_network_graph.degree)\n",
    "\n",
    "#Setting up node size attribute\n",
    "nx.set_node_attributes(user_friends_network_graph, friends_node_degree, 'size')"
   ]
  },
  {
   "cell_type": "code",
   "execution_count": 34,
   "metadata": {},
   "outputs": [],
   "source": [
    "friends_communities = best_partition(user_friends_network_graph)\n",
    "nx.set_node_attributes(user_friends_network_graph, friends_communities, 'group')"
   ]
  },
  {
   "cell_type": "code",
   "execution_count": 35,
   "metadata": {},
   "outputs": [],
   "source": [
    "friends_net = Network(width=\"1800px\", height=\"1013px\", bgcolor='#222222', font_color='white')\n",
    "\n",
    "friends_net.from_nx(user_friends_network_graph)\n",
    "friends_net.show_buttons(filter_=True)\n",
    "friends_net.show(\"graph-user-friends.html\")"
   ]
  }
 ],
 "metadata": {
  "kernelspec": {
   "display_name": "Python 3 (ipykernel)",
   "language": "python",
   "name": "python3"
  },
  "language_info": {
   "codemirror_mode": {
    "name": "ipython",
    "version": 3
   },
   "file_extension": ".py",
   "mimetype": "text/x-python",
   "name": "python",
   "nbconvert_exporter": "python",
   "pygments_lexer": "ipython3",
   "version": "3.10.7"
  },
  "vscode": {
   "interpreter": {
    "hash": "d9ff7789c07841c8f20111f407694babc923276d4f7867ac28afe328a8c2ff35"
   }
  }
 },
 "nbformat": 4,
 "nbformat_minor": 4
}
