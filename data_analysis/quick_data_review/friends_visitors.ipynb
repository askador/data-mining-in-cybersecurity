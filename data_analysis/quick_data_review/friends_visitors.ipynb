{
 "cells": [
  {
   "cell_type": "code",
   "execution_count": 1,
   "metadata": {},
   "outputs": [],
   "source": [
    "from pathlib import Path\n",
    "import sys\n",
    "import pandas as pd\n",
    "import matplotlib.pyplot as plt\n",
    "import seaborn as sns\n",
    "import networkx as nx\n",
    "from data.paths.parquet_paths import FRIENDS_VISITORS"
   ]
  },
  {
   "cell_type": "code",
   "execution_count": 14,
   "metadata": {},
   "outputs": [],
   "source": [
    "df = pd.read_parquet(str(FRIENDS_VISITORS))"
   ]
  },
  {
   "cell_type": "code",
   "execution_count": 3,
   "metadata": {},
   "outputs": [
    {
     "name": "stdout",
     "output_type": "stream",
     "text": [
      "<class 'pandas.core.frame.DataFrame'>\n",
      "RangeIndex: 1105 entries, 0 to 1104\n",
      "Data columns (total 5 columns):\n",
      " #   Column             Non-Null Count  Dtype \n",
      "---  ------             --------------  ----- \n",
      " 0   business_id        1105 non-null   object\n",
      " 1   business_name      1105 non-null   object\n",
      " 2   user_id            1105 non-null   object\n",
      " 3   user_name          1105 non-null   object\n",
      " 4   friends_attendees  1105 non-null   object\n",
      "dtypes: object(5)\n",
      "memory usage: 43.3+ KB\n"
     ]
    }
   ],
   "source": [
    "df.info()"
   ]
  },
  {
   "cell_type": "code",
   "execution_count": 4,
   "metadata": {},
   "outputs": [
    {
     "data": {
      "text/html": [
       "<div>\n",
       "<style scoped>\n",
       "    .dataframe tbody tr th:only-of-type {\n",
       "        vertical-align: middle;\n",
       "    }\n",
       "\n",
       "    .dataframe tbody tr th {\n",
       "        vertical-align: top;\n",
       "    }\n",
       "\n",
       "    .dataframe thead th {\n",
       "        text-align: right;\n",
       "    }\n",
       "</style>\n",
       "<table border=\"1\" class=\"dataframe\">\n",
       "  <thead>\n",
       "    <tr style=\"text-align: right;\">\n",
       "      <th></th>\n",
       "      <th>business_id</th>\n",
       "      <th>business_name</th>\n",
       "      <th>user_id</th>\n",
       "      <th>user_name</th>\n",
       "      <th>friends_attendees</th>\n",
       "    </tr>\n",
       "  </thead>\n",
       "  <tbody>\n",
       "    <tr>\n",
       "      <th>557</th>\n",
       "      <td>Er5XAY2UFGGqBHdqpeCFkA</td>\n",
       "      <td>Zenshin Asian Restaurant</td>\n",
       "      <td>JADdo9NEeO5Az9aOYbyvZA</td>\n",
       "      <td>Manda Bear</td>\n",
       "      <td>[{'user_id': 'UYcmGbelzRa0Q6JqzLoguw', 'user_n...</td>\n",
       "    </tr>\n",
       "    <tr>\n",
       "      <th>680</th>\n",
       "      <td>1d6c6Q2j2jwVzBfX_dLHlg</td>\n",
       "      <td>Cowboy Ciao</td>\n",
       "      <td>YyhoFd8QUXxPiR4uyOxcEQ</td>\n",
       "      <td>Stephanie</td>\n",
       "      <td>[{'user_id': 'yH5H3fJrxFXuXyC6LQYacg', 'user_n...</td>\n",
       "    </tr>\n",
       "    <tr>\n",
       "      <th>246</th>\n",
       "      <td>vchjO0Vs5FwW2tpFnCimqg</td>\n",
       "      <td>Planet Hollywood Towers</td>\n",
       "      <td>uERlyO-ASZag6XXouCrkhg</td>\n",
       "      <td>Laurie</td>\n",
       "      <td>[{'user_id': 'qK5GQYyckJx_5tyqDtqrXw', 'user_n...</td>\n",
       "    </tr>\n",
       "    <tr>\n",
       "      <th>600</th>\n",
       "      <td>bsrj9_hFAql3dlSf244zpg</td>\n",
       "      <td>Trump International Hotel Las Vegas</td>\n",
       "      <td>_KDforIDsQS6bIaJi0_V0g</td>\n",
       "      <td>Elysse</td>\n",
       "      <td>[{'user_id': 'qcLHpcGmNhxrKad5E7f7eQ', 'user_n...</td>\n",
       "    </tr>\n",
       "  </tbody>\n",
       "</table>\n",
       "</div>"
      ],
      "text/plain": [
       "                business_id                        business_name  \\\n",
       "557  Er5XAY2UFGGqBHdqpeCFkA             Zenshin Asian Restaurant   \n",
       "680  1d6c6Q2j2jwVzBfX_dLHlg                          Cowboy Ciao   \n",
       "246  vchjO0Vs5FwW2tpFnCimqg              Planet Hollywood Towers   \n",
       "600  bsrj9_hFAql3dlSf244zpg  Trump International Hotel Las Vegas   \n",
       "\n",
       "                    user_id   user_name  \\\n",
       "557  JADdo9NEeO5Az9aOYbyvZA  Manda Bear   \n",
       "680  YyhoFd8QUXxPiR4uyOxcEQ   Stephanie   \n",
       "246  uERlyO-ASZag6XXouCrkhg      Laurie   \n",
       "600  _KDforIDsQS6bIaJi0_V0g      Elysse   \n",
       "\n",
       "                                     friends_attendees  \n",
       "557  [{'user_id': 'UYcmGbelzRa0Q6JqzLoguw', 'user_n...  \n",
       "680  [{'user_id': 'yH5H3fJrxFXuXyC6LQYacg', 'user_n...  \n",
       "246  [{'user_id': 'qK5GQYyckJx_5tyqDtqrXw', 'user_n...  \n",
       "600  [{'user_id': 'qcLHpcGmNhxrKad5E7f7eQ', 'user_n...  "
      ]
     },
     "execution_count": 4,
     "metadata": {},
     "output_type": "execute_result"
    }
   ],
   "source": [
    "df.sample(4)"
   ]
  },
  {
   "cell_type": "code",
   "execution_count": 5,
   "metadata": {},
   "outputs": [
    {
     "data": {
      "text/html": [
       "<div>\n",
       "<style scoped>\n",
       "    .dataframe tbody tr th:only-of-type {\n",
       "        vertical-align: middle;\n",
       "    }\n",
       "\n",
       "    .dataframe tbody tr th {\n",
       "        vertical-align: top;\n",
       "    }\n",
       "\n",
       "    .dataframe thead th {\n",
       "        text-align: right;\n",
       "    }\n",
       "</style>\n",
       "<table border=\"1\" class=\"dataframe\">\n",
       "  <thead>\n",
       "    <tr style=\"text-align: right;\">\n",
       "      <th></th>\n",
       "      <th>business_id</th>\n",
       "      <th>business_name</th>\n",
       "      <th>user_id</th>\n",
       "      <th>user_name</th>\n",
       "      <th>friends_attendees</th>\n",
       "    </tr>\n",
       "  </thead>\n",
       "  <tbody>\n",
       "    <tr>\n",
       "      <th>243</th>\n",
       "      <td>1HD5iUUfVJDbfEBIn9yVhw</td>\n",
       "      <td>Boba Tea House</td>\n",
       "      <td>sYtSLVYOyWavDzBU1ot5vw</td>\n",
       "      <td>Geoff</td>\n",
       "      <td>[{'user_id': 'M9rRM6Eo5YbKLKMG5QiIPA', 'user_n...</td>\n",
       "    </tr>\n",
       "    <tr>\n",
       "      <th>266</th>\n",
       "      <td>1HD5iUUfVJDbfEBIn9yVhw</td>\n",
       "      <td>Boba Tea House</td>\n",
       "      <td>Mv2qM96jDdKXJNDvzANU-g</td>\n",
       "      <td>Robin</td>\n",
       "      <td>[{'user_id': 'M9rRM6Eo5YbKLKMG5QiIPA', 'user_n...</td>\n",
       "    </tr>\n",
       "    <tr>\n",
       "      <th>267</th>\n",
       "      <td>1HD5iUUfVJDbfEBIn9yVhw</td>\n",
       "      <td>Boba Tea House</td>\n",
       "      <td>iDlkZO2iILS8Jwfdy7DP9A</td>\n",
       "      <td>Judy</td>\n",
       "      <td>[{'user_id': 'M9rRM6Eo5YbKLKMG5QiIPA', 'user_n...</td>\n",
       "    </tr>\n",
       "    <tr>\n",
       "      <th>406</th>\n",
       "      <td>1HD5iUUfVJDbfEBIn9yVhw</td>\n",
       "      <td>Boba Tea House</td>\n",
       "      <td>9uE0smG2bwgkI95RPj0lPQ</td>\n",
       "      <td>Su-shien</td>\n",
       "      <td>[{'user_id': 'sYtSLVYOyWavDzBU1ot5vw', 'user_n...</td>\n",
       "    </tr>\n",
       "    <tr>\n",
       "      <th>409</th>\n",
       "      <td>1HD5iUUfVJDbfEBIn9yVhw</td>\n",
       "      <td>Boba Tea House</td>\n",
       "      <td>DSDL_v5dvLOIJ-o5sRhz4w</td>\n",
       "      <td>Kathy</td>\n",
       "      <td>[{'user_id': 'M9rRM6Eo5YbKLKMG5QiIPA', 'user_n...</td>\n",
       "    </tr>\n",
       "    <tr>\n",
       "      <th>837</th>\n",
       "      <td>1HD5iUUfVJDbfEBIn9yVhw</td>\n",
       "      <td>Boba Tea House</td>\n",
       "      <td>M9rRM6Eo5YbKLKMG5QiIPA</td>\n",
       "      <td>Aileen</td>\n",
       "      <td>[{'user_id': 'sYtSLVYOyWavDzBU1ot5vw', 'user_n...</td>\n",
       "    </tr>\n",
       "    <tr>\n",
       "      <th>983</th>\n",
       "      <td>1HD5iUUfVJDbfEBIn9yVhw</td>\n",
       "      <td>Boba Tea House</td>\n",
       "      <td>2nE0zU6y_F7gkwHi3yL6cQ</td>\n",
       "      <td>Erin</td>\n",
       "      <td>[{'user_id': 'iDlkZO2iILS8Jwfdy7DP9A', 'user_n...</td>\n",
       "    </tr>\n",
       "  </tbody>\n",
       "</table>\n",
       "</div>"
      ],
      "text/plain": [
       "                business_id   business_name                 user_id user_name  \\\n",
       "243  1HD5iUUfVJDbfEBIn9yVhw  Boba Tea House  sYtSLVYOyWavDzBU1ot5vw     Geoff   \n",
       "266  1HD5iUUfVJDbfEBIn9yVhw  Boba Tea House  Mv2qM96jDdKXJNDvzANU-g     Robin   \n",
       "267  1HD5iUUfVJDbfEBIn9yVhw  Boba Tea House  iDlkZO2iILS8Jwfdy7DP9A      Judy   \n",
       "406  1HD5iUUfVJDbfEBIn9yVhw  Boba Tea House  9uE0smG2bwgkI95RPj0lPQ  Su-shien   \n",
       "409  1HD5iUUfVJDbfEBIn9yVhw  Boba Tea House  DSDL_v5dvLOIJ-o5sRhz4w     Kathy   \n",
       "837  1HD5iUUfVJDbfEBIn9yVhw  Boba Tea House  M9rRM6Eo5YbKLKMG5QiIPA    Aileen   \n",
       "983  1HD5iUUfVJDbfEBIn9yVhw  Boba Tea House  2nE0zU6y_F7gkwHi3yL6cQ      Erin   \n",
       "\n",
       "                                     friends_attendees  \n",
       "243  [{'user_id': 'M9rRM6Eo5YbKLKMG5QiIPA', 'user_n...  \n",
       "266  [{'user_id': 'M9rRM6Eo5YbKLKMG5QiIPA', 'user_n...  \n",
       "267  [{'user_id': 'M9rRM6Eo5YbKLKMG5QiIPA', 'user_n...  \n",
       "406  [{'user_id': 'sYtSLVYOyWavDzBU1ot5vw', 'user_n...  \n",
       "409  [{'user_id': 'M9rRM6Eo5YbKLKMG5QiIPA', 'user_n...  \n",
       "837  [{'user_id': 'sYtSLVYOyWavDzBU1ot5vw', 'user_n...  \n",
       "983  [{'user_id': 'iDlkZO2iILS8Jwfdy7DP9A', 'user_n...  "
      ]
     },
     "execution_count": 5,
     "metadata": {},
     "output_type": "execute_result"
    }
   ],
   "source": [
    "df.query(\"business_id == '1HD5iUUfVJDbfEBIn9yVhw'\")"
   ]
  },
  {
   "cell_type": "markdown",
   "metadata": {},
   "source": [
    "# Networking"
   ]
  },
  {
   "cell_type": "markdown",
   "metadata": {},
   "source": [
    "user_id to friend_id"
   ]
  },
  {
   "cell_type": "markdown",
   "metadata": {},
   "source": [
    "business_name to user_id"
   ]
  },
  {
   "cell_type": "code",
   "execution_count": 15,
   "metadata": {},
   "outputs": [],
   "source": [
    "user_friends_network_df = pd.DataFrame({\"user_name\": [], \"friend_name\": []})\n",
    "\n",
    "def create_friends_attendees_network(src: str, tr: str, from_df, to_df) -> pd.DataFrame:\n",
    "    for i, row in from_df.iterrows():\n",
    "        source = row[src]\n",
    "        targets = row[tr]\n",
    "        for user in targets:\n",
    "            to_df.loc[len(to_df)] = [source, user['user_name']]\n",
    "    \n",
    "    return to_df\n",
    "    \n",
    "user_friends_network_df = create_friends_attendees_network('user_name', 'friends_attendees', df, user_friends_network_df)"
   ]
  },
  {
   "cell_type": "code",
   "execution_count": 16,
   "metadata": {},
   "outputs": [
    {
     "name": "stdout",
     "output_type": "stream",
     "text": [
      "(2616, 2)\n"
     ]
    },
    {
     "data": {
      "text/html": [
       "<div>\n",
       "<style scoped>\n",
       "    .dataframe tbody tr th:only-of-type {\n",
       "        vertical-align: middle;\n",
       "    }\n",
       "\n",
       "    .dataframe tbody tr th {\n",
       "        vertical-align: top;\n",
       "    }\n",
       "\n",
       "    .dataframe thead th {\n",
       "        text-align: right;\n",
       "    }\n",
       "</style>\n",
       "<table border=\"1\" class=\"dataframe\">\n",
       "  <thead>\n",
       "    <tr style=\"text-align: right;\">\n",
       "      <th></th>\n",
       "      <th>user_name</th>\n",
       "      <th>friend_name</th>\n",
       "    </tr>\n",
       "  </thead>\n",
       "  <tbody>\n",
       "    <tr>\n",
       "      <th>1914</th>\n",
       "      <td>Anne</td>\n",
       "      <td>Jessica</td>\n",
       "    </tr>\n",
       "    <tr>\n",
       "      <th>592</th>\n",
       "      <td>Bill</td>\n",
       "      <td>Arana</td>\n",
       "    </tr>\n",
       "    <tr>\n",
       "      <th>2392</th>\n",
       "      <td>Johnny</td>\n",
       "      <td>Stephanie</td>\n",
       "    </tr>\n",
       "    <tr>\n",
       "      <th>2122</th>\n",
       "      <td>Nydia</td>\n",
       "      <td>Samantha</td>\n",
       "    </tr>\n",
       "    <tr>\n",
       "      <th>933</th>\n",
       "      <td>Robert</td>\n",
       "      <td>Paul</td>\n",
       "    </tr>\n",
       "    <tr>\n",
       "      <th>1158</th>\n",
       "      <td>Kevin</td>\n",
       "      <td>Todd</td>\n",
       "    </tr>\n",
       "    <tr>\n",
       "      <th>155</th>\n",
       "      <td>Jennifer</td>\n",
       "      <td>Ginger</td>\n",
       "    </tr>\n",
       "    <tr>\n",
       "      <th>1178</th>\n",
       "      <td>Belle</td>\n",
       "      <td>Emily</td>\n",
       "    </tr>\n",
       "    <tr>\n",
       "      <th>1922</th>\n",
       "      <td>Matthew</td>\n",
       "      <td>Rodney</td>\n",
       "    </tr>\n",
       "    <tr>\n",
       "      <th>1255</th>\n",
       "      <td>Lindsay</td>\n",
       "      <td>Alicia</td>\n",
       "    </tr>\n",
       "  </tbody>\n",
       "</table>\n",
       "</div>"
      ],
      "text/plain": [
       "     user_name friend_name\n",
       "1914      Anne     Jessica\n",
       "592       Bill       Arana\n",
       "2392    Johnny   Stephanie\n",
       "2122     Nydia    Samantha\n",
       "933     Robert        Paul\n",
       "1158     Kevin        Todd\n",
       "155   Jennifer      Ginger\n",
       "1178     Belle       Emily\n",
       "1922   Matthew      Rodney\n",
       "1255   Lindsay      Alicia"
      ]
     },
     "execution_count": 16,
     "metadata": {},
     "output_type": "execute_result"
    }
   ],
   "source": [
    "print(user_friends_network_df.shape)\n",
    "user_friends_network_df.sample(10)"
   ]
  },
  {
   "cell_type": "code",
   "execution_count": 8,
   "metadata": {},
   "outputs": [],
   "source": [
    "# len(users_network_df)-len(users_network_df.drop_duplicates())\n",
    "# users_network_df.loc[users_network_df.duplicated()]\n",
    "# user_friends_network_df = user_friends_network_df.drop_duplicates(subset=['user_name', 'friend_name'])"
   ]
  },
  {
   "cell_type": "code",
   "execution_count": 9,
   "metadata": {},
   "outputs": [
    {
     "data": {
      "text/plain": [
       "(2039, 2)"
      ]
     },
     "execution_count": 9,
     "metadata": {},
     "output_type": "execute_result"
    }
   ],
   "source": [
    "user_friends_network_df.shape"
   ]
  },
  {
   "cell_type": "code",
   "execution_count": 18,
   "metadata": {},
   "outputs": [],
   "source": [
    "user_friends_network_df[\"value\"] = 1\n",
    "user_friends_network_df = user_friends_network_df.groupby([\"user_name\",\"friend_name\"], sort=False, as_index=False).sum()"
   ]
  },
  {
   "cell_type": "code",
   "execution_count": 20,
   "metadata": {},
   "outputs": [
    {
     "data": {
      "text/html": [
       "<div>\n",
       "<style scoped>\n",
       "    .dataframe tbody tr th:only-of-type {\n",
       "        vertical-align: middle;\n",
       "    }\n",
       "\n",
       "    .dataframe tbody tr th {\n",
       "        vertical-align: top;\n",
       "    }\n",
       "\n",
       "    .dataframe thead th {\n",
       "        text-align: right;\n",
       "    }\n",
       "</style>\n",
       "<table border=\"1\" class=\"dataframe\">\n",
       "  <thead>\n",
       "    <tr style=\"text-align: right;\">\n",
       "      <th></th>\n",
       "      <th>user_name</th>\n",
       "      <th>friend_name</th>\n",
       "      <th>value</th>\n",
       "    </tr>\n",
       "  </thead>\n",
       "  <tbody>\n",
       "    <tr>\n",
       "      <th>0</th>\n",
       "      <td>Aimee</td>\n",
       "      <td>Amy</td>\n",
       "      <td>1</td>\n",
       "    </tr>\n",
       "    <tr>\n",
       "      <th>1</th>\n",
       "      <td>Aimee</td>\n",
       "      <td>Kevin</td>\n",
       "      <td>1</td>\n",
       "    </tr>\n",
       "    <tr>\n",
       "      <th>2</th>\n",
       "      <td>Aimee</td>\n",
       "      <td>Naqvi</td>\n",
       "      <td>1</td>\n",
       "    </tr>\n",
       "    <tr>\n",
       "      <th>3</th>\n",
       "      <td>Jennifer</td>\n",
       "      <td>David</td>\n",
       "      <td>2</td>\n",
       "    </tr>\n",
       "    <tr>\n",
       "      <th>4</th>\n",
       "      <td>Jennifer</td>\n",
       "      <td>Naqvi</td>\n",
       "      <td>1</td>\n",
       "    </tr>\n",
       "  </tbody>\n",
       "</table>\n",
       "</div>"
      ],
      "text/plain": [
       "  user_name friend_name  value\n",
       "0     Aimee         Amy      1\n",
       "1     Aimee       Kevin      1\n",
       "2     Aimee       Naqvi      1\n",
       "3  Jennifer       David      2\n",
       "4  Jennifer       Naqvi      1"
      ]
     },
     "execution_count": 20,
     "metadata": {},
     "output_type": "execute_result"
    }
   ],
   "source": [
    "user_friends_network_df.head(5)"
   ]
  },
  {
   "cell_type": "code",
   "execution_count": 21,
   "metadata": {},
   "outputs": [],
   "source": [
    "user_friends_network_graph = nx.from_pandas_edgelist(\n",
    "    user_friends_network_df, source='user_name',\n",
    "    target='friend_name', edge_attr='value', create_using=nx.Graph()\n",
    ")"
   ]
  },
  {
   "cell_type": "code",
   "execution_count": 22,
   "metadata": {},
   "outputs": [],
   "source": [
    "from pyvis.network import Network\n",
    "from community.community_louvain import best_partition\n",
    "\n",
    "node_degree = dict(user_friends_network_graph.degree)\n",
    "\n",
    "#Setting up node size attribute\n",
    "nx.set_node_attributes(user_friends_network_graph, node_degree, 'size')"
   ]
  },
  {
   "cell_type": "code",
   "execution_count": 23,
   "metadata": {},
   "outputs": [],
   "source": [
    "communities = best_partition(user_friends_network_graph)\n",
    "nx.set_node_attributes(user_friends_network_graph, communities, 'group')"
   ]
  },
  {
   "cell_type": "code",
   "execution_count": 24,
   "metadata": {},
   "outputs": [
    {
     "name": "stdout",
     "output_type": "stream",
     "text": [
      "Local cdn resources have problems on chrome/safari when used in jupyter-notebook. \n"
     ]
    },
    {
     "data": {
      "text/html": [
       "\n",
       "        <iframe\n",
       "            width=\"1800px\"\n",
       "            height=\"600px\"\n",
       "            src=\"graph-user-friends.html\"\n",
       "            frameborder=\"0\"\n",
       "            allowfullscreen\n",
       "            \n",
       "        ></iframe>\n",
       "        "
      ],
      "text/plain": [
       "<IPython.lib.display.IFrame at 0x248285a78e0>"
      ]
     },
     "execution_count": 24,
     "metadata": {},
     "output_type": "execute_result"
    }
   ],
   "source": [
    "com_net = Network(notebook=True, width=\"1800px\", height=\"1013px\", bgcolor='#222222', font_color='white')\n",
    "com_net.from_nx(user_friends_network_graph)\n",
    "com_net.show(\"graph-user-friends.html\")"
   ]
  }
 ],
 "metadata": {
  "kernelspec": {
   "display_name": "Python 3.10.6 ('.venv': venv)",
   "language": "python",
   "name": "python3"
  },
  "language_info": {
   "codemirror_mode": {
    "name": "ipython",
    "version": 3
   },
   "file_extension": ".py",
   "mimetype": "text/x-python",
   "name": "python",
   "nbconvert_exporter": "python",
   "pygments_lexer": "ipython3",
   "version": "3.10.6"
  },
  "orig_nbformat": 4,
  "vscode": {
   "interpreter": {
    "hash": "d9ff7789c07841c8f20111f407694babc923276d4f7867ac28afe328a8c2ff35"
   }
  }
 },
 "nbformat": 4,
 "nbformat_minor": 2
}
