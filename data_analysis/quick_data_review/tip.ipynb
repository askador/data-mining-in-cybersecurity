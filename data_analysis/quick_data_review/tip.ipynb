{
 "cells": [
  {
   "cell_type": "code",
   "execution_count": 6,
   "metadata": {},
   "outputs": [],
   "source": [
    "from pathlib import Path\n",
    "import sys\n",
    "import pandas as pd\n",
    "import matplotlib.pyplot as plt\n",
    "import seaborn as sns\n",
    "from data.paths.parquet_paths import TIP"
   ]
  },
  {
   "cell_type": "code",
   "execution_count": 7,
   "metadata": {},
   "outputs": [
    {
     "name": "stdout",
     "output_type": "stream",
     "text": [
      "<class 'pandas.core.frame.DataFrame'>\n",
      "RangeIndex: 100000 entries, 0 to 99999\n",
      "Data columns (total 5 columns):\n",
      " #   Column            Non-Null Count   Dtype \n",
      "---  ------            --------------   ----- \n",
      " 0   text              100000 non-null  object\n",
      " 1   date              100000 non-null  object\n",
      " 2   compliment_count  100000 non-null  int32 \n",
      " 3   business_id       100000 non-null  object\n",
      " 4   user_id           100000 non-null  object\n",
      "dtypes: int32(1), object(4)\n",
      "memory usage: 3.4+ MB\n"
     ]
    }
   ],
   "source": [
    "tip_df = pd.read_parquet(str(TIP))\n",
    "tip_df.info()"
   ]
  },
  {
   "cell_type": "markdown",
   "metadata": {},
   "source": [
    "### Variables - helpers"
   ]
  },
  {
   "cell_type": "code",
   "execution_count": 8,
   "metadata": {},
   "outputs": [],
   "source": [
    "user_id = 'user_id'\n",
    "business_id = 'business_id'\n",
    "text = 'text'\n",
    "date = 'date'\n",
    "compliment_count = 'compliment_count'"
   ]
  },
  {
   "cell_type": "code",
   "execution_count": 17,
   "metadata": {},
   "outputs": [
    {
     "data": {
      "text/html": [
       "<div>\n",
       "<style scoped>\n",
       "    .dataframe tbody tr th:only-of-type {\n",
       "        vertical-align: middle;\n",
       "    }\n",
       "\n",
       "    .dataframe tbody tr th {\n",
       "        vertical-align: top;\n",
       "    }\n",
       "\n",
       "    .dataframe thead th {\n",
       "        text-align: right;\n",
       "    }\n",
       "</style>\n",
       "<table border=\"1\" class=\"dataframe\">\n",
       "  <thead>\n",
       "    <tr style=\"text-align: right;\">\n",
       "      <th></th>\n",
       "      <th>text</th>\n",
       "      <th>date</th>\n",
       "      <th>compliment_count</th>\n",
       "      <th>business_id</th>\n",
       "      <th>user_id</th>\n",
       "    </tr>\n",
       "  </thead>\n",
       "  <tbody>\n",
       "    <tr>\n",
       "      <th>41106</th>\n",
       "      <td>If you are looking to get an ombré, definitely...</td>\n",
       "      <td>2016-03-05 01:29:34</td>\n",
       "      <td>0</td>\n",
       "      <td>3jJ836RF3OBFly_Ry9xojQ</td>\n",
       "      <td>34v-F0IrcSD8XPniAzSXdQ</td>\n",
       "    </tr>\n",
       "    <tr>\n",
       "      <th>18290</th>\n",
       "      <td>this place is closed!</td>\n",
       "      <td>2014-02-08 00:49:57</td>\n",
       "      <td>0</td>\n",
       "      <td>VQL8cwZpQyxsEcMCPw950Q</td>\n",
       "      <td>msbNF-OYhHH6FJ_oQy1-cA</td>\n",
       "    </tr>\n",
       "  </tbody>\n",
       "</table>\n",
       "</div>"
      ],
      "text/plain": [
       "                                                    text                 date  \\\n",
       "41106  If you are looking to get an ombré, definitely...  2016-03-05 01:29:34   \n",
       "18290                              this place is closed!  2014-02-08 00:49:57   \n",
       "\n",
       "       compliment_count             business_id                 user_id  \n",
       "41106                 0  3jJ836RF3OBFly_Ry9xojQ  34v-F0IrcSD8XPniAzSXdQ  \n",
       "18290                 0  VQL8cwZpQyxsEcMCPw950Q  msbNF-OYhHH6FJ_oQy1-cA  "
      ]
     },
     "execution_count": 17,
     "metadata": {},
     "output_type": "execute_result"
    }
   ],
   "source": [
    "tip_df.sample(1)"
   ]
  },
  {
   "cell_type": "code",
   "execution_count": 18,
   "metadata": {},
   "outputs": [],
   "source": [
    "tip_df['text_len'] = tip_df['text'].apply(len)"
   ]
  },
  {
   "cell_type": "code",
   "execution_count": 20,
   "metadata": {},
   "outputs": [
    {
     "data": {
      "text/plain": [
       "count    100000.000000\n",
       "mean         61.299770\n",
       "std          55.314072\n",
       "min           1.000000\n",
       "25%          27.000000\n",
       "50%          47.000000\n",
       "75%          77.000000\n",
       "max         500.000000\n",
       "Name: text_len, dtype: float64"
      ]
     },
     "execution_count": 20,
     "metadata": {},
     "output_type": "execute_result"
    }
   ],
   "source": [
    "tip_df['text_len'].describe()"
   ]
  },
  {
   "cell_type": "code",
   "execution_count": 22,
   "metadata": {},
   "outputs": [
    {
     "data": {
      "text/html": [
       "<div>\n",
       "<style scoped>\n",
       "    .dataframe tbody tr th:only-of-type {\n",
       "        vertical-align: middle;\n",
       "    }\n",
       "\n",
       "    .dataframe tbody tr th {\n",
       "        vertical-align: top;\n",
       "    }\n",
       "\n",
       "    .dataframe thead th {\n",
       "        text-align: right;\n",
       "    }\n",
       "</style>\n",
       "<table border=\"1\" class=\"dataframe\">\n",
       "  <thead>\n",
       "    <tr style=\"text-align: right;\">\n",
       "      <th></th>\n",
       "      <th>text</th>\n",
       "      <th>date</th>\n",
       "      <th>compliment_count</th>\n",
       "      <th>business_id</th>\n",
       "      <th>user_id</th>\n",
       "      <th>text_len</th>\n",
       "    </tr>\n",
       "  </thead>\n",
       "  <tbody>\n",
       "    <tr>\n",
       "      <th>59660</th>\n",
       "      <td>The customer service here it's like 40%. they ...</td>\n",
       "      <td>2013-12-02 01:15:26</td>\n",
       "      <td>0</td>\n",
       "      <td>anhk98859Rmo3mL6X41jbg</td>\n",
       "      <td>AahLoKVDwiv7fKH5iICxtw</td>\n",
       "      <td>500</td>\n",
       "    </tr>\n",
       "    <tr>\n",
       "      <th>82037</th>\n",
       "      <td>Horrible pedicure and service experience! $45 ...</td>\n",
       "      <td>2013-06-07 17:24:22</td>\n",
       "      <td>0</td>\n",
       "      <td>Q9nbGK5msNEaxmcpsNmogA</td>\n",
       "      <td>CjdYuqiL8WjW39fsUt2tRA</td>\n",
       "      <td>500</td>\n",
       "    </tr>\n",
       "    <tr>\n",
       "      <th>10689</th>\n",
       "      <td>These jerks tinted one of my cars and paid whe...</td>\n",
       "      <td>2013-10-09 19:18:06</td>\n",
       "      <td>0</td>\n",
       "      <td>RSUDauY2m-H-eZDoW6WIHg</td>\n",
       "      <td>TeEt3ck4ZZlzwKglH21Nzw</td>\n",
       "      <td>500</td>\n",
       "    </tr>\n",
       "    <tr>\n",
       "      <th>80167</th>\n",
       "      <td>Great place to stay for families, had read som...</td>\n",
       "      <td>2016-08-18 00:22:56</td>\n",
       "      <td>0</td>\n",
       "      <td>GXgRphD4T0NQ4n88rdVyEw</td>\n",
       "      <td>ITrAwq34rhgnBl3NVyS68w</td>\n",
       "      <td>500</td>\n",
       "    </tr>\n",
       "    <tr>\n",
       "      <th>76587</th>\n",
       "      <td>My best friend took my boyfriend and I there l...</td>\n",
       "      <td>2013-12-19 07:32:42</td>\n",
       "      <td>0</td>\n",
       "      <td>_YUcCnJXjUgkS9fSnNi0Ow</td>\n",
       "      <td>nnivZ9f-24NEInWK2D5W9w</td>\n",
       "      <td>500</td>\n",
       "    </tr>\n",
       "  </tbody>\n",
       "</table>\n",
       "</div>"
      ],
      "text/plain": [
       "                                                    text                 date  \\\n",
       "59660  The customer service here it's like 40%. they ...  2013-12-02 01:15:26   \n",
       "82037  Horrible pedicure and service experience! $45 ...  2013-06-07 17:24:22   \n",
       "10689  These jerks tinted one of my cars and paid whe...  2013-10-09 19:18:06   \n",
       "80167  Great place to stay for families, had read som...  2016-08-18 00:22:56   \n",
       "76587  My best friend took my boyfriend and I there l...  2013-12-19 07:32:42   \n",
       "\n",
       "       compliment_count             business_id                 user_id  \\\n",
       "59660                 0  anhk98859Rmo3mL6X41jbg  AahLoKVDwiv7fKH5iICxtw   \n",
       "82037                 0  Q9nbGK5msNEaxmcpsNmogA  CjdYuqiL8WjW39fsUt2tRA   \n",
       "10689                 0  RSUDauY2m-H-eZDoW6WIHg  TeEt3ck4ZZlzwKglH21Nzw   \n",
       "80167                 0  GXgRphD4T0NQ4n88rdVyEw  ITrAwq34rhgnBl3NVyS68w   \n",
       "76587                 0  _YUcCnJXjUgkS9fSnNi0Ow  nnivZ9f-24NEInWK2D5W9w   \n",
       "\n",
       "       text_len  \n",
       "59660       500  \n",
       "82037       500  \n",
       "10689       500  \n",
       "80167       500  \n",
       "76587       500  "
      ]
     },
     "execution_count": 22,
     "metadata": {},
     "output_type": "execute_result"
    }
   ],
   "source": [
    "tip_df.loc[tip_df['text_len'] == 500].sample(5)"
   ]
  },
  {
   "cell_type": "code",
   "execution_count": 16,
   "metadata": {},
   "outputs": [
    {
     "name": "stdout",
     "output_type": "stream",
     "text": [
      "compliment_count\n",
      "0    98466\n",
      "1     1407\n",
      "2      107\n",
      "3       16\n",
      "4        3\n",
      "5        1\n",
      "Name: compliment_count, dtype: int64\n"
     ]
    },
    {
     "data": {
      "image/png": "[encoded data removed]",
      "text/plain": [
       "<Figure size 640x480 with 1 Axes>"
      ]
     },
     "metadata": {},
     "output_type": "display_data"
    }
   ],
   "source": [
    "print(tip_df.groupby(compliment_count)[compliment_count].count())\n",
    "sns.boxenplot(data=tip_df, x=compliment_count)\n",
    "plt.show()"
   ]
  }
 ],
 "metadata": {
  "kernelspec": {
   "display_name": "Python 3.10.6 ('.venv': venv)",
   "language": "python",
   "name": "python3"
  },
  "language_info": {
   "codemirror_mode": {
    "name": "ipython",
    "version": 3
   },
   "file_extension": ".py",
   "mimetype": "text/x-python",
   "name": "python",
   "nbconvert_exporter": "python",
   "pygments_lexer": "ipython3",
   "version": "3.10.6"
  },
  "orig_nbformat": 4,
  "vscode": {
   "interpreter": {
    "hash": "d9ff7789c07841c8f20111f407694babc923276d4f7867ac28afe328a8c2ff35"
   }
  }
 },
 "nbformat": 4,
 "nbformat_minor": 2
}
