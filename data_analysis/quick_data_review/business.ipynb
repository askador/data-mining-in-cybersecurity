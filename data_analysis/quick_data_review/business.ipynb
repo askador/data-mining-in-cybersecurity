{
 "cells": [
  {
   "cell_type": "code",
   "execution_count": 2,
   "metadata": {},
   "outputs": [],
   "source": [
    "import pandas as pd\n",
    "import matplotlib.pyplot as plt\n",
    "import seaborn as sns\n",
    "\n",
    "%store -r business_df\n",
    "business_df: pd.DataFrame = business_df"
   ]
  },
  {
   "cell_type": "code",
   "execution_count": 49,
   "metadata": {},
   "outputs": [
    {
     "name": "stdout",
     "output_type": "stream",
     "text": [
      "<class 'pandas.core.frame.DataFrame'>\n",
      "Index: 20000 entries, iBof5Tl8vrKISbi82tFEvQ to 9999\n",
      "Data columns (total 51 columns):\n",
      " #   Column                      Non-Null Count  Dtype  \n",
      "---  ------                      --------------  -----  \n",
      " 0   name                        10000 non-null  object \n",
      " 1   address                     10000 non-null  object \n",
      " 2   city                        10000 non-null  object \n",
      " 3   state                       10000 non-null  object \n",
      " 4   postal_code                 10000 non-null  object \n",
      " 5   latitude                    10000 non-null  float32\n",
      " 6   longitude                   10000 non-null  float32\n",
      " 7   stars                       10000 non-null  float32\n",
      " 8   review_count                10000 non-null  float64\n",
      " 9   is_open                     10000 non-null  float64\n",
      " 10  categories                  10000 non-null  object \n",
      " 11  hours                       7716 non-null   object \n",
      " 12  AcceptsInsurance            413 non-null    object \n",
      " 13  AgesAllowed                 8 non-null      object \n",
      " 14  Alcohol                     2367 non-null   object \n",
      " 15  Ambience                    2510 non-null   object \n",
      " 16  BYOB                        38 non-null     object \n",
      " 17  BYOBCorkage                 73 non-null     object \n",
      " 18  BestNights                  251 non-null    object \n",
      " 19  BikeParking                 4185 non-null   object \n",
      " 20  BusinessAcceptsBitcoin      808 non-null    object \n",
      " 21  BusinessAcceptsCreditCards  5841 non-null   object \n",
      " 22  BusinessParking             5377 non-null   object \n",
      " 23  ByAppointmentOnly           2827 non-null   object \n",
      " 24  Caters                      2048 non-null   object \n",
      " 25  CoatCheck                   208 non-null    object \n",
      " 26  Corkage                     52 non-null     object \n",
      " 27  DietaryRestrictions         3 non-null      object \n",
      " 28  DogsAllowed                 842 non-null    object \n",
      " 29  DriveThru                   185 non-null    object \n",
      " 30  GoodForDancing              246 non-null    object \n",
      " 31  GoodForKids                 3274 non-null   object \n",
      " 32  GoodForMeal                 1639 non-null   object \n",
      " 33  HairSpecializesIn           66 non-null     object \n",
      " 34  HappyHour                   723 non-null    object \n",
      " 35  HasTV                       2507 non-null   object \n",
      " 36  Music                       382 non-null    object \n",
      " 37  NoiseLevel                  2188 non-null   object \n",
      " 38  Open24Hours                 1 non-null      object \n",
      " 39  OutdoorSeating              2748 non-null   object \n",
      " 40  RestaurantsAttire           2316 non-null   object \n",
      " 41  RestaurantsCounterService   2 non-null      object \n",
      " 42  RestaurantsDelivery         2678 non-null   object \n",
      " 43  RestaurantsGoodForGroups    2637 non-null   object \n",
      " 44  RestaurantsPriceRange2      5243 non-null   object \n",
      " 45  RestaurantsReservations     2612 non-null   object \n",
      " 46  RestaurantsTableService     971 non-null    object \n",
      " 47  RestaurantsTakeOut          3142 non-null   object \n",
      " 48  Smoking                     207 non-null    object \n",
      " 49  WheelchairAccessible        1322 non-null   object \n",
      " 50  WiFi                        20000 non-null  object \n",
      "dtypes: float32(3), float64(2), object(46)\n",
      "memory usage: 8.2+ MB\n"
     ]
    }
   ],
   "source": [
    "\n",
    "\n",
    "business_df.info()"
   ]
  },
  {
   "cell_type": "code",
   "execution_count": 3,
   "metadata": {},
   "outputs": [
    {
     "data": {
      "text/plain": [
       "name                          10000\n",
       "address                       10000\n",
       "city                          10000\n",
       "state                         10000\n",
       "postal_code                   10000\n",
       "latitude                      10000\n",
       "longitude                     10000\n",
       "stars                         10000\n",
       "review_count                  10000\n",
       "is_open                       10000\n",
       "categories                    10000\n",
       "hours                         12284\n",
       "AcceptsInsurance              19587\n",
       "AgesAllowed                   19992\n",
       "Alcohol                       17633\n",
       "Ambience                      17490\n",
       "BYOB                          19962\n",
       "BYOBCorkage                   19927\n",
       "BestNights                    19749\n",
       "BikeParking                   15815\n",
       "BusinessAcceptsBitcoin        19192\n",
       "BusinessAcceptsCreditCards    14159\n",
       "BusinessParking               14623\n",
       "ByAppointmentOnly             17173\n",
       "Caters                        17952\n",
       "CoatCheck                     19792\n",
       "Corkage                       19948\n",
       "DietaryRestrictions           19997\n",
       "DogsAllowed                   19158\n",
       "DriveThru                     19815\n",
       "GoodForDancing                19754\n",
       "GoodForKids                   16726\n",
       "GoodForMeal                   18361\n",
       "HairSpecializesIn             19934\n",
       "HappyHour                     19277\n",
       "HasTV                         17493\n",
       "Music                         19618\n",
       "NoiseLevel                    17812\n",
       "Open24Hours                   19999\n",
       "OutdoorSeating                17252\n",
       "RestaurantsAttire             17684\n",
       "RestaurantsCounterService     19998\n",
       "RestaurantsDelivery           17322\n",
       "RestaurantsGoodForGroups      17363\n",
       "RestaurantsPriceRange2        14757\n",
       "RestaurantsReservations       17388\n",
       "RestaurantsTableService       19029\n",
       "RestaurantsTakeOut            16858\n",
       "Smoking                       19793\n",
       "WheelchairAccessible          18678\n",
       "WiFi                              0\n",
       "dtype: int64"
      ]
     },
     "execution_count": 3,
     "metadata": {},
     "output_type": "execute_result"
    }
   ],
   "source": [
    "business_df.isna().sum()"
   ]
  },
  {
   "cell_type": "markdown",
   "metadata": {},
   "source": [
    "### Variables - helpers"
   ]
  },
  {
   "cell_type": "code",
   "execution_count": 4,
   "metadata": {},
   "outputs": [],
   "source": [
    "name = 'name'\n",
    "address = 'address'\n",
    "city = 'city'\n",
    "state = 'state'\n",
    "postal_code = 'postal_code'\n",
    "latitude = 'latitude'\n",
    "longitude = 'longitude'\n",
    "stars = 'stars'\n",
    "review_count = 'review_count'\n",
    "is_open = 'is_open'\n",
    "categories = 'categories'\n",
    "hours = 'hours'\n",
    "AcceptsInsurance = 'AcceptsInsurance'\n",
    "AgesAllowed = 'AgesAllowed'\n",
    "Alcohol = 'Alcohol'\n",
    "Ambience = 'Ambience'\n",
    "BYOB = 'BYOB'\n",
    "BYOBCorkage = 'BYOBCorkage'\n",
    "BestNights = 'BestNights'\n",
    "BikeParking = 'BikeParking'\n",
    "BusinessAcceptsBitcoin = 'BusinessAcceptsBitcoin'\n",
    "BusinessAcceptsCreditCards = 'BusinessAcceptsCreditCards'\n",
    "BusinessParking = 'BusinessParking'\n",
    "ByAppointmentOnly = 'ByAppointmentOnly'\n",
    "Caters = 'Caters'\n",
    "CoatCheck = 'CoatCheck'\n",
    "Corkage = 'Corkage'\n",
    "DietaryRestrictions = 'DietaryRestrictions'\n",
    "DogsAllowed = 'DogsAllowed'\n",
    "DriveThru = 'DriveThru'\n",
    "GoodForDancing = 'GoodForDancing'\n",
    "GoodForKids = 'GoodForKids'\n",
    "GoodForMeal = 'GoodForMeal'\n",
    "HairSpecializesIn = 'HairSpecializesIn'\n",
    "HappyHour = 'HappyHour'\n",
    "HasTV = 'HasTV'\n",
    "Music = 'Music'\n",
    "NoiseLevel = 'NoiseLevel'\n",
    "Open24Hours = 'Open24Hours'\n",
    "OutdoorSeating = 'OutdoorSeating'\n",
    "RestaurantsAttire = 'RestaurantsAttire'\n",
    "RestaurantsCounterService = 'RestaurantsCounterService'\n",
    "RestaurantsDelivery = 'RestaurantsDelivery'\n",
    "RestaurantsGoodForGroups = 'RestaurantsGoodForGroups'\n",
    "RestaurantsPriceRange2 = 'RestaurantsPriceRange2'\n",
    "RestaurantsReservations = 'RestaurantsReservations'\n",
    "RestaurantsTableService = 'RestaurantsTableService'\n",
    "RestaurantsTakeOut = 'RestaurantsTakeOut'\n",
    "Smoking = 'Smoking'\n",
    "WheelchairAccessible = 'WheelchairAccessible'\n",
    "WiFi = 'WiFi'"
   ]
  },
  {
   "cell_type": "code",
   "execution_count": 5,
   "metadata": {},
   "outputs": [
    {
     "data": {
      "text/html": [
       "<div>\n",
       "<style scoped>\n",
       "    .dataframe tbody tr th:only-of-type {\n",
       "        vertical-align: middle;\n",
       "    }\n",
       "\n",
       "    .dataframe tbody tr th {\n",
       "        vertical-align: top;\n",
       "    }\n",
       "\n",
       "    .dataframe thead th {\n",
       "        text-align: right;\n",
       "    }\n",
       "</style>\n",
       "<table border=\"1\" class=\"dataframe\">\n",
       "  <thead>\n",
       "    <tr style=\"text-align: right;\">\n",
       "      <th></th>\n",
       "      <th>stars</th>\n",
       "      <th>review_count</th>\n",
       "    </tr>\n",
       "  </thead>\n",
       "  <tbody>\n",
       "    <tr>\n",
       "      <th>count</th>\n",
       "      <td>10000.00000</td>\n",
       "      <td>10000.000000</td>\n",
       "    </tr>\n",
       "    <tr>\n",
       "      <th>mean</th>\n",
       "      <td>3.55045</td>\n",
       "      <td>35.067600</td>\n",
       "    </tr>\n",
       "    <tr>\n",
       "      <th>std</th>\n",
       "      <td>1.01852</td>\n",
       "      <td>103.118055</td>\n",
       "    </tr>\n",
       "    <tr>\n",
       "      <th>min</th>\n",
       "      <td>1.00000</td>\n",
       "      <td>3.000000</td>\n",
       "    </tr>\n",
       "    <tr>\n",
       "      <th>25%</th>\n",
       "      <td>3.00000</td>\n",
       "      <td>4.000000</td>\n",
       "    </tr>\n",
       "    <tr>\n",
       "      <th>50%</th>\n",
       "      <td>3.50000</td>\n",
       "      <td>9.000000</td>\n",
       "    </tr>\n",
       "    <tr>\n",
       "      <th>75%</th>\n",
       "      <td>4.50000</td>\n",
       "      <td>26.000000</td>\n",
       "    </tr>\n",
       "    <tr>\n",
       "      <th>max</th>\n",
       "      <td>5.00000</td>\n",
       "      <td>4138.000000</td>\n",
       "    </tr>\n",
       "  </tbody>\n",
       "</table>\n",
       "</div>"
      ],
      "text/plain": [
       "             stars  review_count\n",
       "count  10000.00000  10000.000000\n",
       "mean       3.55045     35.067600\n",
       "std        1.01852    103.118055\n",
       "min        1.00000      3.000000\n",
       "25%        3.00000      4.000000\n",
       "50%        3.50000      9.000000\n",
       "75%        4.50000     26.000000\n",
       "max        5.00000   4138.000000"
      ]
     },
     "execution_count": 5,
     "metadata": {},
     "output_type": "execute_result"
    }
   ],
   "source": [
    "business_df[[stars, review_count]].describe()"
   ]
  },
  {
   "cell_type": "code",
   "execution_count": 6,
   "metadata": {},
   "outputs": [
    {
     "data": {
      "text/html": [
       "<div>\n",
       "<style scoped>\n",
       "    .dataframe tbody tr th:only-of-type {\n",
       "        vertical-align: middle;\n",
       "    }\n",
       "\n",
       "    .dataframe tbody tr th {\n",
       "        vertical-align: top;\n",
       "    }\n",
       "\n",
       "    .dataframe thead th {\n",
       "        text-align: right;\n",
       "    }\n",
       "</style>\n",
       "<table border=\"1\" class=\"dataframe\">\n",
       "  <thead>\n",
       "    <tr style=\"text-align: right;\">\n",
       "      <th></th>\n",
       "      <th>name</th>\n",
       "      <th>address</th>\n",
       "      <th>city</th>\n",
       "      <th>state</th>\n",
       "      <th>postal_code</th>\n",
       "      <th>latitude</th>\n",
       "      <th>longitude</th>\n",
       "      <th>stars</th>\n",
       "      <th>review_count</th>\n",
       "      <th>is_open</th>\n",
       "      <th>...</th>\n",
       "      <th>RestaurantsCounterService</th>\n",
       "      <th>RestaurantsDelivery</th>\n",
       "      <th>RestaurantsGoodForGroups</th>\n",
       "      <th>RestaurantsPriceRange2</th>\n",
       "      <th>RestaurantsReservations</th>\n",
       "      <th>RestaurantsTableService</th>\n",
       "      <th>RestaurantsTakeOut</th>\n",
       "      <th>Smoking</th>\n",
       "      <th>WheelchairAccessible</th>\n",
       "      <th>WiFi</th>\n",
       "    </tr>\n",
       "  </thead>\n",
       "  <tbody>\n",
       "    <tr>\n",
       "      <th>Hb7mHNnGD0dyJs2hScihOA</th>\n",
       "      <td>Amici Restaurant and Lounge</td>\n",
       "      <td>13000 Royalton Rd</td>\n",
       "      <td>North Royalton</td>\n",
       "      <td>OH</td>\n",
       "      <td>44133</td>\n",
       "      <td>41.314301</td>\n",
       "      <td>-81.784691</td>\n",
       "      <td>4.0</td>\n",
       "      <td>29.0</td>\n",
       "      <td>1.0</td>\n",
       "      <td>...</td>\n",
       "      <td>NaN</td>\n",
       "      <td>NaN</td>\n",
       "      <td>NaN</td>\n",
       "      <td>NaN</td>\n",
       "      <td>NaN</td>\n",
       "      <td>NaN</td>\n",
       "      <td>NaN</td>\n",
       "      <td>NaN</td>\n",
       "      <td>NaN</td>\n",
       "      <td>no</td>\n",
       "    </tr>\n",
       "  </tbody>\n",
       "</table>\n",
       "<p>1 rows × 51 columns</p>\n",
       "</div>"
      ],
      "text/plain": [
       "                                               name            address  \\\n",
       "Hb7mHNnGD0dyJs2hScihOA  Amici Restaurant and Lounge  13000 Royalton Rd   \n",
       "\n",
       "                                  city state postal_code   latitude  \\\n",
       "Hb7mHNnGD0dyJs2hScihOA  North Royalton    OH       44133  41.314301   \n",
       "\n",
       "                        longitude  stars  review_count  is_open  ...  \\\n",
       "Hb7mHNnGD0dyJs2hScihOA -81.784691    4.0          29.0      1.0  ...   \n",
       "\n",
       "                       RestaurantsCounterService RestaurantsDelivery  \\\n",
       "Hb7mHNnGD0dyJs2hScihOA                       NaN                 NaN   \n",
       "\n",
       "                       RestaurantsGoodForGroups RestaurantsPriceRange2  \\\n",
       "Hb7mHNnGD0dyJs2hScihOA                      NaN                    NaN   \n",
       "\n",
       "                       RestaurantsReservations RestaurantsTableService  \\\n",
       "Hb7mHNnGD0dyJs2hScihOA                     NaN                     NaN   \n",
       "\n",
       "                       RestaurantsTakeOut Smoking WheelchairAccessible WiFi  \n",
       "Hb7mHNnGD0dyJs2hScihOA                NaN     NaN                  NaN   no  \n",
       "\n",
       "[1 rows x 51 columns]"
      ]
     },
     "execution_count": 6,
     "metadata": {},
     "output_type": "execute_result"
    }
   ],
   "source": [
    "business_df.sample(1)"
   ]
  },
  {
   "cell_type": "code",
   "execution_count": 7,
   "metadata": {},
   "outputs": [
    {
     "data": {
      "image/png": "[encoded data removed]",
      "text/plain": [
       "<Figure size 1000x400 with 2 Axes>"
      ]
     },
     "metadata": {},
     "output_type": "display_data"
    }
   ],
   "source": [
    "plt.figure(figsize=(10, 4))\n",
    "plt.subplot(1, 2, 1)\n",
    "sns.histplot(data=business_df, x=stars)\n",
    "plt.subplot(1, 2, 2)\n",
    "sns.boxplot(data=business_df, x=stars)\n",
    "plt.show()"
   ]
  },
  {
   "cell_type": "code",
   "execution_count": 8,
   "metadata": {},
   "outputs": [
    {
     "name": "stdout",
     "output_type": "stream",
     "text": [
      "review_count_median=9.0\n"
     ]
    },
    {
     "data": {
      "image/png": "[encoded data removed]",
      "text/plain": [
       "<Figure size 640x480 with 1 Axes>"
      ]
     },
     "metadata": {},
     "output_type": "display_data"
    }
   ],
   "source": [
    "review_count_median = business_df[review_count].median()\n",
    "print(f\"{review_count_median=}\")\n",
    "\n",
    "sns.boxenplot(data=business_df, x=review_count)\n",
    "plt.show()"
   ]
  },
  {
   "cell_type": "code",
   "execution_count": 9,
   "metadata": {},
   "outputs": [
    {
     "data": {
      "image/png": "[encoded data removed]",
      "text/plain": [
       "<Figure size 640x480 with 1 Axes>"
      ]
     },
     "metadata": {},
     "output_type": "display_data"
    }
   ],
   "source": [
    "# sns.lineplot(data=business_df, x=stars, y=review_count)\n",
    "# ax = sns.barplot(data=business_df, x=stars, y=review_count)\n",
    "ax = sns.scatterplot(data=business_df, x=stars, y=review_count)\n",
    "plt.show()"
   ]
  },
  {
   "cell_type": "code",
   "execution_count": 48,
   "metadata": {},
   "outputs": [
    {
     "name": "stdout",
     "output_type": "stream",
     "text": [
      "[2000, 8000]\n"
     ]
    },
    {
     "data": {
      "image/png": "[encoded data removed]",
      "text/plain": [
       "<Figure size 640x480 with 1 Axes>"
      ]
     },
     "metadata": {},
     "output_type": "display_data"
    }
   ],
   "source": [
    "y = business_df.groupby(is_open)[is_open].count().values.tolist()\n",
    "print(y)\n",
    "x = ['closed', 'open']\n",
    "sns.barplot(x=x, y=y)\n",
    "plt.show()"
   ]
  }
 ],
 "metadata": {
  "kernelspec": {
   "display_name": "Python 3.10.6 ('.venv': venv)",
   "language": "python",
   "name": "python3"
  },
  "language_info": {
   "codemirror_mode": {
    "name": "ipython",
    "version": 3
   },
   "file_extension": ".py",
   "mimetype": "text/x-python",
   "name": "python",
   "nbconvert_exporter": "python",
   "pygments_lexer": "ipython3",
   "version": "3.10.6"
  },
  "orig_nbformat": 4,
  "vscode": {
   "interpreter": {
    "hash": "d9ff7789c07841c8f20111f407694babc923276d4f7867ac28afe328a8c2ff35"
   }
  }
 },
 "nbformat": 4,
 "nbformat_minor": 2
}
