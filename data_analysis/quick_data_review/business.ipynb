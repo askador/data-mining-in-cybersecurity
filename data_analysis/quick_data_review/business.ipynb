{
 "cells": [
  {
   "cell_type": "code",
   "execution_count": 5,
   "metadata": {},
   "outputs": [],
   "source": [
    "import pandas as pd\n",
    "import matplotlib.pyplot as plt\n",
    "import seaborn as sns\n",
    "import numpy as np\n",
    "from data_analysis.utils import business\n",
    "from data.paths.parquet_paths import BUSINESS"
   ]
  },
  {
   "cell_type": "code",
   "execution_count": 7,
   "metadata": {},
   "outputs": [
    {
     "name": "stdout",
     "output_type": "stream",
     "text": [
      "<class 'pandas.core.frame.DataFrame'>\n",
      "RangeIndex: 10000 entries, 0 to 9999\n",
      "Data columns (total 14 columns):\n",
      " #   Column        Non-Null Count  Dtype  \n",
      "---  ------        --------------  -----  \n",
      " 0   business_id   10000 non-null  object \n",
      " 1   name          10000 non-null  object \n",
      " 2   address       10000 non-null  object \n",
      " 3   attributes    8590 non-null   object \n",
      " 4   city          10000 non-null  object \n",
      " 5   state         10000 non-null  object \n",
      " 6   postal_code   10000 non-null  object \n",
      " 7   latitude      10000 non-null  float32\n",
      " 8   longitude     10000 non-null  float32\n",
      " 9   stars         10000 non-null  float32\n",
      " 10  review_count  10000 non-null  int32  \n",
      " 11  is_open       10000 non-null  int32  \n",
      " 12  categories    10000 non-null  object \n",
      " 13  hours         7716 non-null   object \n",
      "dtypes: float32(3), int32(2), object(9)\n",
      "memory usage: 898.6+ KB\n"
     ]
    }
   ],
   "source": [
    "business_df.info()"
   ]
  },
  {
   "cell_type": "code",
   "execution_count": 8,
   "metadata": {},
   "outputs": [
    {
     "data": {
      "text/plain": [
       "business_id        0\n",
       "name               0\n",
       "address            0\n",
       "attributes      1410\n",
       "city               0\n",
       "state              0\n",
       "postal_code        0\n",
       "latitude           0\n",
       "longitude          0\n",
       "stars              0\n",
       "review_count       0\n",
       "is_open            0\n",
       "categories         0\n",
       "hours           2284\n",
       "dtype: int64"
      ]
     },
     "execution_count": 8,
     "metadata": {},
     "output_type": "execute_result"
    }
   ],
   "source": [
    "business_df.isna().sum()"
   ]
  },
  {
   "cell_type": "markdown",
   "metadata": {},
   "source": [
    "### Variables - helpers"
   ]
  },
  {
   "cell_type": "code",
   "execution_count": 9,
   "metadata": {},
   "outputs": [],
   "source": [
    "name = 'name'\n",
    "address = 'address'\n",
    "city = 'city'\n",
    "state = 'state'\n",
    "postal_code = 'postal_code'\n",
    "latitude = 'latitude'\n",
    "longitude = 'longitude'\n",
    "stars = 'stars'\n",
    "review_count = 'review_count'\n",
    "is_open = 'is_open'\n",
    "categories = 'categories'\n",
    "hours = 'hours'\n",
    "AcceptsInsurance = 'AcceptsInsurance'\n",
    "AgesAllowed = 'AgesAllowed'\n",
    "Alcohol = 'Alcohol'\n",
    "Ambience = 'Ambience'\n",
    "BYOB = 'BYOB'\n",
    "BYOBCorkage = 'BYOBCorkage'\n",
    "BestNights = 'BestNights'\n",
    "BikeParking = 'BikeParking'\n",
    "BusinessAcceptsBitcoin = 'BusinessAcceptsBitcoin'\n",
    "BusinessAcceptsCreditCards = 'BusinessAcceptsCreditCards'\n",
    "BusinessParking = 'BusinessParking'\n",
    "ByAppointmentOnly = 'ByAppointmentOnly'\n",
    "Caters = 'Caters'\n",
    "CoatCheck = 'CoatCheck'\n",
    "Corkage = 'Corkage'\n",
    "DietaryRestrictions = 'DietaryRestrictions'\n",
    "DogsAllowed = 'DogsAllowed'\n",
    "DriveThru = 'DriveThru'\n",
    "GoodForDancing = 'GoodForDancing'\n",
    "GoodForKids = 'GoodForKids'\n",
    "GoodForMeal = 'GoodForMeal'\n",
    "HairSpecializesIn = 'HairSpecializesIn'\n",
    "HappyHour = 'HappyHour'\n",
    "HasTV = 'HasTV'\n",
    "Music = 'Music'\n",
    "NoiseLevel = 'NoiseLevel'\n",
    "Open24Hours = 'Open24Hours'\n",
    "OutdoorSeating = 'OutdoorSeating'\n",
    "RestaurantsAttire = 'RestaurantsAttire'\n",
    "RestaurantsCounterService = 'RestaurantsCounterService'\n",
    "RestaurantsDelivery = 'RestaurantsDelivery'\n",
    "RestaurantsGoodForGroups = 'RestaurantsGoodForGroups'\n",
    "RestaurantsPriceRange2 = 'RestaurantsPriceRange2'\n",
    "RestaurantsReservations = 'RestaurantsReservations'\n",
    "RestaurantsTableService = 'RestaurantsTableService'\n",
    "RestaurantsTakeOut = 'RestaurantsTakeOut'\n",
    "Smoking = 'Smoking'\n",
    "WheelchairAccessible = 'WheelchairAccessible'\n",
    "WiFi = 'WiFi'"
   ]
  },
  {
   "cell_type": "code",
   "execution_count": 10,
   "metadata": {},
   "outputs": [
    {
     "data": {
      "text/html": [
       "<div>\n",
       "<style scoped>\n",
       "    .dataframe tbody tr th:only-of-type {\n",
       "        vertical-align: middle;\n",
       "    }\n",
       "\n",
       "    .dataframe tbody tr th {\n",
       "        vertical-align: top;\n",
       "    }\n",
       "\n",
       "    .dataframe thead th {\n",
       "        text-align: right;\n",
       "    }\n",
       "</style>\n",
       "<table border=\"1\" class=\"dataframe\">\n",
       "  <thead>\n",
       "    <tr style=\"text-align: right;\">\n",
       "      <th></th>\n",
       "      <th>stars</th>\n",
       "      <th>review_count</th>\n",
       "    </tr>\n",
       "  </thead>\n",
       "  <tbody>\n",
       "    <tr>\n",
       "      <th>count</th>\n",
       "      <td>10000.00000</td>\n",
       "      <td>10000.000000</td>\n",
       "    </tr>\n",
       "    <tr>\n",
       "      <th>mean</th>\n",
       "      <td>3.55045</td>\n",
       "      <td>35.067600</td>\n",
       "    </tr>\n",
       "    <tr>\n",
       "      <th>std</th>\n",
       "      <td>1.01852</td>\n",
       "      <td>103.118055</td>\n",
       "    </tr>\n",
       "    <tr>\n",
       "      <th>min</th>\n",
       "      <td>1.00000</td>\n",
       "      <td>3.000000</td>\n",
       "    </tr>\n",
       "    <tr>\n",
       "      <th>25%</th>\n",
       "      <td>3.00000</td>\n",
       "      <td>4.000000</td>\n",
       "    </tr>\n",
       "    <tr>\n",
       "      <th>50%</th>\n",
       "      <td>3.50000</td>\n",
       "      <td>9.000000</td>\n",
       "    </tr>\n",
       "    <tr>\n",
       "      <th>75%</th>\n",
       "      <td>4.50000</td>\n",
       "      <td>26.000000</td>\n",
       "    </tr>\n",
       "    <tr>\n",
       "      <th>max</th>\n",
       "      <td>5.00000</td>\n",
       "      <td>4138.000000</td>\n",
       "    </tr>\n",
       "  </tbody>\n",
       "</table>\n",
       "</div>"
      ],
      "text/plain": [
       "             stars  review_count\n",
       "count  10000.00000  10000.000000\n",
       "mean       3.55045     35.067600\n",
       "std        1.01852    103.118055\n",
       "min        1.00000      3.000000\n",
       "25%        3.00000      4.000000\n",
       "50%        3.50000      9.000000\n",
       "75%        4.50000     26.000000\n",
       "max        5.00000   4138.000000"
      ]
     },
     "execution_count": 10,
     "metadata": {},
     "output_type": "execute_result"
    }
   ],
   "source": [
    "business_df[[stars, review_count]].describe()"
   ]
  },
  {
   "cell_type": "code",
   "execution_count": 11,
   "metadata": {},
   "outputs": [
    {
     "data": {
      "text/html": [
       "<div>\n",
       "<style scoped>\n",
       "    .dataframe tbody tr th:only-of-type {\n",
       "        vertical-align: middle;\n",
       "    }\n",
       "\n",
       "    .dataframe tbody tr th {\n",
       "        vertical-align: top;\n",
       "    }\n",
       "\n",
       "    .dataframe thead th {\n",
       "        text-align: right;\n",
       "    }\n",
       "</style>\n",
       "<table border=\"1\" class=\"dataframe\">\n",
       "  <thead>\n",
       "    <tr style=\"text-align: right;\">\n",
       "      <th></th>\n",
       "      <th>business_id</th>\n",
       "      <th>name</th>\n",
       "      <th>address</th>\n",
       "      <th>attributes</th>\n",
       "      <th>city</th>\n",
       "      <th>state</th>\n",
       "      <th>postal_code</th>\n",
       "      <th>latitude</th>\n",
       "      <th>longitude</th>\n",
       "      <th>stars</th>\n",
       "      <th>review_count</th>\n",
       "      <th>is_open</th>\n",
       "      <th>categories</th>\n",
       "      <th>hours</th>\n",
       "    </tr>\n",
       "  </thead>\n",
       "  <tbody>\n",
       "    <tr>\n",
       "      <th>1917</th>\n",
       "      <td>iFjao7ZpIC212IG3bHcQZQ</td>\n",
       "      <td>Bowdog</td>\n",
       "      <td>6909 Farrell Road SE</td>\n",
       "      <td>None</td>\n",
       "      <td>Calgary</td>\n",
       "      <td>AB</td>\n",
       "      <td>T2H 0T3</td>\n",
       "      <td>50.991535</td>\n",
       "      <td>-114.062752</td>\n",
       "      <td>4.0</td>\n",
       "      <td>12</td>\n",
       "      <td>1</td>\n",
       "      <td>[Dog Walkers, Pet Groomers, Pet Sitting, Pet S...</td>\n",
       "      <td>{'Monday': '6:0-19:0', 'Tuesday': '6:0-19:0', ...</td>\n",
       "    </tr>\n",
       "    <tr>\n",
       "      <th>4911</th>\n",
       "      <td>aOIqI-nVd5KHQo2QUnZvBQ</td>\n",
       "      <td>Designer Cakes By April</td>\n",
       "      <td>2743 S Market St, Ste 104</td>\n",
       "      <td>{'AcceptsInsurance': None, 'AgesAllowed': None...</td>\n",
       "      <td>Gilbert</td>\n",
       "      <td>AZ</td>\n",
       "      <td>85295</td>\n",
       "      <td>33.300510</td>\n",
       "      <td>-111.743141</td>\n",
       "      <td>4.0</td>\n",
       "      <td>33</td>\n",
       "      <td>0</td>\n",
       "      <td>[Bakeries, Food]</td>\n",
       "      <td>{'Monday': '11:0-20:30', 'Tuesday': '11:0-20:3...</td>\n",
       "    </tr>\n",
       "    <tr>\n",
       "      <th>718</th>\n",
       "      <td>IiTLzksQAv9U8CW3s0bmlg</td>\n",
       "      <td>Rudy's Mexican Grill</td>\n",
       "      <td>8257 E Guadalupe Rd, Ste 114</td>\n",
       "      <td>{'AcceptsInsurance': None, 'AgesAllowed': None...</td>\n",
       "      <td>Mesa</td>\n",
       "      <td>AZ</td>\n",
       "      <td>85212</td>\n",
       "      <td>33.363003</td>\n",
       "      <td>-111.655518</td>\n",
       "      <td>4.0</td>\n",
       "      <td>68</td>\n",
       "      <td>1</td>\n",
       "      <td>[Mexican, Restaurants]</td>\n",
       "      <td>{'Monday': '10:0-21:0', 'Tuesday': '10:0-21:0'...</td>\n",
       "    </tr>\n",
       "  </tbody>\n",
       "</table>\n",
       "</div>"
      ],
      "text/plain": [
       "                 business_id                     name  \\\n",
       "1917  iFjao7ZpIC212IG3bHcQZQ                   Bowdog   \n",
       "4911  aOIqI-nVd5KHQo2QUnZvBQ  Designer Cakes By April   \n",
       "718   IiTLzksQAv9U8CW3s0bmlg     Rudy's Mexican Grill   \n",
       "\n",
       "                           address  \\\n",
       "1917          6909 Farrell Road SE   \n",
       "4911     2743 S Market St, Ste 104   \n",
       "718   8257 E Guadalupe Rd, Ste 114   \n",
       "\n",
       "                                             attributes     city state  \\\n",
       "1917                                               None  Calgary    AB   \n",
       "4911  {'AcceptsInsurance': None, 'AgesAllowed': None...  Gilbert    AZ   \n",
       "718   {'AcceptsInsurance': None, 'AgesAllowed': None...     Mesa    AZ   \n",
       "\n",
       "     postal_code   latitude   longitude  stars  review_count  is_open  \\\n",
       "1917     T2H 0T3  50.991535 -114.062752    4.0            12        1   \n",
       "4911       85295  33.300510 -111.743141    4.0            33        0   \n",
       "718        85212  33.363003 -111.655518    4.0            68        1   \n",
       "\n",
       "                                             categories  \\\n",
       "1917  [Dog Walkers, Pet Groomers, Pet Sitting, Pet S...   \n",
       "4911                                   [Bakeries, Food]   \n",
       "718                              [Mexican, Restaurants]   \n",
       "\n",
       "                                                  hours  \n",
       "1917  {'Monday': '6:0-19:0', 'Tuesday': '6:0-19:0', ...  \n",
       "4911  {'Monday': '11:0-20:30', 'Tuesday': '11:0-20:3...  \n",
       "718   {'Monday': '10:0-21:0', 'Tuesday': '10:0-21:0'...  "
      ]
     },
     "execution_count": 11,
     "metadata": {},
     "output_type": "execute_result"
    }
   ],
   "source": [
    "business_df.sample(3)"
   ]
  },
  {
   "cell_type": "code",
   "execution_count": 12,
   "metadata": {},
   "outputs": [
    {
     "data": {
      "image/png": "[encoded data removed]",
      "text/plain": [
       "<Figure size 640x480 with 1 Axes>"
      ]
     },
     "metadata": {},
     "output_type": "display_data"
    }
   ],
   "source": [
    "sns.histplot(data=business_df, x=stars)\n",
    "plt.show()"
   ]
  },
  {
   "cell_type": "code",
   "execution_count": 13,
   "metadata": {},
   "outputs": [
    {
     "name": "stdout",
     "output_type": "stream",
     "text": [
      "review_count_median=9.0\n"
     ]
    },
    {
     "data": {
      "image/png": "[encoded data removed]",
      "text/plain": [
       "<Figure size 640x480 with 1 Axes>"
      ]
     },
     "metadata": {},
     "output_type": "display_data"
    }
   ],
   "source": [
    "review_count_median = business_df[review_count].median()\n",
    "print(f\"{review_count_median=}\")\n",
    "\n",
    "sns.boxenplot(data=business_df, x=review_count)\n",
    "plt.show()"
   ]
  },
  {
   "cell_type": "code",
   "execution_count": 14,
   "metadata": {},
   "outputs": [
    {
     "data": {
      "image/png": "[encoded data removed]",
      "text/plain": [
       "<Figure size 300x300 with 1 Axes>"
      ]
     },
     "metadata": {},
     "output_type": "display_data"
    }
   ],
   "source": [
    "business_df[is_open] = business_df[is_open].apply(lambda x: 'open' if x else 'closed')\n",
    "\n",
    "y = business_df.groupby(is_open)[is_open].count().values.tolist()\n",
    "fig, ax = plt.subplots(figsize=(3, 3))\n",
    "business_df.groupby(is_open)[is_open].count().plot(kind='bar', ax=ax).set_yticks(y)\n",
    "plt.show()"
   ]
  },
  {
   "cell_type": "code",
   "execution_count": 15,
   "metadata": {},
   "outputs": [],
   "source": [
    "from data.paths.parquet_paths import CHECKIN\n",
    "checkin_df = pd.read_parquet(str(CHECKIN))"
   ]
  },
  {
   "cell_type": "code",
   "execution_count": 16,
   "metadata": {},
   "outputs": [
    {
     "name": "stdout",
     "output_type": "stream",
     "text": [
      "6383    False\n",
      "6944    False\n",
      "3476    False\n",
      "5881     True\n",
      "9418     True\n",
      "8785     True\n",
      "4718    False\n",
      "8470    False\n",
      "3740     True\n",
      "446      True\n",
      "Name: not_verified, dtype: bool\n"
     ]
    }
   ],
   "source": [
    "verifying_threshold = 10\n",
    "business_df['not_verified'] = business_df[review_count].transform(lambda x:\n",
    "    (x < verifying_threshold))\n",
    "\n",
    "print(business_df['not_verified'].sample(10))"
   ]
  },
  {
   "cell_type": "code",
   "execution_count": 17,
   "metadata": {},
   "outputs": [
    {
     "name": "stdout",
     "output_type": "stream",
     "text": [
      "9667    False\n",
      "9656    False\n",
      "59      False\n",
      "6449    False\n",
      "7823    False\n",
      "9598    False\n",
      "6172    False\n",
      "6497    False\n",
      "5737    False\n",
      "8823    False\n",
      "Name: young, dtype: bool\n"
     ]
    }
   ],
   "source": [
    "from datetime import datetime, timedelta\n",
    "\n",
    "business_and_checkin = business_df.join(checkin_df, rsuffix='_checkin')\n",
    "business_and_checkin['date'] = business_and_checkin['date'].dropna().apply(lambda x: x[0])\n",
    "business_and_checkin['date'] = pd.to_datetime(business_and_checkin['date'])\n",
    "\n",
    "youth_threshold = timedelta(days=365)\n",
    "dataset_date = business_and_checkin['date'].max()\n",
    "\n",
    "business_df['young'] = business_and_checkin['date'].transform(lambda x:\n",
    "   None if x is None else dataset_date - x < youth_threshold)\n",
    "\n",
    "print(business_df['young'].sample(10))"
   ]
  },
  {
   "cell_type": "code",
   "execution_count": 18,
   "metadata": {},
   "outputs": [],
   "source": [
    "# unpopular bussiness - little reviews, no checkins in last year (?)\n",
    "# dying bussiness - was popular, unpopular now\n",
    "\n",
    "# timeline will be divided into bins\n",
    "# state of each business in each bin period must be calculated independently\n",
    "# then unpopulars are last bin low-runners\n",
    "# and populars are unpopulars with some really popular periods\n",
    "\n",
    "# activities_df \n",
    "# index | bussiness_id | type | date\n",
    "checkin_to_series = pd.Series(checkin_df['date'].to_numpy(), \n",
    "                              index=checkin_df['business_id'].to_numpy())\n",
    "checkin_flat = checkin_to_series.apply(pd.Series).stack()\n",
    "checkin_flat = checkin_flat.reset_index(level=[0])\n"
   ]
  },
  {
   "cell_type": "code",
   "execution_count": 19,
   "metadata": {},
   "outputs": [
    {
     "name": "stdout",
     "output_type": "stream",
     "text": [
      "<class 'pandas.core.frame.DataFrame'>\n",
      "Int64Index: 1167733 entries, 0 to 7\n",
      "Data columns (total 3 columns):\n",
      " #   Column       Non-Null Count    Dtype         \n",
      "---  ------       --------------    -----         \n",
      " 0   business_id  1167733 non-null  object        \n",
      " 1   date         1167733 non-null  datetime64[ns]\n",
      " 2   type         1167733 non-null  object        \n",
      "dtypes: datetime64[ns](1), object(2)\n",
      "memory usage: 35.6+ MB\n"
     ]
    }
   ],
   "source": [
    "checkin_flat['type'] = 'checkin'\n",
    "checkin_flat.columns = ['business_id', 'date', 'type']\n",
    "checkin_flat['date'] = pd.to_datetime(checkin_flat['date'])\n",
    "checkin_flat.info()"
   ]
  },
  {
   "cell_type": "code",
   "execution_count": 20,
   "metadata": {},
   "outputs": [
    {
     "name": "stdout",
     "output_type": "stream",
     "text": [
      "<class 'pandas.core.frame.DataFrame'>\n",
      "RangeIndex: 100000 entries, 0 to 99999\n",
      "Data columns (total 3 columns):\n",
      " #   Column       Non-Null Count   Dtype         \n",
      "---  ------       --------------   -----         \n",
      " 0   business_id  100000 non-null  object        \n",
      " 1   date         100000 non-null  datetime64[ns]\n",
      " 2   type         100000 non-null  object        \n",
      "dtypes: datetime64[ns](1), object(2)\n",
      "memory usage: 2.3+ MB\n"
     ]
    }
   ],
   "source": [
    "from data.paths.parquet_paths import REVIEW\n",
    "review_df = pd.read_parquet(str(REVIEW))\n",
    "\n",
    "review_cut = review_df[['business_id', 'date']].copy()\n",
    "review_cut['date'] = pd.to_datetime(review_cut['date'])\n",
    "review_cut['type'] = 'review'\n",
    "review_cut.info()"
   ]
  },
  {
   "cell_type": "code",
   "execution_count": 21,
   "metadata": {},
   "outputs": [
    {
     "data": {
      "text/html": [
       "<div>\n",
       "<style scoped>\n",
       "    .dataframe tbody tr th:only-of-type {\n",
       "        vertical-align: middle;\n",
       "    }\n",
       "\n",
       "    .dataframe tbody tr th {\n",
       "        vertical-align: top;\n",
       "    }\n",
       "\n",
       "    .dataframe thead th {\n",
       "        text-align: right;\n",
       "    }\n",
       "</style>\n",
       "<table border=\"1\" class=\"dataframe\">\n",
       "  <thead>\n",
       "    <tr style=\"text-align: right;\">\n",
       "      <th></th>\n",
       "      <th>business_id</th>\n",
       "      <th>date</th>\n",
       "      <th>type</th>\n",
       "    </tr>\n",
       "  </thead>\n",
       "  <tbody>\n",
       "    <tr>\n",
       "      <th>34</th>\n",
       "      <td>0PVxodALQu-soL5J8bjerQ</td>\n",
       "      <td>2011-06-23 00:21:48</td>\n",
       "      <td>checkin</td>\n",
       "    </tr>\n",
       "    <tr>\n",
       "      <th>4488</th>\n",
       "      <td>0CB7YB1qRSWLQvMbHw3Fmw</td>\n",
       "      <td>2016-05-25 19:02:22</td>\n",
       "      <td>checkin</td>\n",
       "    </tr>\n",
       "    <tr>\n",
       "      <th>391</th>\n",
       "      <td>05BpxQYVbywxliQ9yA0CKw</td>\n",
       "      <td>2016-05-14 02:35:30</td>\n",
       "      <td>checkin</td>\n",
       "    </tr>\n",
       "    <tr>\n",
       "      <th>152</th>\n",
       "      <td>-io9loC11Z73p_QDAWytpA</td>\n",
       "      <td>2019-06-15 22:17:16</td>\n",
       "      <td>checkin</td>\n",
       "    </tr>\n",
       "    <tr>\n",
       "      <th>3</th>\n",
       "      <td>2GfKCR3S8I2m0iiyEd3sKA</td>\n",
       "      <td>2011-07-16 20:23:34</td>\n",
       "      <td>checkin</td>\n",
       "    </tr>\n",
       "    <tr>\n",
       "      <th>4</th>\n",
       "      <td>-xC1h0CMZgbW9z8cxwI6pw</td>\n",
       "      <td>2011-07-11 02:16:39</td>\n",
       "      <td>checkin</td>\n",
       "    </tr>\n",
       "    <tr>\n",
       "      <th>330</th>\n",
       "      <td>23gvCOhQcO5ahQ_Ou-OmgA</td>\n",
       "      <td>2013-12-14 19:03:42</td>\n",
       "      <td>checkin</td>\n",
       "    </tr>\n",
       "    <tr>\n",
       "      <th>59</th>\n",
       "      <td>10d6PDujQkQmrvQMK6V0xA</td>\n",
       "      <td>2015-07-12 00:58:31</td>\n",
       "      <td>checkin</td>\n",
       "    </tr>\n",
       "    <tr>\n",
       "      <th>153</th>\n",
       "      <td>0F0drnShYJr6HhyQjA3Tpg</td>\n",
       "      <td>2012-10-15 11:28:25</td>\n",
       "      <td>checkin</td>\n",
       "    </tr>\n",
       "    <tr>\n",
       "      <th>4269</th>\n",
       "      <td>-ed0Yc9on37RoIoG2ZgxBA</td>\n",
       "      <td>2016-03-09 20:21:34</td>\n",
       "      <td>checkin</td>\n",
       "    </tr>\n",
       "  </tbody>\n",
       "</table>\n",
       "</div>"
      ],
      "text/plain": [
       "                 business_id                date     type\n",
       "34    0PVxodALQu-soL5J8bjerQ 2011-06-23 00:21:48  checkin\n",
       "4488  0CB7YB1qRSWLQvMbHw3Fmw 2016-05-25 19:02:22  checkin\n",
       "391   05BpxQYVbywxliQ9yA0CKw 2016-05-14 02:35:30  checkin\n",
       "152   -io9loC11Z73p_QDAWytpA 2019-06-15 22:17:16  checkin\n",
       "3     2GfKCR3S8I2m0iiyEd3sKA 2011-07-16 20:23:34  checkin\n",
       "4     -xC1h0CMZgbW9z8cxwI6pw 2011-07-11 02:16:39  checkin\n",
       "330   23gvCOhQcO5ahQ_Ou-OmgA 2013-12-14 19:03:42  checkin\n",
       "59    10d6PDujQkQmrvQMK6V0xA 2015-07-12 00:58:31  checkin\n",
       "153   0F0drnShYJr6HhyQjA3Tpg 2012-10-15 11:28:25  checkin\n",
       "4269  -ed0Yc9on37RoIoG2ZgxBA 2016-03-09 20:21:34  checkin"
      ]
     },
     "execution_count": 21,
     "metadata": {},
     "output_type": "execute_result"
    }
   ],
   "source": [
    "activity_df = pd.concat([checkin_flat, review_cut])\n",
    "activity_df = activity_df.sort_values(by='date')\n",
    "activity_df.sample(10)"
   ]
  },
  {
   "cell_type": "code",
   "execution_count": 22,
   "metadata": {},
   "outputs": [
    {
     "data": {
      "text/html": [
       "<div>\n",
       "<style scoped>\n",
       "    .dataframe tbody tr th:only-of-type {\n",
       "        vertical-align: middle;\n",
       "    }\n",
       "\n",
       "    .dataframe tbody tr th {\n",
       "        vertical-align: top;\n",
       "    }\n",
       "\n",
       "    .dataframe thead th {\n",
       "        text-align: right;\n",
       "    }\n",
       "</style>\n",
       "<table border=\"1\" class=\"dataframe\">\n",
       "  <thead>\n",
       "    <tr style=\"text-align: right;\">\n",
       "      <th></th>\n",
       "      <th>business_id</th>\n",
       "      <th>date</th>\n",
       "      <th>type</th>\n",
       "      <th>date_bin</th>\n",
       "    </tr>\n",
       "  </thead>\n",
       "  <tbody>\n",
       "    <tr>\n",
       "      <th>2727</th>\n",
       "      <td>0W_pPAiTXgazY2mtX6o0_w</td>\n",
       "      <td>2017-07-08 20:14:40</td>\n",
       "      <td>checkin</td>\n",
       "      <td>46</td>\n",
       "    </tr>\n",
       "    <tr>\n",
       "      <th>3529</th>\n",
       "      <td>0QzCeORfF8EY34UODWRV9A</td>\n",
       "      <td>2015-02-23 01:02:25</td>\n",
       "      <td>checkin</td>\n",
       "      <td>37</td>\n",
       "    </tr>\n",
       "    <tr>\n",
       "      <th>46</th>\n",
       "      <td>27nh-2hNnNkf2dBk9aeKHQ</td>\n",
       "      <td>2015-07-21 14:22:52</td>\n",
       "      <td>checkin</td>\n",
       "      <td>39</td>\n",
       "    </tr>\n",
       "    <tr>\n",
       "      <th>407</th>\n",
       "      <td>-qxj-HqHo2tcK-jQVjAp1g</td>\n",
       "      <td>2013-01-21 21:27:10</td>\n",
       "      <td>checkin</td>\n",
       "      <td>30</td>\n",
       "    </tr>\n",
       "    <tr>\n",
       "      <th>1474</th>\n",
       "      <td>-oUM2uISux96lMGeawHIOA</td>\n",
       "      <td>2018-03-17 21:27:51</td>\n",
       "      <td>checkin</td>\n",
       "      <td>49</td>\n",
       "    </tr>\n",
       "    <tr>\n",
       "      <th>995</th>\n",
       "      <td>0Buxoc0cRqjpvkezo3bqog</td>\n",
       "      <td>2019-12-07 20:21:55</td>\n",
       "      <td>checkin</td>\n",
       "      <td>55</td>\n",
       "    </tr>\n",
       "    <tr>\n",
       "      <th>2</th>\n",
       "      <td>-UunZRrXJdL4whe9fma0Kg</td>\n",
       "      <td>2013-08-30 23:16:25</td>\n",
       "      <td>checkin</td>\n",
       "      <td>32</td>\n",
       "    </tr>\n",
       "    <tr>\n",
       "      <th>470</th>\n",
       "      <td>1bALsE6aZE23mGV2WPxN_g</td>\n",
       "      <td>2016-06-21 18:27:33</td>\n",
       "      <td>checkin</td>\n",
       "      <td>42</td>\n",
       "    </tr>\n",
       "    <tr>\n",
       "      <th>642</th>\n",
       "      <td>0LGnU7V3nepi8NUNzyQOXw</td>\n",
       "      <td>2015-12-14 21:44:38</td>\n",
       "      <td>checkin</td>\n",
       "      <td>40</td>\n",
       "    </tr>\n",
       "    <tr>\n",
       "      <th>2354</th>\n",
       "      <td>0ldxjei8v4q95fApIei3Lg</td>\n",
       "      <td>2014-12-22 05:56:13</td>\n",
       "      <td>checkin</td>\n",
       "      <td>37</td>\n",
       "    </tr>\n",
       "  </tbody>\n",
       "</table>\n",
       "</div>"
      ],
      "text/plain": [
       "                 business_id                date     type date_bin\n",
       "2727  0W_pPAiTXgazY2mtX6o0_w 2017-07-08 20:14:40  checkin       46\n",
       "3529  0QzCeORfF8EY34UODWRV9A 2015-02-23 01:02:25  checkin       37\n",
       "46    27nh-2hNnNkf2dBk9aeKHQ 2015-07-21 14:22:52  checkin       39\n",
       "407   -qxj-HqHo2tcK-jQVjAp1g 2013-01-21 21:27:10  checkin       30\n",
       "1474  -oUM2uISux96lMGeawHIOA 2018-03-17 21:27:51  checkin       49\n",
       "995   0Buxoc0cRqjpvkezo3bqog 2019-12-07 20:21:55  checkin       55\n",
       "2     -UunZRrXJdL4whe9fma0Kg 2013-08-30 23:16:25  checkin       32\n",
       "470   1bALsE6aZE23mGV2WPxN_g 2016-06-21 18:27:33  checkin       42\n",
       "642   0LGnU7V3nepi8NUNzyQOXw 2015-12-14 21:44:38  checkin       40\n",
       "2354  0ldxjei8v4q95fApIei3Lg 2014-12-22 05:56:13  checkin       37"
      ]
     },
     "execution_count": 22,
     "metadata": {},
     "output_type": "execute_result"
    }
   ],
   "source": [
    "bin_count = 56 # 14 years of polling, bin for each year quarter\n",
    "\n",
    "activity_df['date_bin'] = pd.cut(activity_df['date'], bins = bin_count, labels = range(bin_count))\n",
    "activity_df.sample(10)"
   ]
  },
  {
   "cell_type": "code",
   "execution_count": 23,
   "metadata": {},
   "outputs": [
    {
     "data": {
      "text/html": [
       "<div>\n",
       "<style scoped>\n",
       "    .dataframe tbody tr th:only-of-type {\n",
       "        vertical-align: middle;\n",
       "    }\n",
       "\n",
       "    .dataframe tbody tr th {\n",
       "        vertical-align: top;\n",
       "    }\n",
       "\n",
       "    .dataframe thead th {\n",
       "        text-align: right;\n",
       "    }\n",
       "</style>\n",
       "<table border=\"1\" class=\"dataframe\">\n",
       "  <thead>\n",
       "    <tr style=\"text-align: right;\">\n",
       "      <th></th>\n",
       "      <th>business_id</th>\n",
       "      <th>date_bin</th>\n",
       "      <th>checkins</th>\n",
       "      <th>reviews</th>\n",
       "    </tr>\n",
       "  </thead>\n",
       "  <tbody>\n",
       "    <tr>\n",
       "      <th>0</th>\n",
       "      <td>--1UhMGODdWsrMastO9DZw</td>\n",
       "      <td>0</td>\n",
       "      <td>0</td>\n",
       "      <td>0</td>\n",
       "    </tr>\n",
       "    <tr>\n",
       "      <th>1</th>\n",
       "      <td>--1UhMGODdWsrMastO9DZw</td>\n",
       "      <td>1</td>\n",
       "      <td>0</td>\n",
       "      <td>0</td>\n",
       "    </tr>\n",
       "    <tr>\n",
       "      <th>2</th>\n",
       "      <td>--1UhMGODdWsrMastO9DZw</td>\n",
       "      <td>2</td>\n",
       "      <td>0</td>\n",
       "      <td>0</td>\n",
       "    </tr>\n",
       "    <tr>\n",
       "      <th>3</th>\n",
       "      <td>--1UhMGODdWsrMastO9DZw</td>\n",
       "      <td>3</td>\n",
       "      <td>0</td>\n",
       "      <td>0</td>\n",
       "    </tr>\n",
       "    <tr>\n",
       "      <th>4</th>\n",
       "      <td>--1UhMGODdWsrMastO9DZw</td>\n",
       "      <td>4</td>\n",
       "      <td>0</td>\n",
       "      <td>0</td>\n",
       "    </tr>\n",
       "    <tr>\n",
       "      <th>...</th>\n",
       "      <td>...</td>\n",
       "      <td>...</td>\n",
       "      <td>...</td>\n",
       "      <td>...</td>\n",
       "    </tr>\n",
       "    <tr>\n",
       "      <th>1248179</th>\n",
       "      <td>zzwhN7x37nyjP0ZM8oiHmw</td>\n",
       "      <td>51</td>\n",
       "      <td>0</td>\n",
       "      <td>0</td>\n",
       "    </tr>\n",
       "    <tr>\n",
       "      <th>1248180</th>\n",
       "      <td>zzwhN7x37nyjP0ZM8oiHmw</td>\n",
       "      <td>52</td>\n",
       "      <td>0</td>\n",
       "      <td>0</td>\n",
       "    </tr>\n",
       "    <tr>\n",
       "      <th>1248181</th>\n",
       "      <td>zzwhN7x37nyjP0ZM8oiHmw</td>\n",
       "      <td>53</td>\n",
       "      <td>0</td>\n",
       "      <td>0</td>\n",
       "    </tr>\n",
       "    <tr>\n",
       "      <th>1248182</th>\n",
       "      <td>zzwhN7x37nyjP0ZM8oiHmw</td>\n",
       "      <td>54</td>\n",
       "      <td>0</td>\n",
       "      <td>0</td>\n",
       "    </tr>\n",
       "    <tr>\n",
       "      <th>1248183</th>\n",
       "      <td>zzwhN7x37nyjP0ZM8oiHmw</td>\n",
       "      <td>55</td>\n",
       "      <td>0</td>\n",
       "      <td>0</td>\n",
       "    </tr>\n",
       "  </tbody>\n",
       "</table>\n",
       "<p>1248184 rows × 4 columns</p>\n",
       "</div>"
      ],
      "text/plain": [
       "                    business_id date_bin  checkins  reviews\n",
       "0        --1UhMGODdWsrMastO9DZw        0         0        0\n",
       "1        --1UhMGODdWsrMastO9DZw        1         0        0\n",
       "2        --1UhMGODdWsrMastO9DZw        2         0        0\n",
       "3        --1UhMGODdWsrMastO9DZw        3         0        0\n",
       "4        --1UhMGODdWsrMastO9DZw        4         0        0\n",
       "...                         ...      ...       ...      ...\n",
       "1248179  zzwhN7x37nyjP0ZM8oiHmw       51         0        0\n",
       "1248180  zzwhN7x37nyjP0ZM8oiHmw       52         0        0\n",
       "1248181  zzwhN7x37nyjP0ZM8oiHmw       53         0        0\n",
       "1248182  zzwhN7x37nyjP0ZM8oiHmw       54         0        0\n",
       "1248183  zzwhN7x37nyjP0ZM8oiHmw       55         0        0\n",
       "\n",
       "[1248184 rows x 4 columns]"
      ]
     },
     "execution_count": 23,
     "metadata": {},
     "output_type": "execute_result"
    }
   ],
   "source": [
    "# need count of activities for each date bin groupby(bussiness_id, bin)\n",
    "activity_binned = activity_df.copy()\n",
    "activity_binned = activity_binned.drop(['date'], axis=1)\n",
    "activity_binned = activity_binned.groupby(['business_id', 'date_bin', 'type']).size().reset_index(name='count')\n",
    "\n",
    "activity_binned['checkins'] = activity_binned.apply(lambda x: x[3] if x[2] == 'checkin' else 0, axis=1)\n",
    "activity_binned['reviews'] = activity_binned.apply(lambda x: x[3] if x[2] == 'review' else 0, axis=1)\n",
    "activity_binned = activity_binned.drop(['type', 'count'], axis = 1)\n",
    "\n",
    "activity_binned.groupby(['business_id', 'date_bin']).sum().reset_index()"
   ]
  },
  {
   "cell_type": "code",
   "execution_count": 33,
   "metadata": {},
   "outputs": [
    {
     "name": "stderr",
     "output_type": "stream",
     "text": [
      "C:\\Users\\strel\\AppData\\Local\\Temp\\ipykernel_3216\\4159905071.py:6: UserWarning: Boolean Series key will be reindexed to match DataFrame index.\n",
      "  unpopular_bussinesses = (last_bin_activity[last_bin_activity.checkins <= unpopular_checkins]\n"
     ]
    },
    {
     "data": {
      "text/plain": [
       "110        --1UhMGODdWsrMastO9DZw\n",
       "223        --6MefnULPED_I942VcFNA\n",
       "335        --7zmmkVg-IMGaXbuVd0SQ\n",
       "446        --8LPVSo5i0Oo61X01sV9A\n",
       "558        --9QQLMTbFzLJ_oT-ON3Xw\n",
       "                    ...          \n",
       "2495918    zz6S_y6C39iRU3h81Z1e2A\n",
       "2496030    zzSYBWuv_fXGtSgsO-6_1g\n",
       "2496142    zzlZJVkEhOzR2tJOLHcF2A\n",
       "2496254    zzuOCWxuY39YJ1wnTwQ0Lg\n",
       "2496366    zzwhN7x37nyjP0ZM8oiHmw\n",
       "Name: business_id, Length: 22289, dtype: object"
      ]
     },
     "execution_count": 33,
     "metadata": {},
     "output_type": "execute_result"
    }
   ],
   "source": [
    "# business_id | checkins | reviews\n",
    "last_bin_activity = activity_binned[activity_binned.date_bin == bin_count - 1]\n",
    "\n",
    "unpopular_checkins, unpopular_reviews = 0, 3\n",
    "\n",
    "unpopular_bussinesses = (last_bin_activity[last_bin_activity.checkins <= unpopular_checkins]\n",
    "                                          [last_bin_activity.reviews <= unpopular_reviews]\n",
    "                        .drop(['date_bin'], axis=1)\n",
    ")\n",
    "\n",
    "unpopular_bussinesses = unpopular_bussinesses['business_id'].drop_duplicates()\n",
    "unpopular_bussinesses"
   ]
  },
  {
   "cell_type": "code",
   "execution_count": 36,
   "metadata": {},
   "outputs": [
    {
     "data": {
      "text/plain": [
       "18107      -2ToCaDFpTNmmg3QFzxcWg\n",
       "43999      -8F04F54iDT6VgWPCgybug\n",
       "61457      -BbnAc9YEO6pjvJGEtFbVQ\n",
       "66597      -CbDQXiuKzPQ0_jiUz03aw\n",
       "82843      -FtngCwHCD2tRlH8jpj_Ag\n",
       "                    ...          \n",
       "2486137    zYb4kj2R54R2YPeNm829BA\n",
       "2487397    zbVJRIXEU0LVGWpU1Wb--A\n",
       "2490397    zidkKI_N1OPxsiddTOQH_Q\n",
       "2492653    zpGCFAt_MydbQN4EsXee6w\n",
       "2494779    zuVvDYJkKAbXQTTBauAqJQ\n",
       "Name: business_id, Length: 867, dtype: object"
      ]
     },
     "execution_count": 36,
     "metadata": {},
     "output_type": "execute_result"
    }
   ],
   "source": [
    "popular_checkins, popular_reviews = 0, 5\n",
    "\n",
    "oncepopular_businesses = (activity_binned[activity_binned.checkins >= popular_checkins]\n",
    "                                         [activity_binned.reviews >= popular_reviews]\n",
    "                         .drop(['date_bin'], axis=1))\n",
    "\n",
    "oncepopular_businesses = oncepopular_businesses['business_id'].drop_duplicates()\n",
    "oncepopular_businesses"
   ]
  },
  {
   "cell_type": "code",
   "execution_count": 38,
   "metadata": {},
   "outputs": [
    {
     "data": {
      "text/html": [
       "<div>\n",
       "<style scoped>\n",
       "    .dataframe tbody tr th:only-of-type {\n",
       "        vertical-align: middle;\n",
       "    }\n",
       "\n",
       "    .dataframe tbody tr th {\n",
       "        vertical-align: top;\n",
       "    }\n",
       "\n",
       "    .dataframe thead th {\n",
       "        text-align: right;\n",
       "    }\n",
       "</style>\n",
       "<table border=\"1\" class=\"dataframe\">\n",
       "  <thead>\n",
       "    <tr style=\"text-align: right;\">\n",
       "      <th></th>\n",
       "      <th>business_id</th>\n",
       "    </tr>\n",
       "  </thead>\n",
       "  <tbody>\n",
       "    <tr>\n",
       "      <th>0</th>\n",
       "      <td>-2ToCaDFpTNmmg3QFzxcWg</td>\n",
       "    </tr>\n",
       "    <tr>\n",
       "      <th>1</th>\n",
       "      <td>-8F04F54iDT6VgWPCgybug</td>\n",
       "    </tr>\n",
       "    <tr>\n",
       "      <th>2</th>\n",
       "      <td>-BbnAc9YEO6pjvJGEtFbVQ</td>\n",
       "    </tr>\n",
       "    <tr>\n",
       "      <th>3</th>\n",
       "      <td>-CbDQXiuKzPQ0_jiUz03aw</td>\n",
       "    </tr>\n",
       "    <tr>\n",
       "      <th>4</th>\n",
       "      <td>-FtngCwHCD2tRlH8jpj_Ag</td>\n",
       "    </tr>\n",
       "    <tr>\n",
       "      <th>...</th>\n",
       "      <td>...</td>\n",
       "    </tr>\n",
       "    <tr>\n",
       "      <th>862</th>\n",
       "      <td>zYb4kj2R54R2YPeNm829BA</td>\n",
       "    </tr>\n",
       "    <tr>\n",
       "      <th>863</th>\n",
       "      <td>zbVJRIXEU0LVGWpU1Wb--A</td>\n",
       "    </tr>\n",
       "    <tr>\n",
       "      <th>864</th>\n",
       "      <td>zidkKI_N1OPxsiddTOQH_Q</td>\n",
       "    </tr>\n",
       "    <tr>\n",
       "      <th>865</th>\n",
       "      <td>zpGCFAt_MydbQN4EsXee6w</td>\n",
       "    </tr>\n",
       "    <tr>\n",
       "      <th>866</th>\n",
       "      <td>zuVvDYJkKAbXQTTBauAqJQ</td>\n",
       "    </tr>\n",
       "  </tbody>\n",
       "</table>\n",
       "<p>867 rows × 1 columns</p>\n",
       "</div>"
      ],
      "text/plain": [
       "                business_id\n",
       "0    -2ToCaDFpTNmmg3QFzxcWg\n",
       "1    -8F04F54iDT6VgWPCgybug\n",
       "2    -BbnAc9YEO6pjvJGEtFbVQ\n",
       "3    -CbDQXiuKzPQ0_jiUz03aw\n",
       "4    -FtngCwHCD2tRlH8jpj_Ag\n",
       "..                      ...\n",
       "862  zYb4kj2R54R2YPeNm829BA\n",
       "863  zbVJRIXEU0LVGWpU1Wb--A\n",
       "864  zidkKI_N1OPxsiddTOQH_Q\n",
       "865  zpGCFAt_MydbQN4EsXee6w\n",
       "866  zuVvDYJkKAbXQTTBauAqJQ\n",
       "\n",
       "[867 rows x 1 columns]"
      ]
     },
     "execution_count": 38,
     "metadata": {},
     "output_type": "execute_result"
    }
   ],
   "source": [
    "dying_businesses = pd.merge(unpopular_bussinesses, \n",
    "                            oncepopular_businesses)\n",
    "dying_businesses"
   ]
  }
 ],
 "metadata": {
  "kernelspec": {
   "display_name": "Python 3.10.4 ('.venv': venv)",
   "language": "python",
   "name": "python3"
  },
  "language_info": {
   "codemirror_mode": {
    "name": "ipython",
    "version": 3
   },
   "file_extension": ".py",
   "mimetype": "text/x-python",
   "name": "python",
   "nbconvert_exporter": "python",
   "pygments_lexer": "ipython3",
   "version": "3.10.4"
  },
  "orig_nbformat": 4,
  "vscode": {
   "interpreter": {
    "hash": "7af5b7636a63040c819b7e4f76be3d27ebb81c92fb1ea19a29cd307dc58570fb"
   }
  }
 },
 "nbformat": 4,
 "nbformat_minor": 2
}
